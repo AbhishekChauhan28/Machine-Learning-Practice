{
 "cells": [
  {
   "cell_type": "markdown",
   "id": "6f2b500e-d3c9-4c8e-85c3-fae433a4e9ae",
   "metadata": {},
   "source": [
    "# Hyperparemeter Optimization using Keras Tuner\n",
    "\n",
    "[KerasTuner](https://keras.io/guides/keras_tuner/getting_started/)  is an easy-to-use, scalable hyperparameter optimization framework that solves the pain points of hyperparameter search. Easily configure your search space with a define-by-run syntax, then leverage one of the available search algorithms to find the best hyperparameter values for your models. KerasTuner comes with Bayesian Optimization, Hyperband, and Random Search algorithms built-in.\n",
    "\n",
    "**Install** keras_tuner package:\n",
    "`$ pip install keras-tuner`"
   ]
  },
  {
   "cell_type": "markdown",
   "id": "cf238355-24b2-4fa3-b7e3-17c2949a5e96",
   "metadata": {},
   "source": [
    "# Import required packages/APIs"
   ]
  },
  {
   "cell_type": "code",
   "execution_count": 1,
   "id": "ee30e66a-c5cc-43cf-9d4a-07a6e9658c32",
   "metadata": {},
   "outputs": [
    {
     "name": "stderr",
     "output_type": "stream",
     "text": [
      "2021-08-16 14:27:02.023829: W tensorflow/stream_executor/platform/default/dso_loader.cc:64] Could not load dynamic library 'libcudart.so.11.0'; dlerror: libcudart.so.11.0: cannot open shared object file: No such file or directory; LD_LIBRARY_PATH: /home/mldev/ATM/pkgs/R-deps/zlib/zlib_1.2.8/lib:/home/mldev/ATM/pkgs/R-deps/pcre/pcre_8.35/lib:/home/mldev/ATM/pkgs/R-deps/xz/xz_5.2.3/lib:/home/mldev/ATM/pkgs/R-deps/bzip2/bzip2_1.0.6/lib:/usr/local/cuda/lib64::/home/mldev/ATM/pkgs/R-deps/curl/curl_7.49.0/lib:/home/mldev/ATM/pkgs/R-deps/R_3.6.0/lib64:/home/mldev/ATM/pkgs/libxml/libxml2_2.7.3/lib\n",
      "2021-08-16 14:27:02.023881: I tensorflow/stream_executor/cuda/cudart_stub.cc:29] Ignore above cudart dlerror if you do not have a GPU set up on your machine.\n"
     ]
    }
   ],
   "source": [
    "from tensorflow.keras.datasets import cifar10\n",
    "\n",
    "from sklearn.model_selection import train_test_split\n",
    "from matplotlib import pyplot as plt\n",
    "import seaborn as sns\n",
    "\n",
    "from tensorflow.keras.models import Sequential\n",
    "from tensorflow.keras.layers import Conv2D, MaxPooling2D, Dense, Flatten\n",
    "from tensorflow.keras.optimizers import Adam\n",
    "from tensorflow.keras.losses import SparseCategoricalCrossentropy\n",
    "\n",
    "from keras_tuner.tuners import RandomSearch\n",
    "\n",
    "from sklearn.metrics import confusion_matrix, classification_report"
   ]
  },
  {
   "cell_type": "markdown",
   "id": "9d896197-a268-4217-9252-20ab7f84bb0b",
   "metadata": {},
   "source": [
    "# Load and prepare Data"
   ]
  },
  {
   "cell_type": "code",
   "execution_count": 2,
   "id": "de899788-b40d-4b11-a886-c4a4462165a3",
   "metadata": {},
   "outputs": [],
   "source": [
    "(X_train, y_train), (X_test, y_test) = cifar10.load_data()\n",
    "X_train, X_val, y_train, y_val = train_test_split(X_train, y_train, test_size=0.20, random_state=42)"
   ]
  },
  {
   "cell_type": "code",
   "execution_count": 3,
   "id": "212dfdcc-510c-4683-aa73-774639973beb",
   "metadata": {},
   "outputs": [],
   "source": [
    "# Normalize pixel values to be between 0 and 1\n",
    "X_train = X_train / 255.0\n",
    "X_val = X_val / 255.0\n",
    "X_test = X_test / 255.0"
   ]
  },
  {
   "cell_type": "code",
   "execution_count": 4,
   "id": "ab7dafd0-74b5-4417-ba8c-acfccc0765ee",
   "metadata": {},
   "outputs": [],
   "source": [
    "y_train = y_train.reshape(-1,)\n",
    "y_val = y_val.reshape(-1,)\n",
    "y_test = y_test.reshape(-1,)"
   ]
  },
  {
   "cell_type": "markdown",
   "id": "7af29dc1-678e-4deb-bd90-dde0a979328c",
   "metadata": {},
   "source": [
    "# Model-building function\n",
    "Define a model-building function. It takes an argument `hyperparameter` from which you can sample hyperparameters, such as `hyperparameter.Int('units', min_value=32, max_value=512, step=32)` (an integer from a certain range).\n",
    "\n",
    "This function returns a compiled model."
   ]
  },
  {
   "cell_type": "code",
   "execution_count": 8,
   "id": "25675e47-a568-4d44-a184-29a4c841c1a6",
   "metadata": {},
   "outputs": [],
   "source": [
    "def create_model(hyperparameter):\n",
    "    # Define Sequential Model\n",
    "    model = Sequential()\n",
    "    \n",
    "    # Add Convolution Layer 1\n",
    "    model.add(Conv2D(\n",
    "        filters = hyperparameter.Int('conv_1_filter',min_value=32, max_value=128, step=16), \n",
    "        kernel_size = hyperparameter.Choice('conv_1_kernel', values = [3,6]),\n",
    "        activation = 'relu',\n",
    "        input_shape = (32, 32, 3)))\n",
    "    \n",
    "    # Add MaxPooling Layer 1\n",
    "    model.add(MaxPooling2D((2, 2)))\n",
    "    \n",
    "    # Add Convolution Layer 2\n",
    "    model.add(Conv2D(\n",
    "        filters = hyperparameter.Int('conv_2_filter',min_value=64, max_value=256, step=16), \n",
    "        kernel_size = hyperparameter.Choice('conv_2_kernel', values = [3,6]),\n",
    "        activation = 'relu'))\n",
    "    \n",
    "    # Add MaxPooling Layer 2\n",
    "    model.add(MaxPooling2D((2, 2)))\n",
    "\n",
    "                  \n",
    "    # Add Flatten Layer\n",
    "    model.add(Flatten())\n",
    "    \n",
    "    # Add Dense Layer 1\n",
    "    model.add(Dense(\n",
    "        units = hyperparameter.Choice('dense_1_units', [32, 64, 128]), \n",
    "        activation='relu'))\n",
    "    \n",
    "    # Add Output layer\n",
    "    model.add(Dense(10, activation='softmax'))\n",
    "    \n",
    "    # Complie model with learning_rate hyperparmeter for optimizer        \n",
    "    model.compile(optimizer=Adam(hyperparameter.Choice('learning_rate', values=[1e-2, 1e-3])),\n",
    "                loss=SparseCategoricalCrossentropy(from_logits=False),\n",
    "                metrics=['accuracy'])\n",
    "    return model"
   ]
  },
  {
   "cell_type": "markdown",
   "id": "b651afe2-56a9-475f-90eb-fe51eb25de93",
   "metadata": {},
   "source": [
    "# Instantiate a tuner\n",
    "Specify\n",
    "- the model-building function(`create_model`),\n",
    "- the name of the `objective` to optimize (whether to minimize or maximize is automatically inferred for built-in metrics),\n",
    "- the total number of trials (`max_trials`) to test, and\n",
    "- the number of models that should be built and fit for each trial (`executions_per_trial`)."
   ]
  },
  {
   "cell_type": "code",
   "execution_count": 9,
   "id": "e3457563-9cfe-4488-933d-fd10c5118b9e",
   "metadata": {
    "tags": []
   },
   "outputs": [
    {
     "name": "stdout",
     "output_type": "stream",
     "text": [
      "INFO:tensorflow:Reloading Oracle from existing project ./untitled_project/oracle.json\n"
     ]
    }
   ],
   "source": [
    "hpo_tuner = RandomSearch(create_model,\n",
    "                       objective='val_accuracy',\n",
    "                       max_trials=5,\n",
    "                       executions_per_trial=2)"
   ]
  },
  {
   "cell_type": "code",
   "execution_count": null,
   "id": "09bc66d7-a7a0-4e4d-9532-734e019565bc",
   "metadata": {},
   "outputs": [],
   "source": [
    "# hpo_tuner.search_space_summary()"
   ]
  },
  {
   "cell_type": "markdown",
   "id": "25f775cc-b978-4bd9-879b-3fcbc5433d80",
   "metadata": {},
   "source": [
    "# Start the search for the best hyperparameter configuration\n",
    "The call to search method is the same as `model.fit()`\n",
    "\n",
    "In search, models are built iteratively by calling the model-building function, which populates the hyperparameter space (search space) tracked by the `hyperparameter` object. The tuner progressively explores the space, recording metrics for each configuration."
   ]
  },
  {
   "cell_type": "code",
   "execution_count": 10,
   "id": "366a2656-0b85-4cae-bb39-ed92b48711f8",
   "metadata": {
    "tags": []
   },
   "outputs": [
    {
     "name": "stdout",
     "output_type": "stream",
     "text": [
      "Trial 5 Complete [00h 05m 52s]\n",
      "val_accuracy: 0.708299994468689\n",
      "\n",
      "Best val_accuracy So Far: 0.708299994468689\n",
      "Total elapsed time: 00h 39m 08s\n",
      "INFO:tensorflow:Oracle triggered exit\n"
     ]
    }
   ],
   "source": [
    "# search the best parameters\n",
    "hpo_tuner.search(X_train, y_train,\n",
    "                 epochs=20,\n",
    "                 validation_data=(X_val, y_val))"
   ]
  },
  {
   "cell_type": "markdown",
   "id": "37436b1f-9e24-4267-9139-b55b2c695f46",
   "metadata": {},
   "source": [
    "# Get Best Model"
   ]
  },
  {
   "cell_type": "code",
   "execution_count": 22,
   "id": "0e4edaf1-7937-4e12-81c7-7b6dc2a9f935",
   "metadata": {},
   "outputs": [],
   "source": [
    "model = hpo_tuner.get_best_models()[0]"
   ]
  },
  {
   "cell_type": "code",
   "execution_count": 24,
   "id": "56a28298-2e0d-437f-98eb-9e8ac6daa20f",
   "metadata": {},
   "outputs": [
    {
     "name": "stdout",
     "output_type": "stream",
     "text": [
      "Model: \"sequential\"\n",
      "_________________________________________________________________\n",
      "Layer (type)                 Output Shape              Param #   \n",
      "=================================================================\n",
      "conv2d (Conv2D)              (None, 30, 30, 96)        2688      \n",
      "_________________________________________________________________\n",
      "max_pooling2d (MaxPooling2D) (None, 15, 15, 96)        0         \n",
      "_________________________________________________________________\n",
      "conv2d_1 (Conv2D)            (None, 13, 13, 224)       193760    \n",
      "_________________________________________________________________\n",
      "max_pooling2d_1 (MaxPooling2 (None, 6, 6, 224)         0         \n",
      "_________________________________________________________________\n",
      "flatten (Flatten)            (None, 8064)              0         \n",
      "_________________________________________________________________\n",
      "dense (Dense)                (None, 64)                516160    \n",
      "_________________________________________________________________\n",
      "dense_1 (Dense)              (None, 10)                650       \n",
      "=================================================================\n",
      "Total params: 713,258\n",
      "Trainable params: 713,258\n",
      "Non-trainable params: 0\n",
      "_________________________________________________________________\n"
     ]
    }
   ],
   "source": [
    "model.summary()"
   ]
  },
  {
   "cell_type": "code",
   "execution_count": 33,
   "id": "9cc8419e-9e1a-4efa-bb7f-1082954a6e13",
   "metadata": {},
   "outputs": [],
   "source": [
    "model.save(\"cnn-model.h5\", save_format=\"h5\")"
   ]
  },
  {
   "cell_type": "markdown",
   "id": "49ed175d-2696-472e-b54b-b2db838667ed",
   "metadata": {},
   "source": [
    "# Model Evaluation"
   ]
  },
  {
   "cell_type": "code",
   "execution_count": 26,
   "id": "414d4537-d647-44cf-aee0-8c5befb10c84",
   "metadata": {},
   "outputs": [
    {
     "name": "stdout",
     "output_type": "stream",
     "text": [
      "313/313 [==============================] - 1s 4ms/step - loss: 0.9438 - accuracy: 0.6961\n"
     ]
    }
   ],
   "source": [
    "loss, accuracy = model.evaluate(X_test, y_test)"
   ]
  },
  {
   "cell_type": "code",
   "execution_count": 32,
   "id": "2e9040e7-7d4a-4f5c-a8bd-a8de2f2a2c0d",
   "metadata": {},
   "outputs": [
    {
     "name": "stdout",
     "output_type": "stream",
     "text": [
      "Accuracy on test data = 70.0%\n"
     ]
    }
   ],
   "source": [
    "print(f\"Accuracy on test data = {round(accuracy,2)*100}%\")"
   ]
  },
  {
   "cell_type": "code",
   "execution_count": 64,
   "id": "f3f935af-d29d-42d0-b5a3-1c255398f0e9",
   "metadata": {},
   "outputs": [
    {
     "data": {
      "text/plain": [
       "array([2.7171341e-03, 2.0046127e-05, 1.7689879e-04, 6.4574689e-01,\n",
       "       1.2884212e-04, 2.7708134e-01, 7.4256640e-03, 1.4141076e-05,\n",
       "       6.5797321e-02, 8.9171715e-04], dtype=float32)"
      ]
     },
     "execution_count": 64,
     "metadata": {},
     "output_type": "execute_result"
    }
   ],
   "source": [
    "# Prediction on model returns the probability for each class\n",
    "model.predict(X_test)[0]"
   ]
  },
  {
   "cell_type": "code",
   "execution_count": 42,
   "id": "2d734b7b-6623-4f4d-86a6-6abcac000a00",
   "metadata": {},
   "outputs": [],
   "source": [
    "# We need to get the index value of maximum probability in each prediction.\n",
    "# argmax returns the indices of the maximum values along the given axis.\n",
    "predictions = model.predict(X_test).argmax(axis=1) "
   ]
  },
  {
   "cell_type": "code",
   "execution_count": 65,
   "id": "c617f7e9-7789-4516-847e-59297a0d230c",
   "metadata": {},
   "outputs": [
    {
     "data": {
      "text/plain": [
       "array([3, 1, 8, ..., 5, 4, 7])"
      ]
     },
     "execution_count": 65,
     "metadata": {},
     "output_type": "execute_result"
    }
   ],
   "source": [
    "predictions"
   ]
  },
  {
   "cell_type": "code",
   "execution_count": 43,
   "id": "13e8c544-370a-468f-a356-d661a25a2d70",
   "metadata": {},
   "outputs": [
    {
     "name": "stdout",
     "output_type": "stream",
     "text": [
      "              precision    recall  f1-score   support\n",
      "\n",
      "           0       0.69      0.71      0.70      1000\n",
      "           1       0.85      0.78      0.81      1000\n",
      "           2       0.54      0.62      0.58      1000\n",
      "           3       0.56      0.52      0.54      1000\n",
      "           4       0.68      0.57      0.62      1000\n",
      "           5       0.64      0.59      0.62      1000\n",
      "           6       0.75      0.78      0.77      1000\n",
      "           7       0.71      0.77      0.74      1000\n",
      "           8       0.82      0.77      0.80      1000\n",
      "           9       0.74      0.83      0.79      1000\n",
      "\n",
      "    accuracy                           0.70     10000\n",
      "   macro avg       0.70      0.70      0.70     10000\n",
      "weighted avg       0.70      0.70      0.70     10000\n",
      "\n"
     ]
    }
   ],
   "source": [
    "print(classification_report(y_test, predictions))"
   ]
  },
  {
   "cell_type": "code",
   "execution_count": 46,
   "id": "e2529f15-c476-4a8b-bcf7-aa8e273d890e",
   "metadata": {},
   "outputs": [],
   "source": [
    "cm = confusion_matrix(y_test, predictions)"
   ]
  },
  {
   "cell_type": "code",
   "execution_count": 59,
   "id": "60c68578-0156-4fa0-8ae6-50f77ce85e21",
   "metadata": {},
   "outputs": [
    {
     "data": {
      "image/png": "[encoded data removed]",
      "text/plain": [
       "<Figure size 1000x1000 with 2 Axes>"
      ]
     },
     "metadata": {
      "needs_background": "light"
     },
     "output_type": "display_data"
    }
   ],
   "source": [
    "plt.figure(dpi=100, figsize=(10,10))\n",
    "sns.heatmap(cm, annot=True, cmap=\"Blues\", fmt='g')\n",
    "plt.xlabel(\"Predicted\")\n",
    "plt.ylabel(\"Actual\")\n",
    "plt.title(\"Confusion Matrix\")\n",
    "plt.show()"
   ]
  }
 ],
 "metadata": {
  "kernelspec": {
   "display_name": "Python 3",
   "language": "python",
   "name": "python3"
  },
  "language_info": {
   "codemirror_mode": {
    "name": "ipython",
    "version": 3
   },
   "file_extension": ".py",
   "mimetype": "text/x-python",
   "name": "python",
   "nbconvert_exporter": "python",
   "pygments_lexer": "ipython3",
   "version": "3.8.2"
  }
 },
 "nbformat": 4,
 "nbformat_minor": 5
}
