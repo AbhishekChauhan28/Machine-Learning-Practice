{
 "cells": [
  {
   "cell_type": "markdown",
   "id": "cb98d90d-e033-4ebe-98dd-41ff37f1efc1",
   "metadata": {},
   "source": [
    "# Data Prepration"
   ]
  },
  {
   "cell_type": "code",
   "execution_count": null,
   "id": "383a92c8-9505-4457-abc7-0e1db563a828",
   "metadata": {},
   "outputs": [],
   "source": [
    "import os\n",
    "\n",
    "import numpy as np\n",
    "import pandas as pd\n",
    "from sklearn.model_selection import train_test_split\n",
    "from matplotlib import pyplot as plt\n",
    "import seaborn as sns\n",
    "\n",
    "from tensorflow.keras.preprocessing.image import ImageDataGenerator\n",
    "from tensorflow.keras.models import Sequential\n",
    "from tensorflow.keras.layers import Conv2D, MaxPool2D, Flatten, Dense\n",
    "from tensorflow.keras.utils import plot_model\n",
    "from tensorflow.keras.callbacks import EarlyStopping\n",
    "\n",
    "from sklearn.metrics import confusion_matrix, classification_report"
   ]
  },
  {
   "cell_type": "code",
   "execution_count": null,
   "id": "551da51c-2b4f-4a6e-84ec-b42167085bd1",
   "metadata": {},
   "outputs": [],
   "source": [
    "df = pd.DataFrame(columns=[\"image_name\",\"label\"])"
   ]
  },
  {
   "cell_type": "code",
   "execution_count": null,
   "id": "07daee27-e35e-4968-b488-fa1c7a23d1f2",
   "metadata": {},
   "outputs": [],
   "source": [
    "\"../data/HB_PollenDataset/images/P52248-14r.jpg\""
   ]
  },
  {
   "cell_type": "code",
   "execution_count": null,
   "id": "90ce4469-20c7-4669-b410-e64793bdaf8b",
   "metadata": {},
   "outputs": [],
   "source": [
    "IMAGE_DIR = \"../data/HB_PollenDataset/images/\""
   ]
  },
  {
   "cell_type": "code",
   "execution_count": null,
   "id": "46b80dc1-6982-4ec5-acf3-d517edc0745d",
   "metadata": {},
   "outputs": [],
   "source": [
    "for index, image in enumerate(os.listdir(IMAGE_DIR)):\n",
    "    if image.startswith(\"P\"):\n",
    "        df.loc[index,\"image_name\"] = image\n",
    "        df.loc[index,\"label\"] = \"POLLEN\"\n",
    "    elif image.startswith(\"N\"):\n",
    "        df.loc[index] = [image,\"NO POLLEN\"]"
   ]
  },
  {
   "cell_type": "code",
   "execution_count": null,
   "id": "a5bf8d37-877f-4453-b2d1-3bd48b58a405",
   "metadata": {},
   "outputs": [],
   "source": [
    "train_DataGenerator = ImageDataGenerator(\n",
    "    rescale=1/255,\n",
    "    validation_split=0.2\n",
    ")\n",
    "\n",
    "test_DataGenerator = ImageDataGenerator(\n",
    "    rescale=1/255,\n",
    ")"
   ]
  },
  {
   "cell_type": "code",
   "execution_count": null,
   "id": "d099f916-5530-47b5-8904-4a6bf5ef7d0a",
   "metadata": {},
   "outputs": [],
   "source": [
    "train_df, test_df = train_test_split(df, test_size=0.2, shuffle=True, random_state=1)"
   ]
  },
  {
   "cell_type": "code",
   "execution_count": null,
   "id": "74bac4fc-e529-4a6e-82fa-da461e1b291b",
   "metadata": {},
   "outputs": [],
   "source": [
    "train_images = train_DataGenerator.flow_from_dataframe(\n",
    "    dataframe=train_df,\n",
    "    x_col=\"image_name\",\n",
    "    y_col=\"label\",\n",
    "    directory = IMAGE_DIR,\n",
    "    target_size=(128, 128),\n",
    "    class_mode=\"binary\",\n",
    "    seed=42,\n",
    "    subset='training'\n",
    ")\n",
    "\n",
    "val_images = train_DataGenerator.flow_from_dataframe(\n",
    "    dataframe=train_df,\n",
    "    x_col=\"image_name\",\n",
    "    y_col=\"label\",\n",
    "    directory = IMAGE_DIR,\n",
    "    target_size=(128, 128),\n",
    "    class_mode=\"binary\",\n",
    "    seed=42,\n",
    "    subset='validation'\n",
    ")\n",
    "\n",
    "test_images = test_DataGenerator.flow_from_dataframe(\n",
    "    dataframe=test_df,\n",
    "    x_col=\"image_name\",\n",
    "    y_col=\"label\",\n",
    "    directory = IMAGE_DIR,\n",
    "    target_size=(128, 128),\n",
    "    class_mode=\"binary\"\n",
    ")"
   ]
  },
  {
   "cell_type": "code",
   "execution_count": null,
   "id": "f0d112f2-a1bc-41f9-9cc4-7ffcb4fd65fe",
   "metadata": {},
   "outputs": [],
   "source": [
    "test_images.image_shape"
   ]
  },
  {
   "cell_type": "markdown",
   "id": "3cbe343d-51be-46b6-9a38-19ba54aa2e05",
   "metadata": {},
   "source": [
    "# Define the Model"
   ]
  },
  {
   "cell_type": "code",
   "execution_count": null,
   "id": "1127be77-2fee-45be-9f64-758f305db83d",
   "metadata": {
    "tags": []
   },
   "outputs": [],
   "source": [
    "model = Sequential()"
   ]
  },
  {
   "cell_type": "code",
   "execution_count": null,
   "id": "85010bf8-2343-46cf-bd32-37724d37d1c0",
   "metadata": {},
   "outputs": [],
   "source": [
    "model.add(Conv2D(filters = 16, kernel_size = (3,3), activation = \"relu\", input_shape = (128, 128, 3),\n",
    "                 name= \"Input_Layer\"))\n",
    "model.add(MaxPool2D((2,2), name = \"Pooling_1\"))"
   ]
  },
  {
   "cell_type": "code",
   "execution_count": null,
   "id": "41d0642c-d8d6-4733-80e2-db0208908890",
   "metadata": {},
   "outputs": [],
   "source": [
    "model.add(Conv2D(filters = 32, kernel_size = (3,3), activation = \"relu\", name= \"Conv_Layer\"))\n",
    "model.add(MaxPool2D((2,2), name = \"Pooling_2\"))"
   ]
  },
  {
   "cell_type": "code",
   "execution_count": null,
   "id": "e6366409-1407-4434-b679-4aac051c45ff",
   "metadata": {},
   "outputs": [],
   "source": [
    "model.add(Flatten())\n",
    "model.add(Dense(128, activation=\"relu\", name=\"Dense_1\"))\n",
    "model.add(Dense(64, activation=\"relu\", name=\"Dense_2\"))\n",
    "model.add(Dense(1, activation=\"sigmoid\", name=\"Output_Layer\"))"
   ]
  },
  {
   "cell_type": "code",
   "execution_count": null,
   "id": "ae26167b-5ae0-4bea-b737-500d1bd7f6c6",
   "metadata": {},
   "outputs": [],
   "source": [
    "model.summary()"
   ]
  },
  {
   "cell_type": "code",
   "execution_count": null,
   "id": "f5acf836-c5ac-49d4-a963-707374c08418",
   "metadata": {
    "tags": []
   },
   "outputs": [],
   "source": [
    "plot_model(model, to_file='cnn_model.png', show_shapes=True, dpi=300)"
   ]
  },
  {
   "cell_type": "markdown",
   "id": "2bdbd748-be6e-4d62-818b-f50409ae4e89",
   "metadata": {},
   "source": [
    "# Compile the model"
   ]
  },
  {
   "cell_type": "code",
   "execution_count": null,
   "id": "6231960a-46f3-4883-98ca-563b90d0429b",
   "metadata": {},
   "outputs": [],
   "source": [
    "model.compile(\n",
    "    optimizer=\"adam\",\n",
    "    loss=\"binary_crossentropy\",\n",
    "    metrics=\"accuracy\"\n",
    ")"
   ]
  },
  {
   "cell_type": "markdown",
   "id": "f691bea1-12d9-4c74-9839-92ea5a285557",
   "metadata": {},
   "source": [
    "# Train the Model"
   ]
  },
  {
   "cell_type": "code",
   "execution_count": null,
   "id": "e0adca4b-c998-4cde-a427-2f528b6332b4",
   "metadata": {},
   "outputs": [],
   "source": [
    "train_images.class_indices"
   ]
  },
  {
   "cell_type": "code",
   "execution_count": null,
   "id": "543b9580-15f5-49bc-a5c5-54ee1f4d5233",
   "metadata": {},
   "outputs": [],
   "source": [
    "es_callback = EarlyStopping(\n",
    "    monitor = 'val_loss',\n",
    "    patience=3,\n",
    "    restore_best_weights = True\n",
    "    \n",
    ")"
   ]
  },
  {
   "cell_type": "code",
   "execution_count": null,
   "id": "caffef25-a0ac-41b6-9b0e-3ea2a27a2a5e",
   "metadata": {
    "tags": []
   },
   "outputs": [],
   "source": [
    "history = model.fit(\n",
    "    train_images,\n",
    "    epochs = 20,\n",
    "    validation_data=val_images,\n",
    "    callbacks=[es_callback]\n",
    ")"
   ]
  },
  {
   "cell_type": "code",
   "execution_count": null,
   "id": "481f4052-7c0e-4a53-aadd-879cdf9a728d",
   "metadata": {},
   "outputs": [],
   "source": [
    "history.history.keys()"
   ]
  },
  {
   "cell_type": "code",
   "execution_count": null,
   "id": "a86787cf-1893-49e0-b375-0debae751218",
   "metadata": {},
   "outputs": [],
   "source": [
    "plt.plot(history.history['accuracy'], label=\"train_accuracy\")\n",
    "plt.plot(history.history['val_accuracy'], label=\"val_accuracy\")\n",
    "plt.xlabel(\"Epochs\")\n",
    "plt.ylabel(\"Accuracy\")\n",
    "plt.legend()\n",
    "plt.show()\n",
    "\n",
    "plt.plot(history.history['loss'], label=\"train_loss\")\n",
    "plt.plot(history.history['val_loss'], label=\"val_loss\")\n",
    "plt.xlabel(\"Epochs\")\n",
    "plt.ylabel(\"Loss\")\n",
    "plt.legend()\n",
    "plt.show()"
   ]
  },
  {
   "cell_type": "code",
   "execution_count": null,
   "id": "84272f37-9274-4eb6-8c37-603a68721489",
   "metadata": {},
   "outputs": [],
   "source": [
    "model.save(\"../models/cnn_model.h5\", save_format='h5')"
   ]
  },
  {
   "cell_type": "markdown",
   "id": "33b66e04-f1e8-423a-9008-da8ce18988dc",
   "metadata": {},
   "source": [
    "# Evaluate the model"
   ]
  },
  {
   "cell_type": "code",
   "execution_count": null,
   "id": "32ac1fd2-9d59-48f6-bccf-d442cacc2f8d",
   "metadata": {},
   "outputs": [],
   "source": [
    "model.evaluate(test_images)"
   ]
  },
  {
   "cell_type": "code",
   "execution_count": null,
   "id": "f0ae77c0-ff42-4a50-8a84-a306d2663309",
   "metadata": {},
   "outputs": [],
   "source": [
    "test_images.class_indices"
   ]
  },
  {
   "cell_type": "code",
   "execution_count": null,
   "id": "85d4788a-5e37-43bc-b3b0-c24cc548aad7",
   "metadata": {},
   "outputs": [],
   "source": [
    "predictions = np.reshape(model.predict(test_images) > 0.6,-1).astype(int)"
   ]
  },
  {
   "cell_type": "code",
   "execution_count": null,
   "id": "dd5a9b23-d14d-4adf-8c50-3a33da835079",
   "metadata": {},
   "outputs": [],
   "source": [
    "cm = confusion_matrix(test_images.labels, predictions)"
   ]
  },
  {
   "cell_type": "code",
   "execution_count": null,
   "id": "4ca57f54-59f9-4362-a572-b8872e1feae4",
   "metadata": {},
   "outputs": [],
   "source": [
    "plt.figure(dpi=70)\n",
    "sns.heatmap(cm, annot=True, cmap=\"Blues\")\n",
    "plt.xticks(ticks=[0.5,1.5], labels=['NO POLLEN', 'POLLEN'])\n",
    "plt.yticks(ticks=[0.5,1.5], labels=['NO POLLEN', 'POLLEN'])\n",
    "plt.xlabel(\"Predicted\")\n",
    "plt.ylabel(\"Actual\")\n",
    "plt.title(\"Confusion Matrix\")\n",
    "plt.show()"
   ]
  },
  {
   "cell_type": "code",
   "execution_count": null,
   "id": "ac510560-6e14-4c2f-b1b1-22b424e77e3c",
   "metadata": {},
   "outputs": [],
   "source": [
    "print(classification_report(test_images.labels, predictions))"
   ]
  },
  {
   "cell_type": "code",
   "execution_count": null,
   "id": "5055d175-4a5a-4ed0-aa61-3048249c8ded",
   "metadata": {},
   "outputs": [],
   "source": [
    "np.unique(test_images.labels, return_counts=True)"
   ]
  }
 ],
 "metadata": {
  "kernelspec": {
   "display_name": "Python 3",
   "language": "python",
   "name": "python3"
  },
  "language_info": {
   "codemirror_mode": {
    "name": "ipython",
    "version": 3
   },
   "file_extension": ".py",
   "mimetype": "text/x-python",
   "name": "python",
   "nbconvert_exporter": "python",
   "pygments_lexer": "ipython3",
   "version": "3.8.2"
  },
  "toc-autonumbering": true
 },
 "nbformat": 4,
 "nbformat_minor": 5
}
