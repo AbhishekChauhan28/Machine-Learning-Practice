{
 "cells": [
  {
   "cell_type": "markdown",
   "id": "4bd0d92c-fa61-4d37-ae90-ba7849629ecd",
   "metadata": {},
   "source": [
    "# Convolutional Neural Network (CNN)"
   ]
  },
  {
   "cell_type": "markdown",
   "id": "b0143130-e92d-4f35-8a42-c19b2af2ad4a",
   "metadata": {},
   "source": [
    "- This Example demonstrates training a simple **Convolutional Neural Network(CNN)** to classify [CIFAR images](https://www.cs.toronto.edu/~kriz/cifar.html).\n",
    "- The CIFAR10 dataset contains 60,000 color images in 10 classes, with 6,000 images in each class. The dataset is divided into 50,000 training images and 10,000 testing images. The classes are mutually exclusive and there is no overlap between them.\n",
    "\n",
    "\n",
    "<img src=\"https://paperswithcode.com/media/datasets/CIFAR-10-0000000431-b71f61c0_U5n3Glr.jpg\" width=70%>"
   ]
  },
  {
   "cell_type": "code",
   "execution_count": 3,
   "id": "6107b601-c994-4cd9-a809-5f8942dd3428",
   "metadata": {},
   "outputs": [],
   "source": [
    "from tensorflow.keras.datasets import cifar10\n",
    "from sklearn.model_selection import train_test_split\n",
    "import matplotlib.pyplot as plt\n",
    "from tensorflow.keras.models import Sequential\n",
    "from tensorflow.keras.layers import Conv2D, MaxPooling2D, Dense, Flatten\n",
    "from tensorflow.keras.losses import SparseCategoricalCrossentropy\n",
    "\n",
    "import seaborn as sns\n",
    "\n",
    "from tensorflow.keras.optimizers import Adam\n",
    "\n",
    "from keras_tuner.tuners import RandomSearch\n",
    "\n",
    "from sklearn.metrics import confusion_matrix, classification_report"
   ]
  },
  {
   "cell_type": "markdown",
   "id": "df690a08-9163-402c-90dc-618f25bbbbcd",
   "metadata": {},
   "source": [
    "## Download and prepare the CIFAR10 dataset"
   ]
  },
  {
   "cell_type": "code",
   "execution_count": 4,
   "id": "0ebd4321-9f69-4cb0-a058-36baf8de12e5",
   "metadata": {},
   "outputs": [],
   "source": [
    "(x_train, y_train), (x_test, y_test) = cifar10.load_data()"
   ]
  },
  {
   "cell_type": "code",
   "execution_count": 5,
   "id": "af9330c2-8c35-40bb-9bc1-445d95193e60",
   "metadata": {},
   "outputs": [],
   "source": [
    "x_train, x_val, y_train, y_val = train_test_split(x_train, y_train, train_size = 0.80, random_state = 100)"
   ]
  },
  {
   "cell_type": "code",
   "execution_count": 6,
   "id": "064cbc11-6ba6-4001-81e4-02efefb08844",
   "metadata": {},
   "outputs": [],
   "source": [
    "# Normalize pixel values to be between 0 and 1\n",
    "x_train = x_train / 255.0\n",
    "x_val = x_val / 255.0\n",
    "x_test = x_test / 255.0"
   ]
  },
  {
   "cell_type": "code",
   "execution_count": 7,
   "id": "36ad5326-1c48-4595-83fe-511d9e1573b2",
   "metadata": {},
   "outputs": [],
   "source": [
    "y_train = y_train.reshape(-1,)\n",
    "y_val = y_val.reshape(-1,)\n",
    "y_test = y_test.reshape(-1,)"
   ]
  },
  {
   "cell_type": "code",
   "execution_count": 8,
   "id": "44719049-ee03-4f61-834c-135be0f18fcc",
   "metadata": {},
   "outputs": [
    {
     "data": {
      "text/plain": [
       "4"
      ]
     },
     "execution_count": 8,
     "metadata": {},
     "output_type": "execute_result"
    }
   ],
   "source": [
    "x_train.ndim"
   ]
  },
  {
   "cell_type": "code",
   "execution_count": 9,
   "id": "6469f054-fc2c-4da3-81d0-e5cc3f59af2f",
   "metadata": {},
   "outputs": [
    {
     "data": {
      "text/plain": [
       "(40000, 32, 32, 3)"
      ]
     },
     "execution_count": 9,
     "metadata": {},
     "output_type": "execute_result"
    }
   ],
   "source": [
    "x_train.shape"
   ]
  },
  {
   "cell_type": "code",
   "execution_count": 10,
   "id": "9dccf00e-2f0e-40f5-829e-284a2dbd9e7e",
   "metadata": {},
   "outputs": [
    {
     "data": {
      "text/plain": [
       "array([[[0.54117647, 0.54901961, 0.55294118],\n",
       "        [0.29411765, 0.29411765, 0.2745098 ],\n",
       "        [0.2627451 , 0.25490196, 0.25098039],\n",
       "        ...,\n",
       "        [0.9372549 , 0.9372549 , 0.9372549 ],\n",
       "        [0.9372549 , 0.9372549 , 0.9372549 ],\n",
       "        [0.94509804, 0.94509804, 0.94509804]],\n",
       "\n",
       "       [[0.29411765, 0.30980392, 0.24313725],\n",
       "        [0.22745098, 0.23529412, 0.16470588],\n",
       "        [0.25490196, 0.25098039, 0.20784314],\n",
       "        ...,\n",
       "        [0.92156863, 0.92156863, 0.92156863],\n",
       "        [0.92156863, 0.92156863, 0.92156863],\n",
       "        [0.92156863, 0.92156863, 0.92156863]],\n",
       "\n",
       "       [[0.19607843, 0.19607843, 0.12941176],\n",
       "        [0.20392157, 0.20392157, 0.1254902 ],\n",
       "        [0.23137255, 0.22745098, 0.14901961],\n",
       "        ...,\n",
       "        [0.77254902, 0.77254902, 0.77647059],\n",
       "        [0.74901961, 0.74901961, 0.74901961],\n",
       "        [0.74509804, 0.74509804, 0.74509804]],\n",
       "\n",
       "       ...,\n",
       "\n",
       "       [[0.51764706, 0.47843137, 0.50980392],\n",
       "        [0.50980392, 0.47058824, 0.50196078],\n",
       "        [0.50588235, 0.46666667, 0.49803922],\n",
       "        ...,\n",
       "        [0.69803922, 0.69411765, 0.74901961],\n",
       "        [0.70588235, 0.69803922, 0.75294118],\n",
       "        [0.72156863, 0.70980392, 0.76862745]],\n",
       "\n",
       "       [[0.50196078, 0.45882353, 0.49019608],\n",
       "        [0.49411765, 0.45490196, 0.48627451],\n",
       "        [0.49411765, 0.45490196, 0.48627451],\n",
       "        ...,\n",
       "        [0.70196078, 0.69019608, 0.75686275],\n",
       "        [0.70588235, 0.69411765, 0.76078431],\n",
       "        [0.71764706, 0.70588235, 0.77647059]],\n",
       "\n",
       "       [[0.49019608, 0.44705882, 0.47843137],\n",
       "        [0.49411765, 0.45098039, 0.48235294],\n",
       "        [0.49803922, 0.45490196, 0.48627451],\n",
       "        ...,\n",
       "        [0.70980392, 0.69803922, 0.77254902],\n",
       "        [0.70980392, 0.69803922, 0.77647059],\n",
       "        [0.72156863, 0.70980392, 0.78431373]]])"
      ]
     },
     "execution_count": 10,
     "metadata": {},
     "output_type": "execute_result"
    }
   ],
   "source": [
    "x_train[0]"
   ]
  },
  {
   "cell_type": "code",
   "execution_count": 11,
   "id": "82730a2c-ff1c-4291-8f4e-85c708d5bc64",
   "metadata": {},
   "outputs": [
    {
     "data": {
      "text/plain": [
       "array([7, 5, 4, ..., 5, 4, 8], dtype=uint8)"
      ]
     },
     "execution_count": 11,
     "metadata": {},
     "output_type": "execute_result"
    }
   ],
   "source": [
    "y_train"
   ]
  },
  {
   "cell_type": "code",
   "execution_count": 12,
   "id": "2c28692b-c915-44a8-ad27-a6b72aaff0ca",
   "metadata": {},
   "outputs": [
    {
     "data": {
      "text/plain": [
       "array([7, 5, 4, ..., 5, 4, 8], dtype=uint8)"
      ]
     },
     "execution_count": 12,
     "metadata": {},
     "output_type": "execute_result"
    }
   ],
   "source": [
    "y_train"
   ]
  },
  {
   "cell_type": "markdown",
   "id": "ee6d1129-fbcb-41e1-919f-1dff295c1074",
   "metadata": {},
   "source": [
    "## Verify the data\n",
    "\n",
    "To verify that the dataset looks correct, let's plot some images from the training set and display the class name below each image."
   ]
  },
  {
   "cell_type": "code",
   "execution_count": null,
   "id": "c13cedf5-4402-46ae-9970-d89cab4f2b7f",
   "metadata": {},
   "outputs": [],
   "source": []
  },
  {
   "cell_type": "code",
   "execution_count": 13,
   "id": "76f58eea-3fd4-4a33-a366-173874167052",
   "metadata": {},
   "outputs": [],
   "source": [
    "class_names = ['airplane', 'automobile', 'bird', 'cat', 'deer', 'dog', 'frog', 'horse', 'ship', 'truck']\n",
    "\n",
    "def plot_sample(x, y, index):\n",
    "    plt.figure(figsize = (15,2))\n",
    "    plt.imshow(x[index])\n",
    "    plt.xlabel(class_names[y[index]])\n",
    "    plt.show"
   ]
  },
  {
   "cell_type": "code",
   "execution_count": 14,
   "id": "435d58b5-7ddb-4a13-be99-0d9dac197059",
   "metadata": {},
   "outputs": [],
   "source": [
    "plot_sample(x_train, y_train, 40)"
   ]
  },
  {
   "cell_type": "markdown",
   "id": "63db8ecf-af9d-4f67-a5d1-316e06ec8432",
   "metadata": {},
   "source": [
    "## Convolutional Neural Network\n",
    "<img src=\"https://miro.medium.com/max/2000/1*vkQ0hXDaQv57sALXAJquxA.jpeg\">"
   ]
  },
  {
   "cell_type": "markdown",
   "id": "76568829-129c-4399-b775-8277ab239297",
   "metadata": {},
   "source": [
    "### Create the convolutional base (Feature Extraction)\n",
    "\n",
    "The 6 lines of code below define the convolutional base using a common pattern: a stack of [Conv2D](https://www.tensorflow.org/api_docs/python/tf/keras/layers/Conv2D) and [MaxPooling2D](https://www.tensorflow.org/api_docs/python/tf/keras/layers/MaxPool2D) layers.\n",
    "\n",
    "As input, a CNN takes tensors of shape (image_height, image_width, color_channels), ignoring the batch size. If you are new to these dimensions, color_channels refers to (R,G,B). In this example, you will configure your CNN to process inputs of shape (32, 32, 3), which is the format of CIFAR images. You can do this by passing the argument `input_shape` to your first layer.\n"
   ]
  },
  {
   "cell_type": "code",
   "execution_count": null,
   "id": "d4ac448a-7674-484f-850c-62e250f92fac",
   "metadata": {},
   "outputs": [],
   "source": []
  },
  {
   "cell_type": "code",
   "execution_count": 15,
   "id": "983e4c26-ef6e-425a-bd5e-baa0825223aa",
   "metadata": {},
   "outputs": [],
   "source": [
    "model = Sequential()"
   ]
  },
  {
   "cell_type": "code",
   "execution_count": 16,
   "id": "a8057c07-a936-455d-962b-47ce792f2245",
   "metadata": {},
   "outputs": [],
   "source": [
    "model.add(Conv2D(filters = 50, kernel_size = (3,3), activation = 'relu', input_shape = (32,32,3)))\n",
    "model.add(MaxPooling2D((2,2)))"
   ]
  },
  {
   "cell_type": "code",
   "execution_count": 17,
   "id": "6bd33c15-2922-4f81-91b2-1fbe0fdffacc",
   "metadata": {},
   "outputs": [],
   "source": [
    "model.add(Conv2D(filters = 100, kernel_size = (3,3), activation = 'relu'))\n",
    "model.add(MaxPooling2D((2,2)))"
   ]
  },
  {
   "cell_type": "markdown",
   "id": "1afd0de4-d45b-48b4-b539-276fcd93bdfd",
   "metadata": {},
   "source": [
    "Let's display the summary of your model so far"
   ]
  },
  {
   "cell_type": "code",
   "execution_count": 18,
   "id": "92a4fa4f-1e1e-43d8-a220-c7b53dc4f587",
   "metadata": {},
   "outputs": [
    {
     "name": "stdout",
     "output_type": "stream",
     "text": [
      "Model: \"sequential\"\n",
      "_________________________________________________________________\n",
      "Layer (type)                 Output Shape              Param #   \n",
      "=================================================================\n",
      "conv2d (Conv2D)              (None, 30, 30, 50)        1400      \n",
      "_________________________________________________________________\n",
      "max_pooling2d (MaxPooling2D) (None, 15, 15, 50)        0         \n",
      "_________________________________________________________________\n",
      "conv2d_1 (Conv2D)            (None, 13, 13, 100)       45100     \n",
      "_________________________________________________________________\n",
      "max_pooling2d_1 (MaxPooling2 (None, 6, 6, 100)         0         \n",
      "=================================================================\n",
      "Total params: 46,500\n",
      "Trainable params: 46,500\n",
      "Non-trainable params: 0\n",
      "_________________________________________________________________\n"
     ]
    }
   ],
   "source": [
    "model.summary()"
   ]
  },
  {
   "cell_type": "markdown",
   "id": "1c7d71a9-cd31-42bc-9b0b-bb6ca546df35",
   "metadata": {},
   "source": [
    "Above, you can see that the output of every Conv2D and MaxPooling2D layer is a 3D tensor of shape (height, width, channels). The width and height dimensions tend to shrink as you go deeper in the network. The number of output channels for each Conv2D layer is controlled by the first argument (e.g., 32 or 64). Typically,  as the width and height shrink, you can afford (computationally) to add more output channels in each Conv2D layer."
   ]
  },
  {
   "cell_type": "markdown",
   "id": "7146284e-db0e-4048-b87e-0eb6797c3523",
   "metadata": {},
   "source": [
    "### Add Dense layers on top (Classification)\n",
    "\n",
    "To complete the model, you will feed the last output tensor from the convolutional base (of shape (4, 4, 64)) into one or more Dense layers to perform classification. Dense layers take vectors as input (which are 1D), while the current output is a 3D tensor. First, you will flatten (or unroll) the 3D output to 1D,  then add one or more Dense layers on top. CIFAR has 10 output classes, so you use a final Dense layer with 10 outputs."
   ]
  },
  {
   "cell_type": "code",
   "execution_count": 19,
   "id": "a1eeebe0-c8b8-4099-804a-d21b9fba7b20",
   "metadata": {},
   "outputs": [],
   "source": [
    "#Here's the complete architecture of your model:\n",
    "model.add(Flatten())\n",
    "model.add(Dense(100, activation = 'relu'))\n",
    "model.add(Dense(10, activation = 'softmax'))"
   ]
  },
  {
   "cell_type": "code",
   "execution_count": 20,
   "id": "81c991fb-0263-41aa-b293-f35e00b4ed0f",
   "metadata": {},
   "outputs": [
    {
     "name": "stdout",
     "output_type": "stream",
     "text": [
      "Model: \"sequential\"\n",
      "_________________________________________________________________\n",
      "Layer (type)                 Output Shape              Param #   \n",
      "=================================================================\n",
      "conv2d (Conv2D)              (None, 30, 30, 50)        1400      \n",
      "_________________________________________________________________\n",
      "max_pooling2d (MaxPooling2D) (None, 15, 15, 50)        0         \n",
      "_________________________________________________________________\n",
      "conv2d_1 (Conv2D)            (None, 13, 13, 100)       45100     \n",
      "_________________________________________________________________\n",
      "max_pooling2d_1 (MaxPooling2 (None, 6, 6, 100)         0         \n",
      "_________________________________________________________________\n",
      "flatten (Flatten)            (None, 3600)              0         \n",
      "_________________________________________________________________\n",
      "dense (Dense)                (None, 100)               360100    \n",
      "_________________________________________________________________\n",
      "dense_1 (Dense)              (None, 10)                1010      \n",
      "=================================================================\n",
      "Total params: 407,610\n",
      "Trainable params: 407,610\n",
      "Non-trainable params: 0\n",
      "_________________________________________________________________\n"
     ]
    }
   ],
   "source": [
    "model.summary()"
   ]
  },
  {
   "cell_type": "markdown",
   "id": "a0fa211b-9c2c-4505-adb6-72fe5c557ca6",
   "metadata": {},
   "source": [
    "The network summary shows that (4, 4, 64) outputs were flattened into vectors of shape (1024) before going through two Dense layers."
   ]
  },
  {
   "cell_type": "markdown",
   "id": "296db11e-86fe-4822-a6d2-e9f8f6dc03a4",
   "metadata": {},
   "source": [
    "## Compile and train the model"
   ]
  },
  {
   "cell_type": "code",
   "execution_count": null,
   "id": "550b4b8c-2181-4e2f-a181-7f4a22cb4549",
   "metadata": {},
   "outputs": [],
   "source": []
  },
  {
   "cell_type": "code",
   "execution_count": 21,
   "id": "e5faaafa-725c-45a6-905c-a53df4f1370d",
   "metadata": {},
   "outputs": [],
   "source": [
    "model.compile(optimizer = 'adam', loss = SparseCategoricalCrossentropy(from_logits = True),\n",
    "             metrics = ['accuracy'])"
   ]
  },
  {
   "cell_type": "code",
   "execution_count": 22,
   "id": "b6ec1813-2b25-4b44-a750-80b276db88bd",
   "metadata": {},
   "outputs": [
    {
     "name": "stdout",
     "output_type": "stream",
     "text": [
      "Epoch 1/30\n",
      "1250/1250 [==============================] - 8s 7ms/step - loss: 2.0939 - accuracy: 0.3616 - val_loss: 2.0033 - val_accuracy: 0.4562\n",
      "Epoch 2/30\n",
      "1250/1250 [==============================] - 6s 5ms/step - loss: 1.9732 - accuracy: 0.4855 - val_loss: 1.9188 - val_accuracy: 0.5413\n",
      "Epoch 3/30\n",
      "1250/1250 [==============================] - 6s 5ms/step - loss: 1.9102 - accuracy: 0.5494 - val_loss: 1.8960 - val_accuracy: 0.5636\n",
      "Epoch 4/30\n",
      "1250/1250 [==============================] - 7s 5ms/step - loss: 1.8722 - accuracy: 0.5878 - val_loss: 1.8635 - val_accuracy: 0.5963\n",
      "Epoch 5/30\n",
      "1250/1250 [==============================] - 7s 5ms/step - loss: 1.8450 - accuracy: 0.6144 - val_loss: 1.8557 - val_accuracy: 0.6010\n",
      "Epoch 6/30\n",
      "1250/1250 [==============================] - 7s 5ms/step - loss: 1.8256 - accuracy: 0.6350 - val_loss: 1.8500 - val_accuracy: 0.6075\n",
      "Epoch 7/30\n",
      "1250/1250 [==============================] - 7s 6ms/step - loss: 1.8057 - accuracy: 0.6565 - val_loss: 1.8454 - val_accuracy: 0.6120\n",
      "Epoch 8/30\n",
      "1250/1250 [==============================] - 7s 5ms/step - loss: 1.7892 - accuracy: 0.6721 - val_loss: 1.8486 - val_accuracy: 0.6101\n",
      "Epoch 9/30\n",
      "1250/1250 [==============================] - 7s 6ms/step - loss: 1.7758 - accuracy: 0.6856 - val_loss: 1.8367 - val_accuracy: 0.6208\n",
      "Epoch 10/30\n",
      "1250/1250 [==============================] - 7s 6ms/step - loss: 1.7668 - accuracy: 0.6954 - val_loss: 1.8120 - val_accuracy: 0.6485\n",
      "Epoch 11/30\n",
      "1250/1250 [==============================] - 7s 5ms/step - loss: 1.7518 - accuracy: 0.7085 - val_loss: 1.8218 - val_accuracy: 0.6374\n",
      "Epoch 12/30\n",
      "1250/1250 [==============================] - 7s 5ms/step - loss: 1.7387 - accuracy: 0.7232 - val_loss: 1.8113 - val_accuracy: 0.6460\n",
      "Epoch 13/30\n",
      "1250/1250 [==============================] - 7s 6ms/step - loss: 1.7346 - accuracy: 0.7259 - val_loss: 1.7976 - val_accuracy: 0.6619\n",
      "Epoch 14/30\n",
      "1250/1250 [==============================] - 7s 5ms/step - loss: 1.7258 - accuracy: 0.7355 - val_loss: 1.8039 - val_accuracy: 0.6549\n",
      "Epoch 15/30\n",
      "1250/1250 [==============================] - 7s 6ms/step - loss: 1.7181 - accuracy: 0.7433 - val_loss: 1.8014 - val_accuracy: 0.6575\n",
      "Epoch 16/30\n",
      "1250/1250 [==============================] - 7s 6ms/step - loss: 1.7082 - accuracy: 0.7535 - val_loss: 1.7917 - val_accuracy: 0.6666\n",
      "Epoch 17/30\n",
      "1250/1250 [==============================] - 7s 6ms/step - loss: 1.7034 - accuracy: 0.7581 - val_loss: 1.7980 - val_accuracy: 0.6611\n",
      "Epoch 18/30\n",
      "1250/1250 [==============================] - 7s 6ms/step - loss: 1.6978 - accuracy: 0.7634 - val_loss: 1.7917 - val_accuracy: 0.6671\n",
      "Epoch 19/30\n",
      "1250/1250 [==============================] - 7s 6ms/step - loss: 1.6917 - accuracy: 0.7692 - val_loss: 1.7972 - val_accuracy: 0.6619\n",
      "Epoch 20/30\n",
      "1250/1250 [==============================] - 7s 6ms/step - loss: 1.6858 - accuracy: 0.7760 - val_loss: 1.7937 - val_accuracy: 0.6654\n",
      "Epoch 21/30\n",
      "1250/1250 [==============================] - 7s 6ms/step - loss: 1.6796 - accuracy: 0.7816 - val_loss: 1.8006 - val_accuracy: 0.6589\n",
      "Epoch 22/30\n",
      "1250/1250 [==============================] - 8s 6ms/step - loss: 1.6721 - accuracy: 0.7898 - val_loss: 1.7935 - val_accuracy: 0.6666\n",
      "Epoch 23/30\n",
      "1250/1250 [==============================] - 8s 6ms/step - loss: 1.6696 - accuracy: 0.7911 - val_loss: 1.8056 - val_accuracy: 0.6521\n",
      "Epoch 24/30\n",
      "1250/1250 [==============================] - 8s 6ms/step - loss: 1.6659 - accuracy: 0.7951 - val_loss: 1.7855 - val_accuracy: 0.6740\n",
      "Epoch 25/30\n",
      "1250/1250 [==============================] - 7s 6ms/step - loss: 1.6620 - accuracy: 0.7999 - val_loss: 1.7868 - val_accuracy: 0.6732\n",
      "Epoch 26/30\n",
      "1250/1250 [==============================] - 7s 6ms/step - loss: 1.6570 - accuracy: 0.8044 - val_loss: 1.7896 - val_accuracy: 0.6697\n",
      "Epoch 27/30\n",
      "1250/1250 [==============================] - 8s 6ms/step - loss: 1.6595 - accuracy: 0.8010 - val_loss: 1.7938 - val_accuracy: 0.6648\n",
      "Epoch 28/30\n",
      "1250/1250 [==============================] - 7s 6ms/step - loss: 1.6521 - accuracy: 0.8093 - val_loss: 1.7840 - val_accuracy: 0.6745\n",
      "Epoch 29/30\n",
      "1250/1250 [==============================] - 6s 5ms/step - loss: 1.6493 - accuracy: 0.8124 - val_loss: 1.7796 - val_accuracy: 0.6783\n",
      "Epoch 30/30\n",
      "1250/1250 [==============================] - 7s 5ms/step - loss: 1.6489 - accuracy: 0.8122 - val_loss: 1.7911 - val_accuracy: 0.6686\n",
      "CPU times: user 4min 7s, sys: 24.8 s, total: 4min 32s\n",
      "Wall time: 3min 36s\n"
     ]
    }
   ],
   "source": [
    "%time history = model.fit(x_train, y_train, epochs = 30, validation_data = (x_val, y_val))"
   ]
  },
  {
   "cell_type": "code",
   "execution_count": null,
   "id": "303ee4ae-1cf3-425c-a6cd-ed49e494a0ec",
   "metadata": {},
   "outputs": [],
   "source": [
    "history.history.keys()"
   ]
  },
  {
   "cell_type": "markdown",
   "id": "c5bb7657-ce83-4acf-a316-9f0a7641d328",
   "metadata": {},
   "source": [
    "## Evaluate the model"
   ]
  },
  {
   "cell_type": "code",
   "execution_count": null,
   "id": "90e60567-68d4-47da-9249-d78db8949af4",
   "metadata": {},
   "outputs": [],
   "source": [
    "plt.plot(history.history['accuracy'], label = 'accuracy')\n",
    "plt.plot(history.history['val_accuracy'], label = 'val_accuracy')\n",
    "plt.xlabel('Epoch')\n",
    "plt.ylabel('Accuracy')\n",
    "plt.ylim([0.5, 1])\n",
    "plt.legend(loc = 'lower right')"
   ]
  },
  {
   "cell_type": "code",
   "execution_count": null,
   "id": "1389f9d1-92ca-454e-b654-e62b08196f8b",
   "metadata": {},
   "outputs": [],
   "source": [
    "test_loss, test_acc = model.evaluate(x_test, y_test, verbose = 2)"
   ]
  },
  {
   "cell_type": "code",
   "execution_count": null,
   "id": "f59fc4a1-de44-4b34-85f9-d52c5c914c82",
   "metadata": {},
   "outputs": [],
   "source": [
    "print(test_acc)"
   ]
  },
  {
   "cell_type": "markdown",
   "id": "f91f379a-c04a-4bc7-a393-18c0e7510987",
   "metadata": {},
   "source": [
    "# Model-building function\n",
    "Define a model-building function. It takes an argument `hyperparameter` from which you can sample hyperparameters, such as `hyperparameter.Int('units', min_value=32, max_value=512, step=32)` (an integer from a certain range).\n",
    "\n",
    "This function returns a compiled model."
   ]
  },
  {
   "cell_type": "code",
   "execution_count": null,
   "id": "dd8c1320-3031-49c6-b0b4-c935bcab951e",
   "metadata": {},
   "outputs": [],
   "source": []
  }
 ],
 "metadata": {
  "kernelspec": {
   "display_name": "Python 3",
   "language": "python",
   "name": "python3"
  },
  "language_info": {
   "codemirror_mode": {
    "name": "ipython",
    "version": 3
   },
   "file_extension": ".py",
   "mimetype": "text/x-python",
   "name": "python",
   "nbconvert_exporter": "python",
   "pygments_lexer": "ipython3",
   "version": "3.8.10"
  }
 },
 "nbformat": 4,
 "nbformat_minor": 5
}
