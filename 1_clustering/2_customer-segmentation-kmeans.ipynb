{
 "cells": [
  {
   "cell_type": "markdown",
   "id": "24bcbbb0",
   "metadata": {
    "id": "PCPdCKjyUxs1",
    "papermill": {
     "duration": 0.031264,
     "end_time": "2021-07-28T09:56:59.870622",
     "exception": false,
     "start_time": "2021-07-28T09:56:59.839358",
     "status": "completed"
    },
    "tags": []
   },
   "source": [
    "# Customer Segmentation"
   ]
  },
  {
   "cell_type": "markdown",
   "id": "1b558767",
   "metadata": {
    "id": "hiLLodC-Ln4C",
    "papermill": {
     "duration": 0.028287,
     "end_time": "2021-07-28T09:56:59.928318",
     "exception": false,
     "start_time": "2021-07-28T09:56:59.900031",
     "status": "completed"
    },
    "tags": []
   },
   "source": [
    "## Objective\n",
    "Develop a customer segmentation model to understand customers behavior and separate them in different groups or clusters according to their preferences, and once the division is done, this information can be given to marketing team so they can plan the strategy accordingly.\n",
    "\n",
    "## Data Description\n",
    "The sample Dataset summarizes the usage behavior of about 200 active customers during the last 3 months. The file is at a customer level with 5 behavioral variables.\n",
    "\n",
    "## Attribute Information\n",
    "\n",
    "Following is the description of the columns for the dataset\n",
    "\n",
    "- **CustomerID** : Unique ID assigned to the customer\n",
    "- **Gender** :Gender of the customer\n",
    "- **Age** : Age of the customer\n",
    "- **Annual Income (k$)** : Annual Income of the customee\n",
    "- **Spending Score** : Score assigned by the mall based on customer behavior and spending nature"
   ]
  },
  {
   "cell_type": "markdown",
   "id": "95b943de",
   "metadata": {
    "id": "cz8oZN_lbbQm",
    "papermill": {
     "duration": 0.029116,
     "end_time": "2021-07-28T09:56:59.985929",
     "exception": false,
     "start_time": "2021-07-28T09:56:59.956813",
     "status": "completed"
    },
    "tags": []
   },
   "source": [
    "# Import required libraries/packages"
   ]
  },
  {
   "cell_type": "code",
   "execution_count": null,
   "id": "7c09f7a1",
   "metadata": {
    "id": "b3vpBzSpbkDc",
    "papermill": {
     "duration": 1.31124,
     "end_time": "2021-07-28T09:57:08.588676",
     "exception": false,
     "start_time": "2021-07-28T09:57:07.277436",
     "status": "completed"
    },
    "tags": []
   },
   "outputs": [],
   "source": [
    "import pandas as pd\n",
    "import numpy as np\n",
    "import matplotlib.pyplot as plt\n",
    "import seaborn as sns\n",
    "from sklearn.cluster import KMeans"
   ]
  },
  {
   "cell_type": "markdown",
   "id": "bdb71ca7",
   "metadata": {
    "id": "9Fn7pB3NbqBu",
    "papermill": {
     "duration": 0.028837,
     "end_time": "2021-07-28T09:57:08.647475",
     "exception": false,
     "start_time": "2021-07-28T09:57:08.618638",
     "status": "completed"
    },
    "tags": []
   },
   "source": [
    "# Load Dataset"
   ]
  },
  {
   "cell_type": "code",
   "execution_count": null,
   "id": "24629031",
   "metadata": {
    "id": "0rzAfJsobj_o",
    "papermill": {
     "duration": 0.05093,
     "end_time": "2021-07-28T09:57:08.728029",
     "exception": false,
     "start_time": "2021-07-28T09:57:08.677099",
     "status": "completed"
    },
    "tags": []
   },
   "outputs": [],
   "source": [
    "customer_df = pd.read_csv(\"Mall_Customers.csv\")"
   ]
  },
  {
   "cell_type": "markdown",
   "id": "a6459524",
   "metadata": {
    "id": "U4c9_cZmc4il",
    "papermill": {
     "duration": 0.029132,
     "end_time": "2021-07-28T09:57:08.786595",
     "exception": false,
     "start_time": "2021-07-28T09:57:08.757463",
     "status": "completed"
    },
    "tags": []
   },
   "source": [
    "# Exploratory Data Analysis\n",
    "## Data Exploration\n",
    "\n",
    "For the dataset, We'll explore following things:\n",
    "\n",
    "- First 5 rows\n",
    "- Data shape\n",
    "- Data information\n",
    "- Statistical description\n",
    "- Data types\n",
    "- Null values"
   ]
  },
  {
   "cell_type": "markdown",
   "id": "893db3fb",
   "metadata": {
    "id": "OZnHoq5qdXI_",
    "papermill": {
     "duration": 0.029053,
     "end_time": "2021-07-28T09:57:08.844864",
     "exception": false,
     "start_time": "2021-07-28T09:57:08.815811",
     "status": "completed"
    },
    "tags": []
   },
   "source": [
    "### First 5 records"
   ]
  },
  {
   "cell_type": "code",
   "execution_count": null,
   "id": "faf9bb18",
   "metadata": {
    "id": "SK6U8lGibj9f",
    "outputId": "b1db3be6-d944-4bc0-dbfe-200bc77accb7",
    "papermill": {
     "duration": 0.057429,
     "end_time": "2021-07-28T09:57:08.931556",
     "exception": false,
     "start_time": "2021-07-28T09:57:08.874127",
     "status": "completed"
    },
    "tags": []
   },
   "outputs": [],
   "source": [
    "customer_df.head()"
   ]
  },
  {
   "cell_type": "markdown",
   "id": "3311fa56",
   "metadata": {
    "id": "3iJDapIudtpJ",
    "papermill": {
     "duration": 0.03075,
     "end_time": "2021-07-28T09:57:08.992826",
     "exception": false,
     "start_time": "2021-07-28T09:57:08.962076",
     "status": "completed"
    },
    "tags": []
   },
   "source": [
    "### Data Shape "
   ]
  },
  {
   "cell_type": "code",
   "execution_count": null,
   "id": "c067f9bb",
   "metadata": {
    "id": "Dcxj1qFsbj5j",
    "outputId": "1605c576-458d-41bd-86ec-b5d2bf0662f4",
    "papermill": {
     "duration": 0.038529,
     "end_time": "2021-07-28T09:57:09.062481",
     "exception": false,
     "start_time": "2021-07-28T09:57:09.023952",
     "status": "completed"
    },
    "tags": []
   },
   "outputs": [],
   "source": [
    "customer_df.shape"
   ]
  },
  {
   "cell_type": "markdown",
   "id": "96f6c563",
   "metadata": {
    "id": "-yiW2vy4d7ZM",
    "papermill": {
     "duration": 0.030563,
     "end_time": "2021-07-28T09:57:09.123750",
     "exception": false,
     "start_time": "2021-07-28T09:57:09.093187",
     "status": "completed"
    },
    "tags": []
   },
   "source": [
    "### Data Information"
   ]
  },
  {
   "cell_type": "code",
   "execution_count": null,
   "id": "e86cd21a",
   "metadata": {
    "id": "n0DhYYQNd69I",
    "outputId": "47215761-dc6d-4753-91f8-7ab8e580302b",
    "papermill": {
     "duration": 0.050722,
     "end_time": "2021-07-28T09:57:09.204368",
     "exception": false,
     "start_time": "2021-07-28T09:57:09.153646",
     "status": "completed"
    },
    "tags": []
   },
   "outputs": [],
   "source": [
    "customer_df.info()"
   ]
  },
  {
   "cell_type": "markdown",
   "id": "fbc81b8b",
   "metadata": {
    "id": "HYHkJLbGeIJk",
    "papermill": {
     "duration": 0.02952,
     "end_time": "2021-07-28T09:57:09.263862",
     "exception": false,
     "start_time": "2021-07-28T09:57:09.234342",
     "status": "completed"
    },
    "tags": []
   },
   "source": [
    "### Statistical description "
   ]
  },
  {
   "cell_type": "code",
   "execution_count": null,
   "id": "68457c1b",
   "metadata": {
    "id": "HC5hsWj0eVZT",
    "outputId": "ca71b7b1-cfdd-4226-ff0f-bd6ddd2695a0",
    "papermill": {
     "duration": 0.072898,
     "end_time": "2021-07-28T09:57:09.366440",
     "exception": false,
     "start_time": "2021-07-28T09:57:09.293542",
     "status": "completed"
    },
    "tags": []
   },
   "outputs": [],
   "source": [
    "customer_df.describe()"
   ]
  },
  {
   "cell_type": "markdown",
   "id": "5304ac52",
   "metadata": {
    "id": "joeQWn-Kdxi4",
    "papermill": {
     "duration": 0.030308,
     "end_time": "2021-07-28T09:57:09.427622",
     "exception": false,
     "start_time": "2021-07-28T09:57:09.397314",
     "status": "completed"
    },
    "tags": []
   },
   "source": [
    "### Data Types"
   ]
  },
  {
   "cell_type": "code",
   "execution_count": null,
   "id": "a8eb5074",
   "metadata": {
    "id": "UhXYlikXbj3p",
    "outputId": "cb10f19a-4de0-4930-a8ab-cb71b9029bfe",
    "papermill": {
     "duration": 0.040144,
     "end_time": "2021-07-28T09:57:09.498355",
     "exception": false,
     "start_time": "2021-07-28T09:57:09.458211",
     "status": "completed"
    },
    "tags": []
   },
   "outputs": [],
   "source": [
    "customer_dtype = customer_df.dtypes\n",
    "customer_dtype"
   ]
  },
  {
   "cell_type": "markdown",
   "id": "f6c3cfbe",
   "metadata": {
    "id": "JOGtFN32eB9q",
    "papermill": {
     "duration": 0.030206,
     "end_time": "2021-07-28T09:57:09.559321",
     "exception": false,
     "start_time": "2021-07-28T09:57:09.529115",
     "status": "completed"
    },
    "tags": []
   },
   "source": [
    "### Null Values"
   ]
  },
  {
   "cell_type": "code",
   "execution_count": null,
   "id": "a60ad7fe",
   "metadata": {
    "id": "FD5VjCDDbjzm",
    "outputId": "5d1ce42a-7851-4682-88cf-2b2cf0e7e977",
    "papermill": {
     "duration": 0.041071,
     "end_time": "2021-07-28T09:57:09.630930",
     "exception": false,
     "start_time": "2021-07-28T09:57:09.589859",
     "status": "completed"
    },
    "tags": []
   },
   "outputs": [],
   "source": [
    "customer_df.isnull().sum().sort_values(ascending = False).head()"
   ]
  },
  {
   "cell_type": "markdown",
   "id": "c17539a3",
   "metadata": {
    "id": "TR8zx8A1gZSO",
    "papermill": {
     "duration": 0.032093,
     "end_time": "2021-07-28T09:57:10.346234",
     "exception": false,
     "start_time": "2021-07-28T09:57:10.314141",
     "status": "completed"
    },
    "tags": []
   },
   "source": [
    "### Observations from Data Exploration\n",
    "\n",
    "From the above data exploration we saw that\n",
    "\n",
    "- There is no missing value present\n",
    "- Shape of the dataset is (200, 5) - 200 rows and 5 columns\n",
    "- Memory usage by dataset is about 7.9 KB\n",
    "- There are 4 integer and 1 object type feature present"
   ]
  },
  {
   "cell_type": "markdown",
   "id": "52fdfe74",
   "metadata": {
    "id": "pcQ058Oej-mc",
    "papermill": {
     "duration": 0.032211,
     "end_time": "2021-07-28T09:57:10.410695",
     "exception": false,
     "start_time": "2021-07-28T09:57:10.378484",
     "status": "completed"
    },
    "tags": []
   },
   "source": [
    "## Check Distribution\n",
    "\n",
    "### Continuous Features"
   ]
  },
  {
   "cell_type": "code",
   "execution_count": null,
   "id": "e5a10001-c258-4095-9dfc-289ffd328a06",
   "metadata": {
    "tags": []
   },
   "outputs": [],
   "source": [
    "customer_df.columns"
   ]
  },
  {
   "cell_type": "code",
   "execution_count": null,
   "id": "99e1b211-2641-41db-8543-137337b49f65",
   "metadata": {
    "tags": []
   },
   "outputs": [],
   "source": [
    "continuous_features = [ 'Age', 'Annual Income (k$)', 'Spending Score (1-100)']"
   ]
  },
  {
   "cell_type": "code",
   "execution_count": null,
   "id": "f0d875a5",
   "metadata": {
    "id": "BHUwvgECh2ZM",
    "outputId": "993339e5-8363-4fe3-cc72-5828aa0cccda",
    "papermill": {
     "duration": 0.824376,
     "end_time": "2021-07-28T09:57:11.344761",
     "exception": false,
     "start_time": "2021-07-28T09:57:10.520385",
     "status": "completed"
    },
    "tags": []
   },
   "outputs": [],
   "source": [
    "f, axes = plt.subplots(2,2 , figsize=(20, 7), sharex=False)\n",
    "pos = 1\n",
    "for i, feature in enumerate(continuous_features):\n",
    "\n",
    "    plt.subplot(1 , 3 , pos)\n",
    "    ax = sns.histplot(data=customer_df, x = feature,kde=True,palette=\"husl\")\n",
    "    ax.lines[0].set_color('crimson')\n",
    "    pos = pos + 1"
   ]
  },
  {
   "cell_type": "markdown",
   "id": "79f21231",
   "metadata": {
    "id": "FxViK4Uwk2I8",
    "papermill": {
     "duration": 0.034254,
     "end_time": "2021-07-28T09:57:11.500148",
     "exception": false,
     "start_time": "2021-07-28T09:57:11.465894",
     "status": "completed"
    },
    "tags": []
   },
   "source": [
    "Above distribution shows that:\n",
    "- The distribution of continuous features are normally distributed.\n"
   ]
  },
  {
   "cell_type": "markdown",
   "id": "5d6ca311",
   "metadata": {
    "id": "iqCMzWw-mWsM",
    "papermill": {
     "duration": 0.034065,
     "end_time": "2021-07-28T09:57:11.568794",
     "exception": false,
     "start_time": "2021-07-28T09:57:11.534729",
     "status": "completed"
    },
    "tags": []
   },
   "source": [
    "### Categorical Features"
   ]
  },
  {
   "cell_type": "code",
   "execution_count": null,
   "id": "2c0e1dac",
   "metadata": {
    "id": "kXYZrDC9h2Rh",
    "outputId": "98303b7b-350e-4f6b-a839-c261c3d3d714",
    "papermill": {
     "duration": 0.145476,
     "end_time": "2021-07-28T09:57:11.748752",
     "exception": false,
     "start_time": "2021-07-28T09:57:11.603276",
     "status": "completed"
    },
    "tags": []
   },
   "outputs": [],
   "source": [
    "sns.countplot(x='Gender', data=customer_df, palette=\"Set2\")\n",
    "plt.show()"
   ]
  },
  {
   "cell_type": "markdown",
   "id": "c3511dc5",
   "metadata": {
    "id": "NyjFigOdNz0O",
    "papermill": {
     "duration": 0.034781,
     "end_time": "2021-07-28T09:57:11.818995",
     "exception": false,
     "start_time": "2021-07-28T09:57:11.784214",
     "status": "completed"
    },
    "tags": []
   },
   "source": [
    "- Let's see how gender of customers affects to all other features."
   ]
  },
  {
   "cell_type": "code",
   "execution_count": null,
   "id": "033d8358",
   "metadata": {
    "id": "kNv3QIoKM_nG",
    "outputId": "da14f640-b249-419c-df31-5c637cf838b5",
    "papermill": {
     "duration": 3.22819,
     "end_time": "2021-07-28T09:57:15.082636",
     "exception": false,
     "start_time": "2021-07-28T09:57:11.854446",
     "status": "completed"
    },
    "tags": []
   },
   "outputs": [],
   "source": [
    "#Pairplot\n",
    "sns.pairplot(customer_df,\n",
    "             vars=[\"Age\", \"Annual Income (k$)\", \"Spending Score (1-100)\"],\n",
    "             kind =\"reg\",\n",
    "             hue = \"Gender\",\n",
    "             palette=\"husl\",\n",
    "             markers = ['o','D'])\n",
    "\n",
    "plt.show()"
   ]
  },
  {
   "cell_type": "markdown",
   "id": "e8a80475",
   "metadata": {
    "id": "6myFWaUKOyYy",
    "papermill": {
     "duration": 0.038681,
     "end_time": "2021-07-28T09:57:15.160928",
     "exception": false,
     "start_time": "2021-07-28T09:57:15.122247",
     "status": "completed"
    },
    "tags": []
   },
   "source": [
    "- From the above pairplot we observe that green colour has higher ratio than pink colour as there are more female customers than male."
   ]
  },
  {
   "cell_type": "markdown",
   "id": "d1e19aaa",
   "metadata": {
    "id": "0HPLay9zotsx",
    "papermill": {
     "duration": 0.038775,
     "end_time": "2021-07-28T09:57:15.239111",
     "exception": false,
     "start_time": "2021-07-28T09:57:15.200336",
     "status": "completed"
    },
    "tags": []
   },
   "source": [
    "## Data Correlation\n",
    "\n",
    "Correlation is a statistical measure that indicates the extent to which two or more variables fluctuate in relation to each other.\n",
    "\n",
    "- A **positive** correlation indicates the extent to which those variables increase or decrease in parallel.\n",
    "- A **negative** correlation indicates the extent to which one variable increases as the other decreases."
   ]
  },
  {
   "cell_type": "code",
   "execution_count": null,
   "id": "48d4e3d1",
   "metadata": {
    "id": "MrvbBEnjlSky",
    "outputId": "2d558aae-e080-40b5-d035-747ee1c18d4c",
    "papermill": {
     "duration": 0.317433,
     "end_time": "2021-07-28T09:57:15.595649",
     "exception": false,
     "start_time": "2021-07-28T09:57:15.278216",
     "status": "completed"
    },
    "tags": []
   },
   "outputs": [],
   "source": [
    "customer_corr = customer_df.corr()\n",
    "plt.figure(figsize=(8,8))\n",
    "sns.heatmap(customer_corr, cmap=\"icefire\", linewidths=.5) \n",
    "plt.show()"
   ]
  },
  {
   "cell_type": "markdown",
   "id": "d12d222d",
   "metadata": {
    "id": "Jzkp_pdT3Z7z",
    "papermill": {
     "duration": 0.039841,
     "end_time": "2021-07-28T09:57:15.675987",
     "exception": false,
     "start_time": "2021-07-28T09:57:15.636146",
     "status": "completed"
    },
    "tags": []
   },
   "source": [
    "# Feature Engineering\n",
    "\n",
    "- All machine learning algorithms use input data to train a model. This input data comprise features, which are usually in the form of structured columns.\n",
    "- Algorithms require features with some specific characteristic to work properly. Here, the need for feature engineering arises.\n",
    "- Feature engineering mainly have two goals:\n",
    "    1. Preparing the proper input dataset, compatible with the machine learning algorithm requirements.\n",
    "    2. Improving the performance of machine learning models.\n"
   ]
  },
  {
   "cell_type": "markdown",
   "id": "7c7ff9b2",
   "metadata": {
    "id": "Rm7rbmwX3hKb",
    "papermill": {
     "duration": 0.040185,
     "end_time": "2021-07-28T09:57:15.758105",
     "exception": false,
     "start_time": "2021-07-28T09:57:15.717920",
     "status": "completed"
    },
    "tags": []
   },
   "source": [
    "## Drop Columns"
   ]
  },
  {
   "cell_type": "code",
   "execution_count": null,
   "id": "6d3e2238",
   "metadata": {
    "id": "COw6U5hflSgw",
    "papermill": {
     "duration": 0.049757,
     "end_time": "2021-07-28T09:57:15.848177",
     "exception": false,
     "start_time": "2021-07-28T09:57:15.798420",
     "status": "completed"
    },
    "tags": []
   },
   "outputs": [],
   "source": [
    "customer_df.drop(columns='CustomerID',axis=1,inplace=True)"
   ]
  },
  {
   "cell_type": "markdown",
   "id": "529e996d",
   "metadata": {
    "id": "3M10XMfk7iAF",
    "papermill": {
     "duration": 0.040252,
     "end_time": "2021-07-28T09:57:15.929143",
     "exception": false,
     "start_time": "2021-07-28T09:57:15.888891",
     "status": "completed"
    },
    "tags": []
   },
   "source": [
    "## Encoding Categorical Features"
   ]
  },
  {
   "cell_type": "markdown",
   "id": "d5276de3-6cbb-457b-99e4-9c80bec264df",
   "metadata": {
    "tags": []
   },
   "source": [
    "### What is Categorical Data?\n",
    "- Categorical data are variables that contain label values rather than numeric values.\n",
    "- The number of possible values is often limited to a fixed set.\n",
    "- Categorical variables are often called nominal.\n",
    "\n",
    "- Some examples include:\n",
    "    - A “pet” variable with the values: “dog” and “cat“.\n",
    "    - A “gender” variable with the values: “male“ and “female\"\n",
    "    - A “place” variable with the values: “first”, “second” and “third“.<br>\n",
    "    Each value represents a different category.\n",
    "\n",
    "- Some categories may have a natural relationship to each other, such as a natural ordering. The “place” variable above does have a natural ordering of values. This type of categorical variable is called an ordinal variable."
   ]
  },
  {
   "cell_type": "markdown",
   "id": "db645491-9957-4c27-8e10-e8f98b73afde",
   "metadata": {
    "tags": []
   },
   "source": [
    "### What is the Problem with Categorical Data?\n",
    "\n",
    "- Some algorithms can work with categorical data directly.\n",
    "- Many machine learning algorithms cannot operate on label data directly. They require all input variables and output variables to be numeric.\n",
    "- In general, this is mostly a constraint of the efficient implementation of machine learning algorithms rather than hard limitations on the algorithms themselves.\n",
    "- This means that categorical data must be converted to a numerical form. If the categorical variable is an output variable, you may also want to convert predictions by the model back into a categorical form in order to present them or use them in some application."
   ]
  },
  {
   "cell_type": "markdown",
   "id": "55e7aa72-fe58-4483-b395-722d47cb8a0b",
   "metadata": {
    "tags": []
   },
   "source": [
    "### How to Convert Categorical Data to Numerical Data?\n",
    "There are two ways:\n",
    "- Integer Encoding\n",
    "- One-Hot Encoding"
   ]
  },
  {
   "cell_type": "markdown",
   "id": "8f9b2071-52b3-4e15-b46b-4478cbc9672c",
   "metadata": {
    "tags": []
   },
   "source": [
    "**1. Integer Encoding**\n",
    "\n",
    "- As a first step, each unique category value is assigned an integer value.\n",
    "- For example, “red” is 1, “green” is 2, and “blue” is 3.\n",
    "- This is called a **label encoding** or integer encoding and is easily reversible.\n",
    "- For some variables, this may be enough.\n",
    "- The integer values have a natural ordered relationship between each other and machine learning algorithms may be able to understand and harness this relationship.\n",
    "- For example, ordinal variables like the “place” example above would be a good example where a label encoding would be sufficient"
   ]
  },
  {
   "cell_type": "markdown",
   "id": "73092af3-b886-492e-8740-6a085e8bd7b5",
   "metadata": {
    "tags": []
   },
   "source": [
    "**2. One-Hot Encoding**\n",
    "\n",
    "- For categorical variables where no such ordinal relationship exists, the integer encoding is not enough.\n",
    "- In fact, using this encoding and allowing the model to assume a natural ordering between categories may result in poor performance or unexpected results (predictions halfway between categories).\n",
    "- In this case, a one-hot encoding can be applied to the integer representation. This is where the integer encoded variable is removed and a new binary variable is added for each unique integer value.\n",
    "- In the “color” variable example, there are 3 categories and therefore 3 binary variables are needed. A “1” value is placed in the binary variable for the color and “0” values for the other colors."
   ]
  },
  {
   "cell_type": "markdown",
   "id": "e896c723-eb07-4262-96b1-de1bf17a692c",
   "metadata": {
    "tags": []
   },
   "source": [
    "<img src=\"https://etlpoint.com/wp-content/uploads/2020/07/77.png\">"
   ]
  },
  {
   "cell_type": "code",
   "execution_count": null,
   "id": "5e69df16-7d33-4571-939e-f57d263bd689",
   "metadata": {
    "tags": []
   },
   "outputs": [],
   "source": [
    "from sklearn.preprocessing import OneHotEncoder"
   ]
  },
  {
   "cell_type": "code",
   "execution_count": null,
   "id": "890041c8-c622-41e8-8af9-5f464ca67e66",
   "metadata": {
    "tags": []
   },
   "outputs": [],
   "source": [
    "enc = OneHotEncoder()"
   ]
  },
  {
   "cell_type": "code",
   "execution_count": null,
   "id": "1a1f00c9-57c6-4a09-a9bf-30c110714c29",
   "metadata": {
    "tags": []
   },
   "outputs": [],
   "source": [
    "enc.fit(customer_df.Gender.values.reshape(-1, 1))"
   ]
  },
  {
   "cell_type": "code",
   "execution_count": null,
   "id": "f450379c-8d59-4d17-8878-f67e81a78c05",
   "metadata": {
    "tags": []
   },
   "outputs": [],
   "source": [
    "enc.get_feature_names(['gender'])"
   ]
  },
  {
   "cell_type": "code",
   "execution_count": null,
   "id": "6e055c2a-bcb7-4874-b2d3-84646c7c959f",
   "metadata": {
    "tags": []
   },
   "outputs": [],
   "source": [
    "encoded_array = enc.transform(customer_df.Gender.values.reshape(-1, 1)).toarray()\n",
    "customer_df['gender_Female'] = encoded_array[:,0]\n",
    "customer_df['gender_Male'] = encoded_array[:,1]"
   ]
  },
  {
   "cell_type": "markdown",
   "id": "90570de3-4fc9-4763-ace8-57a477d5e6ab",
   "metadata": {
    "tags": []
   },
   "source": [
    "- By reshaping array with `(-1, 1)`, the array gets reshaped in such a way that the resulting array has only 1 column."
   ]
  },
  {
   "cell_type": "code",
   "execution_count": null,
   "id": "dea602dc-dcb8-4454-8d97-b57971822690",
   "metadata": {
    "tags": []
   },
   "outputs": [],
   "source": [
    "customer_df.head(10)"
   ]
  },
  {
   "cell_type": "code",
   "execution_count": null,
   "id": "2cba0dcc-27ca-43e5-99dc-b1669af8cc64",
   "metadata": {
    "tags": []
   },
   "outputs": [],
   "source": [
    "customer_df.drop(columns='Gender',axis=1,inplace=True)"
   ]
  },
  {
   "cell_type": "code",
   "execution_count": null,
   "id": "a4ef3aa4-1a9b-422d-8479-c30c3dbc8a2a",
   "metadata": {},
   "outputs": [],
   "source": [
    "customer_df.head()"
   ]
  },
  {
   "cell_type": "markdown",
   "id": "1fbac1d4",
   "metadata": {
    "id": "48uJmQXG9u-N",
    "papermill": {
     "duration": 0.040113,
     "end_time": "2021-07-28T09:57:16.269212",
     "exception": false,
     "start_time": "2021-07-28T09:57:16.229099",
     "status": "completed"
    },
    "tags": []
   },
   "source": [
    "# Model Development"
   ]
  },
  {
   "cell_type": "code",
   "execution_count": null,
   "id": "1f56ec7d-95ff-46c8-a8d4-588415440284",
   "metadata": {
    "tags": []
   },
   "outputs": [],
   "source": [
    "model = KMeans(n_clusters=3, random_state=21)"
   ]
  },
  {
   "cell_type": "markdown",
   "id": "e26bc98d",
   "metadata": {
    "id": "TdKFKuTYExvZ",
    "papermill": {
     "duration": 0.040117,
     "end_time": "2021-07-28T09:57:16.430338",
     "exception": false,
     "start_time": "2021-07-28T09:57:16.390221",
     "status": "completed"
    },
    "tags": []
   },
   "source": [
    "## Elbow Method\n",
    "The elbow method finds the value of the optimal number of clusters using the total within-cluster sum of square values."
   ]
  },
  {
   "cell_type": "code",
   "execution_count": null,
   "id": "8984918a",
   "metadata": {
    "id": "PjlNHd2z9nZ0",
    "outputId": "72c21b35-fc0f-421c-f486-f0e872e9c86c",
    "papermill": {
     "duration": 0.869342,
     "end_time": "2021-07-28T09:57:17.340126",
     "exception": false,
     "start_time": "2021-07-28T09:57:16.470784",
     "status": "completed"
    },
    "tags": []
   },
   "outputs": [],
   "source": [
    "inertia = []\n",
    "range_val = range(1,15)\n",
    "for i in range_val:\n",
    "    kmeans_model = KMeans(n_clusters=i, random_state=21)\n",
    "    kmeans_model.fit(customer_df)\n",
    "    inertia.append(kmeans_model.inertia_)\n",
    "\n",
    "fig = plt.figure(figsize=(6,5),dpi=100)\n",
    "plt.plot(range_val ,inertia,'bx-')\n",
    "plt.grid(color=\"gray\", linestyle='--')\n",
    "plt.xlabel('Values of K') \n",
    "plt.ylabel('Inertia') \n",
    "plt.title('The Elbow Method using Inertia') \n",
    "plt.show()"
   ]
  },
  {
   "cell_type": "markdown",
   "id": "729f9c65-3f17-44c3-947c-e66edf85dad3",
   "metadata": {
    "tags": []
   },
   "source": [
    "## Silhouette Score\n",
    "\n",
    "Silhouette refers to a method of interpretation and validation of consistency within clusters of data.\n",
    "\n",
    "- The silhouette value is a measure of how similar an object is to its own cluster (cohesion) compared to other clusters (separation).\n",
    "- The silhouette ranges from −1 to +1, where a high value indicates that the object is well matched to its own cluster and poorly matched to neighboring clusters.\n",
    "- If most objects have a high value, then the clustering configuration is appropriate.\n",
    "- If many points have a low or negative value, then the clustering configuration may have too many or too few clusters."
   ]
  },
  {
   "cell_type": "code",
   "execution_count": null,
   "id": "5b0c13db-3433-47aa-8980-8661441885f4",
   "metadata": {
    "tags": []
   },
   "outputs": [],
   "source": [
    "from sklearn.metrics import silhouette_score"
   ]
  },
  {
   "cell_type": "code",
   "execution_count": null,
   "id": "95236003-af67-44eb-9a0b-4c651c50634f",
   "metadata": {
    "tags": []
   },
   "outputs": [],
   "source": [
    "kmeans_4 = KMeans(n_clusters=4, random_state=21)\n",
    "kmeans_4.fit(customer_df)"
   ]
  },
  {
   "cell_type": "code",
   "execution_count": null,
   "id": "69432306-02f0-45b1-a640-c99ce818f9ed",
   "metadata": {
    "tags": []
   },
   "outputs": [],
   "source": [
    "# Let's plot the silhouette score as a function of k:\n",
    "silhouette_score(customer_df, kmeans_4.labels_)"
   ]
  },
  {
   "cell_type": "code",
   "execution_count": null,
   "id": "c154bdf7-4b1c-4984-93d2-2c781feb6bbc",
   "metadata": {
    "tags": []
   },
   "outputs": [],
   "source": [
    "# Create a list of hypotethical scenarios for different number of clusters\n",
    "kmeans_per_k = [KMeans(n_clusters=k, random_state=21).fit(customer_df) for k in range(1, 10)]"
   ]
  },
  {
   "cell_type": "code",
   "execution_count": null,
   "id": "9ada048f-4faf-4f4f-a1a3-3ae4ff9a318b",
   "metadata": {
    "tags": []
   },
   "outputs": [],
   "source": [
    "silhouette_scores = [silhouette_score(customer_df, model.labels_) for model in kmeans_per_k[1:]]"
   ]
  },
  {
   "cell_type": "code",
   "execution_count": null,
   "id": "c6553b97-29b1-4767-bb4d-76428b8bff5c",
   "metadata": {
    "tags": []
   },
   "outputs": [],
   "source": [
    "silhouette_scores"
   ]
  },
  {
   "cell_type": "code",
   "execution_count": null,
   "id": "f1d64521-ba60-41b4-aa03-61a92bb75266",
   "metadata": {
    "tags": []
   },
   "outputs": [],
   "source": [
    " # Plot the silhoutee scores graph\n",
    "fig = plt.figure(figsize=(16,5),dpi=200)\n",
    "plt.plot(range(2, 10), silhouette_scores, \"b\", marker = 'o', linewidth=2, markersize=8, label='Silhoutee curve')\n",
    "plt.xlabel(\"$k$\", fontsize=14, family='Arial')\n",
    "plt.ylabel(\"Silhouette score\", fontsize=14, family='Arial')\n",
    "plt.grid(which='major', color=\"#cccccc\", linestyle='--')\n",
    "plt.title('Silhoutte curve for predict optimal number of clusters', family='Arial', fontsize=14)\n",
    "\n",
    "# # Find the optimal number of cluster\n",
    "# # Draw a vertical Line to mark optimal number of clusters\n",
    "k=6\n",
    "plt.axvline(x=6, linestyle='--', c='green', linewidth=1, \n",
    "            label='Optimal number of clusters ({})'.format(6))\n",
    "plt.scatter(6, silhouette_scores[k-2], c='red', s=400)\n",
    "plt.legend(shadow=True)\n",
    "plt.show()"
   ]
  },
  {
   "cell_type": "markdown",
   "id": "6613047a-050b-459f-9a10-e35496b48f5e",
   "metadata": {
    "tags": []
   },
   "source": [
    "- From the above elbow method we see that **K = 6** is the best K value for our clustering"
   ]
  },
  {
   "cell_type": "markdown",
   "id": "28c65f9c",
   "metadata": {
    "id": "9dom5-X2uS8x",
    "papermill": {
     "duration": 0.041498,
     "end_time": "2021-07-28T09:57:17.509718",
     "exception": false,
     "start_time": "2021-07-28T09:57:17.468220",
     "status": "completed"
    },
    "tags": []
   },
   "source": [
    "# Cluster Plots"
   ]
  },
  {
   "cell_type": "code",
   "execution_count": null,
   "id": "35082cbc",
   "metadata": {
    "id": "XTuoAIeRuSaa",
    "papermill": {
     "duration": 0.082415,
     "end_time": "2021-07-28T09:57:17.634182",
     "exception": false,
     "start_time": "2021-07-28T09:57:17.551767",
     "status": "completed"
    },
    "tags": []
   },
   "outputs": [],
   "source": [
    "# apply kmeans algorithm\n",
    "kmeans_model=KMeans(6, random_state=21)\n",
    "kmeans_clusters = kmeans_model.fit(customer_df)"
   ]
  },
  {
   "cell_type": "code",
   "execution_count": null,
   "id": "26683fd2-5d4e-4854-9bae-632e64b776a3",
   "metadata": {
    "tags": []
   },
   "outputs": [],
   "source": [
    "kmeans_model.labels_"
   ]
  },
  {
   "cell_type": "code",
   "execution_count": null,
   "id": "55afc048-ec54-4353-beaf-557bb1650940",
   "metadata": {
    "tags": []
   },
   "outputs": [],
   "source": [
    "fig = plt.figure(figsize=(5,5), dpi=100)\n",
    "plt.scatter(customer_df['Age'], customer_df['Spending Score (1-100)'], \n",
    "            c=kmeans_model.labels_, cmap='gist_rainbow', s=10)\n",
    "plt.grid(linewidth = 0.2)\n",
    "plt.xlabel(\"Age\")\n",
    "plt.ylabel(\"Spending Score\")\n",
    "plt.show()"
   ]
  },
  {
   "cell_type": "code",
   "execution_count": null,
   "id": "7cbf70a4",
   "metadata": {
    "id": "pddItEvo8VJK",
    "outputId": "f832ec3c-2a26-4776-930a-b6532e856315",
    "papermill": {
     "duration": 0.319396,
     "end_time": "2021-07-28T09:57:18.965540",
     "exception": false,
     "start_time": "2021-07-28T09:57:18.646144",
     "status": "completed"
    },
    "tags": []
   },
   "outputs": [],
   "source": [
    "customer_df[\"label\"] = kmeans_clusters.labels_\n",
    " \n",
    "fig = plt.figure(figsize=(20,13), dpi=300)\n",
    "ax = fig.add_subplot(111, projection='3d')\n",
    "ax.scatter(customer_df.Age[customer_df.label == 0], \n",
    "           customer_df[\"Annual Income (k$)\"][customer_df.label == 0], \n",
    "           customer_df[\"Spending Score (1-100)\"][customer_df.label == 0], \n",
    "           c='blue', s=60)\n",
    "\n",
    "ax.scatter(customer_df.Age[customer_df.label == 1],\n",
    "           customer_df[\"Annual Income (k$)\"][customer_df.label == 1],\n",
    "           customer_df[\"Spending Score (1-100)\"][customer_df.label == 1],\n",
    "           c='red', s=60)\n",
    "\n",
    "ax.scatter(customer_df.Age[customer_df.label == 2],\n",
    "           customer_df[\"Annual Income (k$)\"][customer_df.label == 2],\n",
    "           customer_df[\"Spending Score (1-100)\"][customer_df.label == 2],\n",
    "           c='green', s=60)\n",
    "\n",
    "ax.scatter(customer_df.Age[customer_df.label == 3],\n",
    "           customer_df[\"Annual Income (k$)\"][customer_df.label == 3],\n",
    "           customer_df[\"Spending Score (1-100)\"][customer_df.label == 3],\n",
    "           c='orange', s=60)\n",
    "\n",
    "ax.scatter(customer_df.Age[customer_df.label == 4],\n",
    "           customer_df[\"Annual Income (k$)\"][customer_df.label == 4],\n",
    "           customer_df[\"Spending Score (1-100)\"][customer_df.label == 4],\n",
    "           c='purple', s=60)\n",
    "\n",
    "ax.scatter(customer_df.Age[customer_df.label == 5],\n",
    "           customer_df[\"Annual Income (k$)\"][customer_df.label == 5],\n",
    "           customer_df[\"Spending Score (1-100)\"][customer_df.label == 5],\n",
    "           c='black', s=60)\n",
    "\n",
    "ax.view_init(30, 185)\n",
    "plt.xlabel(\"Age\")\n",
    "plt.ylabel(\"Annual Income (k$)\")\n",
    "ax.set_zlabel('Spending Score (1-100)')\n",
    "plt.title(\"3D Cluster Plot\")\n",
    "plt.show()"
   ]
  }
 ],
 "metadata": {
  "kernelspec": {
   "display_name": "Python 3 (ipykernel)",
   "language": "python",
   "name": "python3"
  },
  "language_info": {
   "codemirror_mode": {
    "name": "ipython",
    "version": 3
   },
   "file_extension": ".py",
   "mimetype": "text/x-python",
   "name": "python",
   "nbconvert_exporter": "python",
   "pygments_lexer": "ipython3",
   "version": "3.9.5"
  },
  "papermill": {
   "default_parameters": {},
   "duration": 27.75267,
   "end_time": "2021-07-28T09:57:20.706453",
   "environment_variables": {},
   "exception": null,
   "input_path": "__notebook__.ipynb",
   "output_path": "__notebook__.ipynb",
   "parameters": {},
   "start_time": "2021-07-28T09:56:52.953783",
   "version": "2.3.3"
  },
  "toc-autonumbering": true
 },
 "nbformat": 4,
 "nbformat_minor": 5
}
