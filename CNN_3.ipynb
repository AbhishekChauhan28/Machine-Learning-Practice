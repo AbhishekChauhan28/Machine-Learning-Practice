{
 "cells": [
  {
   "cell_type": "markdown",
   "id": "411c90c8-494a-4041-8546-45250864628a",
   "metadata": {},
   "source": [
    "# Data Prepration"
   ]
  },
  {
   "cell_type": "code",
   "execution_count": 1,
   "id": "fc685f7e-75df-4151-aff0-e9835891e788",
   "metadata": {},
   "outputs": [],
   "source": [
    "import os\n",
    "import pandas as pd\n",
    "import numpy as np\n",
    "from tensorflow.keras.preprocessing.image import ImageDataGenerator\n",
    "from sklearn.model_selection import train_test_split\n",
    "from tensorflow.keras.models import Sequential\n",
    "from tensorflow.keras.layers import Conv2D, MaxPool2D, Flatten, Dense\n",
    "from tensorflow.keras.utils import plot_model\n",
    "from tensorflow.keras.callbacks import EarlyStopping\n",
    "from sklearn.metrics import confusion_matrix, classification_report\n",
    "\n",
    "from matplotlib import pyplot as plt\n",
    "%matplotlib inline\n",
    "import seaborn as sns"
   ]
  },
  {
   "cell_type": "code",
   "execution_count": 2,
   "id": "912fc635-f6cd-41db-9819-a2a402873686",
   "metadata": {
    "tags": []
   },
   "outputs": [],
   "source": [
    "Img_Dir = \"/media/abhishek/589E61B39E618A783/C-DAC Document/Practical Machine Learning/PML/Code/Dataset/images\""
   ]
  },
  {
   "cell_type": "code",
   "execution_count": 3,
   "id": "51d4cc62-a520-4957-9161-058bc97415b2",
   "metadata": {},
   "outputs": [],
   "source": [
    "df = pd.DataFrame(columns = [\"image_name\", \"label\"])"
   ]
  },
  {
   "cell_type": "code",
   "execution_count": 4,
   "id": "f3dc0306-ccdc-43c6-9ef3-4dd8454cd573",
   "metadata": {},
   "outputs": [
    {
     "data": {
      "text/html": [
       "<div>\n",
       "<style scoped>\n",
       "    .dataframe tbody tr th:only-of-type {\n",
       "        vertical-align: middle;\n",
       "    }\n",
       "\n",
       "    .dataframe tbody tr th {\n",
       "        vertical-align: top;\n",
       "    }\n",
       "\n",
       "    .dataframe thead th {\n",
       "        text-align: right;\n",
       "    }\n",
       "</style>\n",
       "<table border=\"1\" class=\"dataframe\">\n",
       "  <thead>\n",
       "    <tr style=\"text-align: right;\">\n",
       "      <th></th>\n",
       "      <th>image_name</th>\n",
       "      <th>label</th>\n",
       "    </tr>\n",
       "  </thead>\n",
       "  <tbody>\n",
       "  </tbody>\n",
       "</table>\n",
       "</div>"
      ],
      "text/plain": [
       "Empty DataFrame\n",
       "Columns: [image_name, label]\n",
       "Index: []"
      ]
     },
     "execution_count": 4,
     "metadata": {},
     "output_type": "execute_result"
    }
   ],
   "source": [
    "df"
   ]
  },
  {
   "cell_type": "code",
   "execution_count": 5,
   "id": "4cd04263-3b84-4ec2-a34d-1bc85a65601a",
   "metadata": {},
   "outputs": [],
   "source": [
    "for index, image in enumerate(os.listdir(Img_Dir)):\n",
    "    if image.startswith(\"P\"):\n",
    "        df.loc[index, \"image_name\"] = image\n",
    "        df.loc[index, \"label\"] = \"POLLEN\"\n",
    "    elif image.startswith(\"N\"):\n",
    "        df.loc[index] = [image, \"NON POLLEN\"]      "
   ]
  },
  {
   "cell_type": "code",
   "execution_count": 6,
   "id": "c60fe8a7-0d9f-4179-ae0b-1b188c0b6831",
   "metadata": {},
   "outputs": [
    {
     "data": {
      "text/html": [
       "<div>\n",
       "<style scoped>\n",
       "    .dataframe tbody tr th:only-of-type {\n",
       "        vertical-align: middle;\n",
       "    }\n",
       "\n",
       "    .dataframe tbody tr th {\n",
       "        vertical-align: top;\n",
       "    }\n",
       "\n",
       "    .dataframe thead th {\n",
       "        text-align: right;\n",
       "    }\n",
       "</style>\n",
       "<table border=\"1\" class=\"dataframe\">\n",
       "  <thead>\n",
       "    <tr style=\"text-align: right;\">\n",
       "      <th></th>\n",
       "      <th>image_name</th>\n",
       "      <th>label</th>\n",
       "    </tr>\n",
       "  </thead>\n",
       "  <tbody>\n",
       "    <tr>\n",
       "      <th>0</th>\n",
       "      <td>NP10057-126r.jpg</td>\n",
       "      <td>NON POLLEN</td>\n",
       "    </tr>\n",
       "    <tr>\n",
       "      <th>1</th>\n",
       "      <td>NP10109-128r.jpg</td>\n",
       "      <td>NON POLLEN</td>\n",
       "    </tr>\n",
       "    <tr>\n",
       "      <th>2</th>\n",
       "      <td>NP10154-130r.jpg</td>\n",
       "      <td>NON POLLEN</td>\n",
       "    </tr>\n",
       "    <tr>\n",
       "      <th>3</th>\n",
       "      <td>NP10304-132r.jpg</td>\n",
       "      <td>NON POLLEN</td>\n",
       "    </tr>\n",
       "    <tr>\n",
       "      <th>4</th>\n",
       "      <td>NP1034-9r.jpg</td>\n",
       "      <td>NON POLLEN</td>\n",
       "    </tr>\n",
       "    <tr>\n",
       "      <th>...</th>\n",
       "      <td>...</td>\n",
       "      <td>...</td>\n",
       "    </tr>\n",
       "    <tr>\n",
       "      <th>709</th>\n",
       "      <td>NP56585-113r.jpg</td>\n",
       "      <td>NON POLLEN</td>\n",
       "    </tr>\n",
       "    <tr>\n",
       "      <th>710</th>\n",
       "      <td>NP56840-115r.jpg</td>\n",
       "      <td>NON POLLEN</td>\n",
       "    </tr>\n",
       "    <tr>\n",
       "      <th>711</th>\n",
       "      <td>NP56909-117r.jpg</td>\n",
       "      <td>NON POLLEN</td>\n",
       "    </tr>\n",
       "    <tr>\n",
       "      <th>712</th>\n",
       "      <td>NP57225-119r.jpg</td>\n",
       "      <td>NON POLLEN</td>\n",
       "    </tr>\n",
       "    <tr>\n",
       "      <th>713</th>\n",
       "      <td>NP57380-121r.jpg</td>\n",
       "      <td>NON POLLEN</td>\n",
       "    </tr>\n",
       "  </tbody>\n",
       "</table>\n",
       "<p>714 rows × 2 columns</p>\n",
       "</div>"
      ],
      "text/plain": [
       "           image_name       label\n",
       "0    NP10057-126r.jpg  NON POLLEN\n",
       "1    NP10109-128r.jpg  NON POLLEN\n",
       "2    NP10154-130r.jpg  NON POLLEN\n",
       "3    NP10304-132r.jpg  NON POLLEN\n",
       "4       NP1034-9r.jpg  NON POLLEN\n",
       "..                ...         ...\n",
       "709  NP56585-113r.jpg  NON POLLEN\n",
       "710  NP56840-115r.jpg  NON POLLEN\n",
       "711  NP56909-117r.jpg  NON POLLEN\n",
       "712  NP57225-119r.jpg  NON POLLEN\n",
       "713  NP57380-121r.jpg  NON POLLEN\n",
       "\n",
       "[714 rows x 2 columns]"
      ]
     },
     "execution_count": 6,
     "metadata": {},
     "output_type": "execute_result"
    }
   ],
   "source": [
    "df"
   ]
  },
  {
   "cell_type": "code",
   "execution_count": 7,
   "id": "01f7209d-5bd9-497a-acb6-7e190e646e85",
   "metadata": {},
   "outputs": [
    {
     "data": {
      "text/plain": [
       "1428"
      ]
     },
     "execution_count": 7,
     "metadata": {},
     "output_type": "execute_result"
    }
   ],
   "source": [
    "df.size"
   ]
  },
  {
   "cell_type": "code",
   "execution_count": 8,
   "id": "77b442a6-3ec7-43e3-b3df-473f9a03de1e",
   "metadata": {},
   "outputs": [],
   "source": [
    "train_DataGen = ImageDataGenerator(rescale = 1/255,\n",
    "                                  validation_split = 0.8)\n",
    "\n",
    "test_DataGen = ImageDataGenerator(rescale = 1/255)"
   ]
  },
  {
   "cell_type": "code",
   "execution_count": 9,
   "id": "69ac5400-0db6-4961-8c10-fecd5a2fd2f5",
   "metadata": {},
   "outputs": [],
   "source": [
    "train_df, test_df = train_test_split(df, test_size = 0.2, shuffle = True, random_state = 10)"
   ]
  },
  {
   "cell_type": "code",
   "execution_count": 10,
   "id": "db5b9219-8491-4c4a-8aaf-35585667e0fc",
   "metadata": {},
   "outputs": [
    {
     "name": "stdout",
     "output_type": "stream",
     "text": [
      "Found 115 validated image filenames belonging to 2 classes.\n",
      "Found 456 validated image filenames belonging to 2 classes.\n",
      "Found 143 validated image filenames belonging to 2 classes.\n"
     ]
    }
   ],
   "source": [
    "train_images = train_DataGen.flow_from_dataframe(dataframe = train_df,\n",
    "                                                      x_col = \"image_name\",\n",
    "                                                      y_col = \"label\",\n",
    "                                                      directory = Img_Dir,\n",
    "                                                      target_size = (200,200),\n",
    "                                                      class_mode = \"binary\",\n",
    "                                                      seed = 300,\n",
    "                                                      subset = 'training')\n",
    "\n",
    "val_images = train_DataGen.flow_from_dataframe(dataframe = train_df,\n",
    "                                                    x_col = \"image_name\",\n",
    "                                                    y_col = \"label\",\n",
    "                                                    directory = Img_Dir,\n",
    "                                                    target_size = (200,200),\n",
    "                                                    class_mode = \"binary\",\n",
    "                                                    seed = 300,\n",
    "                                                    subset = 'validation')\n",
    "\n",
    "test_images = test_DataGen.flow_from_dataframe(dataframe = test_df,\n",
    "                                                      x_col = \"image_name\",\n",
    "                                                      y_col = \"label\",\n",
    "                                                      directory = Img_Dir,\n",
    "                                                      target_size = (200,200),\n",
    "                                                      class_mode = \"binary\")"
   ]
  },
  {
   "cell_type": "code",
   "execution_count": 11,
   "id": "165ed82d-5ea2-4367-b761-6cbf51f19cea",
   "metadata": {},
   "outputs": [
    {
     "data": {
      "text/plain": [
       "(200, 200, 3)"
      ]
     },
     "execution_count": 11,
     "metadata": {},
     "output_type": "execute_result"
    }
   ],
   "source": [
    "test_images.image_shape"
   ]
  },
  {
   "cell_type": "markdown",
   "id": "cc811e0f-c7bb-461e-a528-cb9013632cb7",
   "metadata": {},
   "source": [
    "# Define the Model"
   ]
  },
  {
   "cell_type": "code",
   "execution_count": 12,
   "id": "43a4bf3e-2472-4174-ae2a-30861cf87f9b",
   "metadata": {},
   "outputs": [],
   "source": [
    "model = Sequential()"
   ]
  },
  {
   "cell_type": "code",
   "execution_count": 13,
   "id": "805d7882-2e51-48da-a5c0-573bf60b75cf",
   "metadata": {},
   "outputs": [],
   "source": [
    "model.add(Conv2D(filters = 40, kernel_size = (3,3), activation = 'relu', input_shape = (200,200,3), name = \"Input_layer\"))\n",
    "model.add(MaxPool2D((2,2), name = \"Pooling_1\"))"
   ]
  },
  {
   "cell_type": "code",
   "execution_count": 14,
   "id": "bf8b9066-2db0-4e3c-8afb-f56ed5c8c0fe",
   "metadata": {},
   "outputs": [],
   "source": [
    "model.add(Conv2D(filters = 80, kernel_size = (3,3), activation = 'relu', name = \"Conv_layer\"))\n",
    "model.add(MaxPool2D((2,2), name = \"Pooling_2\"))"
   ]
  },
  {
   "cell_type": "code",
   "execution_count": 15,
   "id": "76754023-8d92-45d7-bbbe-3107a5c0d5d1",
   "metadata": {},
   "outputs": [],
   "source": [
    "model.add(Flatten())\n",
    "model.add(Dense(200, activation = 'relu', name = \"Dense_1\"))\n",
    "model.add(Dense(100, activation = 'relu', name = \"Dense_2\"))\n",
    "model.add(Dense(1, activation = 'sigmoid', name = \"Output_Layer\"))"
   ]
  },
  {
   "cell_type": "code",
   "execution_count": 16,
   "id": "60320715-e849-4b70-b302-c9a18b87c331",
   "metadata": {},
   "outputs": [
    {
     "name": "stdout",
     "output_type": "stream",
     "text": [
      "Model: \"sequential\"\n",
      "_________________________________________________________________\n",
      "Layer (type)                 Output Shape              Param #   \n",
      "=================================================================\n",
      "Input_layer (Conv2D)         (None, 198, 198, 40)      1120      \n",
      "_________________________________________________________________\n",
      "Pooling_1 (MaxPooling2D)     (None, 99, 99, 40)        0         \n",
      "_________________________________________________________________\n",
      "Conv_layer (Conv2D)          (None, 97, 97, 80)        28880     \n",
      "_________________________________________________________________\n",
      "Pooling_2 (MaxPooling2D)     (None, 48, 48, 80)        0         \n",
      "_________________________________________________________________\n",
      "flatten (Flatten)            (None, 184320)            0         \n",
      "_________________________________________________________________\n",
      "Dense_1 (Dense)              (None, 200)               36864200  \n",
      "_________________________________________________________________\n",
      "Dense_2 (Dense)              (None, 100)               20100     \n",
      "_________________________________________________________________\n",
      "Output_Layer (Dense)         (None, 1)                 101       \n",
      "=================================================================\n",
      "Total params: 36,914,401\n",
      "Trainable params: 36,914,401\n",
      "Non-trainable params: 0\n",
      "_________________________________________________________________\n"
     ]
    }
   ],
   "source": [
    "model.summary()"
   ]
  },
  {
   "cell_type": "code",
   "execution_count": 17,
   "id": "5bd67515-8ea1-49fe-99d3-7567827270ea",
   "metadata": {},
   "outputs": [
    {
     "data": {
      "image/png": "[encoded data removed]",
      "text/plain": [
       "<IPython.core.display.Image object>"
      ]
     },
     "execution_count": 17,
     "metadata": {},
     "output_type": "execute_result"
    }
   ],
   "source": [
    "plot_model(model, to_file = 'cnn_model.png', show_shapes=True)"
   ]
  },
  {
   "cell_type": "markdown",
   "id": "de2c60f7-d3bf-4fbe-ae93-b8aa352181d6",
   "metadata": {},
   "source": [
    "# Compile the model"
   ]
  },
  {
   "cell_type": "code",
   "execution_count": 18,
   "id": "b0f0c082-fdf1-4910-8a97-6ae5659fd0b6",
   "metadata": {},
   "outputs": [],
   "source": [
    "model.compile(optimizer = 'adam',\n",
    "             loss = 'binary_crossentropy',\n",
    "             metrics = 'accuracy')"
   ]
  },
  {
   "cell_type": "markdown",
   "id": "0e474550-765a-4e0b-b6c8-5cb0adbaf1a7",
   "metadata": {},
   "source": [
    "# Train the Model"
   ]
  },
  {
   "cell_type": "code",
   "execution_count": 19,
   "id": "efd5dd6a-09d0-4b74-a5de-021260ef00c3",
   "metadata": {
    "tags": []
   },
   "outputs": [
    {
     "data": {
      "text/plain": [
       "{'NON POLLEN': 0, 'POLLEN': 1}"
      ]
     },
     "execution_count": 19,
     "metadata": {},
     "output_type": "execute_result"
    }
   ],
   "source": [
    "train_images.class_indices"
   ]
  },
  {
   "cell_type": "code",
   "execution_count": 20,
   "id": "5a99a046-d8da-4878-944d-e9be8b5ce311",
   "metadata": {},
   "outputs": [],
   "source": [
    "es_callback = EarlyStopping(monitor = 'val_loss',\n",
    "                           patience = 3,\n",
    "                           restore_best_weights = True)"
   ]
  },
  {
   "cell_type": "code",
   "execution_count": 24,
   "id": "a78fdaee-3cfd-4c95-bad0-8f59951f2461",
   "metadata": {},
   "outputs": [
    {
     "name": "stdout",
     "output_type": "stream",
     "text": [
      "Epoch 1/10\n",
      "4/4 [==============================] - 10s 3s/step - loss: 1.9730 - accuracy: 0.4609 - val_loss: 0.6638 - val_accuracy: 0.6272\n",
      "Epoch 2/10\n",
      "4/4 [==============================] - 2s 574ms/step - loss: 0.6325 - accuracy: 0.6870 - val_loss: 0.6553 - val_accuracy: 0.5461\n",
      "Epoch 3/10\n",
      "4/4 [==============================] - 1s 345ms/step - loss: 0.5637 - accuracy: 0.7565 - val_loss: 0.5639 - val_accuracy: 0.7412\n",
      "Epoch 4/10\n",
      "4/4 [==============================] - 2s 512ms/step - loss: 0.4086 - accuracy: 0.8261 - val_loss: 0.5395 - val_accuracy: 0.7434\n",
      "Epoch 5/10\n",
      "4/4 [==============================] - 1s 317ms/step - loss: 0.2933 - accuracy: 0.8696 - val_loss: 0.5701 - val_accuracy: 0.7675\n",
      "Epoch 6/10\n",
      "4/4 [==============================] - 1s 289ms/step - loss: 0.2632 - accuracy: 0.8609 - val_loss: 0.7221 - val_accuracy: 0.7346\n",
      "Epoch 7/10\n",
      "4/4 [==============================] - 2s 378ms/step - loss: 0.1869 - accuracy: 0.9043 - val_loss: 0.8454 - val_accuracy: 0.7193\n",
      "CPU times: user 13.4 s, sys: 4.75 s, total: 18.1 s\n",
      "Wall time: 27.4 s\n"
     ]
    }
   ],
   "source": [
    "%time history = model.fit(train_images, epochs = 10, validation_data = val_images, callbacks = [es_callback])"
   ]
  },
  {
   "cell_type": "code",
   "execution_count": 21,
   "id": "84f86c61-99fb-4a0e-b763-c76624e6c0d2",
   "metadata": {},
   "outputs": [],
   "source": [
    "from tensorflow.python.client import device_lib"
   ]
  },
  {
   "cell_type": "code",
   "execution_count": 22,
   "id": "6948545f-4742-4c1f-8120-a8a46994e8a9",
   "metadata": {},
   "outputs": [
    {
     "name": "stdout",
     "output_type": "stream",
     "text": [
      "[name: \"/device:CPU:0\"\n",
      "device_type: \"CPU\"\n",
      "memory_limit: 268435456\n",
      "locality {\n",
      "}\n",
      "incarnation: 305687939205993682\n",
      ", name: \"/device:XLA_CPU:0\"\n",
      "device_type: \"XLA_CPU\"\n",
      "memory_limit: 17179869184\n",
      "locality {\n",
      "}\n",
      "incarnation: 463115651599680441\n",
      "physical_device_desc: \"device: XLA_CPU device\"\n",
      ", name: \"/device:GPU:0\"\n",
      "device_type: \"GPU\"\n",
      "memory_limit: 3862560768\n",
      "locality {\n",
      "  bus_id: 1\n",
      "  links {\n",
      "  }\n",
      "}\n",
      "incarnation: 15629604130565867807\n",
      "physical_device_desc: \"device: 0, name: NVIDIA GeForce GTX 1050 Ti, pci bus id: 0000:01:00.0, compute capability: 6.1\"\n",
      ", name: \"/device:XLA_GPU:0\"\n",
      "device_type: \"XLA_GPU\"\n",
      "memory_limit: 17179869184\n",
      "locality {\n",
      "}\n",
      "incarnation: 15226057790482969779\n",
      "physical_device_desc: \"device: XLA_GPU device\"\n",
      "]\n"
     ]
    }
   ],
   "source": [
    "print(device_lib.list_local_devices())"
   ]
  },
  {
   "cell_type": "code",
   "execution_count": 23,
   "id": "3123d269-bf69-4d99-9fe2-59d0ec02b537",
   "metadata": {},
   "outputs": [
    {
     "name": "stdout",
     "output_type": "stream",
     "text": [
      "Num GPUs Available:  1\n"
     ]
    }
   ],
   "source": [
    "import tensorflow as tf\n",
    "print(\"Num GPUs Available: \", len(tf.config.list_physical_devices('GPU')))"
   ]
  },
  {
   "cell_type": "code",
   "execution_count": 25,
   "id": "13a47985-fecc-4f1c-aabe-55661f03a7db",
   "metadata": {},
   "outputs": [
    {
     "data": {
      "text/plain": [
       "dict_keys(['loss', 'accuracy', 'val_loss', 'val_accuracy'])"
      ]
     },
     "execution_count": 25,
     "metadata": {},
     "output_type": "execute_result"
    }
   ],
   "source": [
    "history.history.keys()"
   ]
  },
  {
   "cell_type": "code",
   "execution_count": 26,
   "id": "efb90509-5ae6-46db-bb62-2fbe77a300f2",
   "metadata": {},
   "outputs": [
    {
     "data": {
      "image/png": "[encoded data removed]",
      "text/plain": [
       "<Figure size 432x288 with 1 Axes>"
      ]
     },
     "metadata": {
      "needs_background": "light"
     },
     "output_type": "display_data"
    },
    {
     "data": {
      "image/png": "[encoded data removed]",
      "text/plain": [
       "<Figure size 432x288 with 1 Axes>"
      ]
     },
     "metadata": {
      "needs_background": "light"
     },
     "output_type": "display_data"
    }
   ],
   "source": [
    "plt.plot(history.history['accuracy'], label = 'train_accuracy')\n",
    "plt.plot(history.history['val_accuracy'], label = 'val_accuracy')\n",
    "plt.xlabel('Epochs')\n",
    "plt.ylabel('Accuracy')\n",
    "plt.legend()\n",
    "plt.show()\n",
    "\n",
    "plt.plot(history.history['loss'], label = 'train_loss')\n",
    "plt.plot(history.history['val_loss'], label = 'val_loss')\n",
    "plt.xlabel('Epochs')\n",
    "plt.ylabel('Loss')\n",
    "plt.legend()\n",
    "plt.show()"
   ]
  },
  {
   "cell_type": "markdown",
   "id": "a7e95cc7-a3fb-4221-98ee-af9b9869cccd",
   "metadata": {},
   "source": [
    "# Evaluate the model"
   ]
  },
  {
   "cell_type": "code",
   "execution_count": 27,
   "id": "36d124f6-7cfb-42c2-840d-d489fcc5068a",
   "metadata": {},
   "outputs": [
    {
     "name": "stdout",
     "output_type": "stream",
     "text": [
      "5/5 [==============================] - 3s 526ms/step - loss: 0.4871 - accuracy: 0.7762\n"
     ]
    },
    {
     "data": {
      "text/plain": [
       "[0.48713645339012146, 0.7762237787246704]"
      ]
     },
     "execution_count": 27,
     "metadata": {},
     "output_type": "execute_result"
    }
   ],
   "source": [
    "model.evaluate(test_images)"
   ]
  },
  {
   "cell_type": "code",
   "execution_count": 28,
   "id": "d2de9c9d-52d5-48e0-9e17-671791fd243a",
   "metadata": {},
   "outputs": [
    {
     "data": {
      "text/plain": [
       "{'NON POLLEN': 0, 'POLLEN': 1}"
      ]
     },
     "execution_count": 28,
     "metadata": {},
     "output_type": "execute_result"
    }
   ],
   "source": [
    "test_images.class_indices"
   ]
  },
  {
   "cell_type": "code",
   "execution_count": 29,
   "id": "8f21d32d-b6eb-4bab-81b6-097a2d387256",
   "metadata": {},
   "outputs": [
    {
     "data": {
      "text/plain": [
       "[1,\n",
       " 1,\n",
       " 1,\n",
       " 1,\n",
       " 0,\n",
       " 1,\n",
       " 1,\n",
       " 1,\n",
       " 1,\n",
       " 0,\n",
       " 1,\n",
       " 0,\n",
       " 0,\n",
       " 0,\n",
       " 1,\n",
       " 1,\n",
       " 1,\n",
       " 1,\n",
       " 0,\n",
       " 0,\n",
       " 1,\n",
       " 1,\n",
       " 0,\n",
       " 1,\n",
       " 0,\n",
       " 1,\n",
       " 1,\n",
       " 0,\n",
       " 0,\n",
       " 1,\n",
       " 1,\n",
       " 0,\n",
       " 0,\n",
       " 0,\n",
       " 0,\n",
       " 0,\n",
       " 0,\n",
       " 1,\n",
       " 0,\n",
       " 1,\n",
       " 0,\n",
       " 1,\n",
       " 0,\n",
       " 1,\n",
       " 1,\n",
       " 0,\n",
       " 0,\n",
       " 0,\n",
       " 0,\n",
       " 0,\n",
       " 0,\n",
       " 0,\n",
       " 1,\n",
       " 0,\n",
       " 1,\n",
       " 0,\n",
       " 0,\n",
       " 1,\n",
       " 1,\n",
       " 0,\n",
       " 0,\n",
       " 1,\n",
       " 0,\n",
       " 1,\n",
       " 1,\n",
       " 0,\n",
       " 1,\n",
       " 1,\n",
       " 1,\n",
       " 0,\n",
       " 1,\n",
       " 0,\n",
       " 1,\n",
       " 0,\n",
       " 0,\n",
       " 0,\n",
       " 1,\n",
       " 1,\n",
       " 1,\n",
       " 0,\n",
       " 0,\n",
       " 0,\n",
       " 0,\n",
       " 1,\n",
       " 0,\n",
       " 1,\n",
       " 1,\n",
       " 1,\n",
       " 1,\n",
       " 0,\n",
       " 1,\n",
       " 1,\n",
       " 0,\n",
       " 1,\n",
       " 0,\n",
       " 0,\n",
       " 0,\n",
       " 0,\n",
       " 1,\n",
       " 1,\n",
       " 1,\n",
       " 0,\n",
       " 1,\n",
       " 1,\n",
       " 1,\n",
       " 1,\n",
       " 1,\n",
       " 1,\n",
       " 1,\n",
       " 1,\n",
       " 0,\n",
       " 1,\n",
       " 1,\n",
       " 1,\n",
       " 1,\n",
       " 0,\n",
       " 1,\n",
       " 1,\n",
       " 0,\n",
       " 1,\n",
       " 1,\n",
       " 1,\n",
       " 0,\n",
       " 1,\n",
       " 1,\n",
       " 1,\n",
       " 1,\n",
       " 0,\n",
       " 0,\n",
       " 0,\n",
       " 0,\n",
       " 0,\n",
       " 0,\n",
       " 0,\n",
       " 0,\n",
       " 0,\n",
       " 1,\n",
       " 0,\n",
       " 1,\n",
       " 0,\n",
       " 1,\n",
       " 0,\n",
       " 1]"
      ]
     },
     "execution_count": 29,
     "metadata": {},
     "output_type": "execute_result"
    }
   ],
   "source": [
    "test_images.labels"
   ]
  },
  {
   "cell_type": "code",
   "execution_count": 30,
   "id": "b4854ec9-2ca9-4f57-a572-3f3092398474",
   "metadata": {
    "tags": []
   },
   "outputs": [],
   "source": [
    "predict = np.reshape(model.predict(test_images) > 0.6,-1).astype(int)"
   ]
  },
  {
   "cell_type": "code",
   "execution_count": 31,
   "id": "9e7ad28b-af8d-45ae-a9ba-b7c874c4ed30",
   "metadata": {},
   "outputs": [],
   "source": [
    "cn = confusion_matrix(test_images.labels, predict)"
   ]
  },
  {
   "cell_type": "code",
   "execution_count": 32,
   "id": "66493ca5-49ad-4586-bed6-0e0ec20adf0e",
   "metadata": {},
   "outputs": [
    {
     "data": {
      "image/png": "[encoded data removed]",
      "text/plain": [
       "<Figure size 900x600 with 2 Axes>"
      ]
     },
     "metadata": {
      "needs_background": "light"
     },
     "output_type": "display_data"
    }
   ],
   "source": [
    "plt.figure(dpi = 150)\n",
    "sns.heatmap(cn, annot = True)\n",
    "plt.xticks(ticks=[0.5,1.5], labels=['NO POLLEN', 'POLLEN'])\n",
    "plt.yticks(ticks=[0.5,1.5], labels=['NO POLLEN', 'POLLEN'])\n",
    "plt.xlabel(\"Predicted\")\n",
    "plt.ylabel(\"Actual\")\n",
    "plt.title(\"Confusion Matrix\")\n",
    "plt.show()"
   ]
  },
  {
   "cell_type": "code",
   "execution_count": 33,
   "id": "8f70be9a-7ea6-41cb-94e3-9f08533cf59a",
   "metadata": {},
   "outputs": [
    {
     "name": "stdout",
     "output_type": "stream",
     "text": [
      "              precision    recall  f1-score   support\n",
      "\n",
      "           0       0.46      0.42      0.44        67\n",
      "           1       0.52      0.57      0.54        76\n",
      "\n",
      "    accuracy                           0.50       143\n",
      "   macro avg       0.49      0.49      0.49       143\n",
      "weighted avg       0.49      0.50      0.49       143\n",
      "\n"
     ]
    }
   ],
   "source": [
    "print(classification_report(test_images.labels, predict))"
   ]
  },
  {
   "cell_type": "code",
   "execution_count": 34,
   "id": "b0c76261-6eee-4813-9aa0-3a1f0c9feca4",
   "metadata": {},
   "outputs": [
    {
     "data": {
      "text/plain": [
       "(array([0, 1]), array([67, 76]))"
      ]
     },
     "execution_count": 34,
     "metadata": {},
     "output_type": "execute_result"
    }
   ],
   "source": [
    "np.unique(test_images.labels, return_counts = True)"
   ]
  },
  {
   "cell_type": "code",
   "execution_count": null,
   "id": "8eb01d73-a2c7-4399-89f5-c32fcbdbdc63",
   "metadata": {},
   "outputs": [],
   "source": []
  }
 ],
 "metadata": {
  "kernelspec": {
   "display_name": "Python 3",
   "language": "python",
   "name": "python3"
  },
  "language_info": {
   "codemirror_mode": {
    "name": "ipython",
    "version": 3
   },
   "file_extension": ".py",
   "mimetype": "text/x-python",
   "name": "python",
   "nbconvert_exporter": "python",
   "pygments_lexer": "ipython3",
   "version": "3.8.10"
  }
 },
 "nbformat": 4,
 "nbformat_minor": 5
}
