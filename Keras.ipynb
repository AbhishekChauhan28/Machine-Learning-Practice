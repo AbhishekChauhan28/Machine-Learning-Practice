{
 "cells": [
  {
   "cell_type": "markdown",
   "id": "98bd5f90-bbec-4c0e-8f60-6de5d99b976c",
   "metadata": {},
   "source": [
    "# Predict whether or not a patient has diabetes, based on certain diagnostic measurements\n",
    "This dataset is originally from the National Institute of Diabetes and Digestive and Kidney Diseases, USA. The objective of the dataset is to diagnostically predict whether or not a patient has diabetes, based on certain diagnostic measurements included in the dataset. Several constraints were placed on the selection of these instances from a larger database. In particular, all patients here are females at least 21 years old of Pima Indian heritage.\n",
    "\n",
    "- The datasets consists of several medical predictor variables and one target variable, Outcome.\n",
    "\n",
    "Input Variables (X):\n",
    "\n",
    "1. Number of times pregnant\n",
    "2. Plasma glucose concentration a 2 hours in an oral glucose tolerance test\n",
    "3. Diastolic blood pressure (mm Hg)\n",
    "4. Triceps skin fold thickness (mm)\n",
    "5. 2-Hour serum insulin (mu U/ml)\n",
    "6. Body mass index (weight in kg/(height in m)^2)\n",
    "7. Diabetes pedigree function\n",
    "8. Age (years)\n",
    "\n",
    "Output Variables (y):\n",
    "- Class variable (0 or 1)"
   ]
  },
  {
   "cell_type": "code",
   "execution_count": 15,
   "id": "01921753-8069-4c55-a1f8-ad542fb8a420",
   "metadata": {},
   "outputs": [],
   "source": [
    "from numpy import loadtxt\n",
    "import matplotlib.pyplot as plt\n",
    "from tensorflow.keras.models import Sequential\n",
    "from tensorflow.keras.layers import Dense\n",
    "from sklearn.model_selection import train_test_split\n",
    "from tensorflow.keras.callbacks import TensorBoard"
   ]
  },
  {
   "cell_type": "code",
   "execution_count": 7,
   "id": "b9f00686-cd78-4d6a-8c7f-759e7364dbc9",
   "metadata": {},
   "outputs": [],
   "source": [
    "df = loadtxt('/media/abhishek/589E61B39E618A783/C-DAC Document/Practical Machine Learning/PML/Code/Dataset/prima-indians-diabetes.csv', delimiter=',')"
   ]
  },
  {
   "cell_type": "code",
   "execution_count": 9,
   "id": "e3bbc3f6-b516-4f60-ad4b-5e5dc105d85d",
   "metadata": {},
   "outputs": [
    {
     "data": {
      "text/plain": [
       "(768, 9)"
      ]
     },
     "execution_count": 9,
     "metadata": {},
     "output_type": "execute_result"
    }
   ],
   "source": [
    "df.shape"
   ]
  },
  {
   "cell_type": "markdown",
   "id": "312e2294-c8d4-4dc9-9a1b-3805e32dd8a5",
   "metadata": {},
   "source": [
    "### split into input (X) and output (y) variables"
   ]
  },
  {
   "cell_type": "code",
   "execution_count": 11,
   "id": "65b83f25-fa57-4c60-b194-003de5e2244a",
   "metadata": {},
   "outputs": [],
   "source": [
    "x = df[:,0:8]\n",
    "y = df[:,8]"
   ]
  },
  {
   "cell_type": "markdown",
   "id": "78cf6a75-952e-4d3f-ae65-dfe75ad4e26a",
   "metadata": {},
   "source": [
    "# Define Keras Model\n",
    "\n",
    "- Models in Keras are defined as a sequence of layers.\n",
    "- We create a Sequential model and add layers one at a time until we are happy with our network architecture.\n",
    "- The first thing to get right is to ensure the input layer has the right number of input features. This can be specified when creating the first layer with the `input_dim` argument and setting it to 8 for the 8 input variables.\n",
    "\n",
    "**How do we know the number of layers and their types?**\n",
    "\n",
    "- This is a very hard question. There are heuristics that we can use and often the best network structure is found through a process of trial and error experimentation (I explain more about this here). Generally, you need a network large enough to capture the structure of the problem.\n",
    "\n",
    "\n",
    "- In this example, we will use a fully-connected network structure with three layers.\n",
    "- Fully connected layers are defined using the Dense class. We can specify the number of neurons or nodes in the layer as the first argument, and specify the activation function using the `activation` argument.\n",
    "- We will use the rectified linear unit activation function referred to as ReLU on the first two layers and the Sigmoid function in the output layer.\n",
    "- Better performance is achieved using the ReLU activation function. We use a sigmoid on the output layer to ensure our network output is between 0 and 1 and easy to map to either a probability of class 1 or snap to a hard classification of either class with a default threshold of 0.5.\n",
    "- We will define the optimizer as the efficient stochastic gradient descent algorithm “adam“. This is a popular version of gradient descent because it automatically tunes itself and gives good results in a wide range of problems."
   ]
  },
  {
   "cell_type": "code",
   "execution_count": 13,
   "id": "63aea217-f6b7-4047-9108-b2f17eb502b9",
   "metadata": {},
   "outputs": [],
   "source": [
    "model = Sequential()\n",
    "model.add(Dense(12, input_dim = 8, activation = 'relu'))\n",
    "model.add(Dense(8, activation = 'relu'))\n",
    "model.add(Dense(1, activation = 'sigmoid'))"
   ]
  },
  {
   "cell_type": "markdown",
   "id": "317511f4-2009-4ba7-9669-3e7533ed1b03",
   "metadata": {},
   "source": [
    "# Compile Keras Model\n",
    "\n",
    "- Compiling the model uses the efficient numerical libraries under the covers (the so-called backend) such as TensorFlow. The backend automatically chooses the best way to represent the network for training and making predictions to run on your hardware, such as CPU or GPU or even distributed.\n",
    "- When compiling, we must specify some additional properties required when training the network. Remember training a network means finding the best set of weights to map inputs to outputs in our dataset.\n",
    "- We must specify the loss function to use to evaluate a set of weights, the optimizer is used to search through different weights for the network and any optional metrics we would like to collect and report during training.\n",
    "- In this case, we will use cross entropy as the loss argument. This loss is for a binary classification problems and is defined in Keras as “binary_crossentropy“."
   ]
  },
  {
   "cell_type": "code",
   "execution_count": 14,
   "id": "7501cdb6-2269-489e-b4db-ef3261b88114",
   "metadata": {},
   "outputs": [],
   "source": [
    "# compile the keras model\n",
    "model.compile(loss = 'binary_crossentropy', optimizer = 'adam', metrics = ['accuracy'])"
   ]
  },
  {
   "cell_type": "markdown",
   "id": "be99de1b-1d22-446d-9b46-fbd9607cf162",
   "metadata": {},
   "source": [
    "## What Is a Sample?\n",
    "- A sample is a single row of data.\n",
    "- It contains inputs that are fed into the algorithm and an output that is used to compare to the prediction and calculate an error.\n",
    "- A training dataset is comprised of many rows of data or many samples.\n",
    "- A sample may also be called an instance, an observation, an input vector, or a feature vector.\n",
    "\n",
    "\n",
    "## What Is a Batch?\n",
    "- The batch size is a hyperparameter that defines the number of samples to work through before updating the internal model parameters.\n",
    "- Think of a batch as a for-loop iterating over one or more samples and making predictions. At the end of the batch, the predictions are compared to the expected output variables and an error is calculated. From this error, the update algorithm is used to improve the model.\n",
    "- A training dataset can be divided into one or more batches.\n",
    "- When all training samples are used to create one batch, the learning algorithm is called batch gradient descent. When the batch is the size of one sample, the learning algorithm is called stochastic gradient descent. When the batch size is more than one sample and less than the size of the training dataset, the learning algorithm is called mini-batch gradient descent.\n",
    "- In the case of mini-batch gradient descent, popular batch sizes include 32, 64, and 128 samples. You may see these values used in models in the literature and in tutorials.\n",
    "\n",
    "**What if the dataset does not divide evenly by the batch size?**\n",
    "\n",
    "- This can and does happen often when training a model. It simply means that the final batch has fewer samples than the other batches.\n",
    "- Alternately, you can remove some samples from the dataset or change the batch size such that the number of samples in the dataset does divide evenly by the batch size.\n",
    "\n",
    "## What Is an Epoch?\n",
    "- The number of epochs is a hyperparameter that defines the number times that the learning algorithm will work through the entire training dataset.\n",
    "- One epoch means that each sample in the training dataset has had an opportunity to update the internal model parameters. An epoch is comprised of one or more batches. For example, as above, an epoch that has one batch is called the batch gradient descent learning algorithm.\n",
    "- You can think of a for-loop over the number of epochs where each loop proceeds over the training dataset. Within this for-loop is another nested for-loop that iterates over each batch of samples, where one batch has the specified “batch size” number of samples.\n",
    "- The number of epochs is traditionally large, often hundreds or thousands, allowing the learning algorithm to run until the error from the model has been sufficiently minimized.\n",
    "- It is common to create line plots that show epochs along the x-axis as time and the error or skill of the model on the y-axis. These plots are sometimes called **learning curves**. These plots can help to diagnose whether the model has over learned, under learned, or is suitably fit to the training dataset.\n",
    "\n",
    "## What Is the Difference Between Batch and Epoch?\n",
    "- The batch size is a number of samples processed before the model is updated.\n",
    "- The number of epochs is the number of complete passes through the training dataset.\n",
    "- The size of a batch must be more than or equal to one and less than or equal to the number of samples in the training dataset.\n",
    "- The number of epochs can be set to an integer value between one and infinity. You can run the algorithm for as long as you like and even stop it using other criteria besides a fixed number of epochs, such as a change (or lack of change) in model error over time.\n",
    "- They are both integer values and they are both hyperparameters for the learning algorithm.\n",
    "- **There are no magic rules for how to configure these parameters. You must try different values and see what works best for given problem.**"
   ]
  },
  {
   "cell_type": "code",
   "execution_count": 16,
   "id": "09e5321a-8c28-4b50-8930-d8c72cc70fbc",
   "metadata": {},
   "outputs": [],
   "source": [
    "tb_callback = TensorBoard(log_dir = \"log_dir\", histogram_freq = 1)"
   ]
  },
  {
   "cell_type": "code",
   "execution_count": 18,
   "id": "6bc28523-7e34-4ec9-b494-f969f1f96aec",
   "metadata": {},
   "outputs": [
    {
     "name": "stdout",
     "output_type": "stream",
     "text": [
      "Epoch 1/30\n",
      "77/77 [==============================] - 0s 1ms/step - loss: 6.2843 - accuracy: 0.6510\n",
      "Epoch 2/30\n",
      "77/77 [==============================] - 0s 584us/step - loss: 2.1240 - accuracy: 0.6302\n",
      "Epoch 3/30\n",
      "77/77 [==============================] - 0s 604us/step - loss: 1.2127 - accuracy: 0.5833\n",
      "Epoch 4/30\n",
      "77/77 [==============================] - 0s 652us/step - loss: 0.8837 - accuracy: 0.5573\n",
      "Epoch 5/30\n",
      "77/77 [==============================] - 0s 713us/step - loss: 0.7403 - accuracy: 0.5977\n",
      "Epoch 6/30\n",
      "77/77 [==============================] - 0s 691us/step - loss: 0.6920 - accuracy: 0.6068\n",
      "Epoch 7/30\n",
      "77/77 [==============================] - 0s 833us/step - loss: 0.6741 - accuracy: 0.6159\n",
      "Epoch 8/30\n",
      "77/77 [==============================] - 0s 745us/step - loss: 0.6690 - accuracy: 0.6094\n",
      "Epoch 9/30\n",
      "77/77 [==============================] - 0s 738us/step - loss: 0.6696 - accuracy: 0.6510\n",
      "Epoch 10/30\n",
      "77/77 [==============================] - 0s 669us/step - loss: 0.6642 - accuracy: 0.6224\n",
      "Epoch 11/30\n",
      "77/77 [==============================] - 0s 751us/step - loss: 0.6616 - accuracy: 0.6510\n",
      "Epoch 12/30\n",
      "77/77 [==============================] - 0s 647us/step - loss: 0.6611 - accuracy: 0.6510\n",
      "Epoch 13/30\n",
      "77/77 [==============================] - 0s 651us/step - loss: 0.6574 - accuracy: 0.6510\n",
      "Epoch 14/30\n",
      "77/77 [==============================] - 0s 774us/step - loss: 0.6576 - accuracy: 0.6510\n",
      "Epoch 15/30\n",
      "77/77 [==============================] - 0s 831us/step - loss: 0.6537 - accuracy: 0.6510\n",
      "Epoch 16/30\n",
      "77/77 [==============================] - 0s 685us/step - loss: 0.6524 - accuracy: 0.6510\n",
      "Epoch 17/30\n",
      "77/77 [==============================] - 0s 602us/step - loss: 0.6505 - accuracy: 0.6510\n",
      "Epoch 18/30\n",
      "77/77 [==============================] - 0s 582us/step - loss: 0.6511 - accuracy: 0.6510\n",
      "Epoch 19/30\n",
      "77/77 [==============================] - 0s 586us/step - loss: 0.6462 - accuracy: 0.6510\n",
      "Epoch 20/30\n",
      "77/77 [==============================] - 0s 603us/step - loss: 0.6526 - accuracy: 0.6510\n",
      "Epoch 21/30\n",
      "77/77 [==============================] - 0s 626us/step - loss: 0.6421 - accuracy: 0.6510\n",
      "Epoch 22/30\n",
      "77/77 [==============================] - 0s 1ms/step - loss: 0.6417 - accuracy: 0.6510\n",
      "Epoch 23/30\n",
      "77/77 [==============================] - 0s 865us/step - loss: 0.6390 - accuracy: 0.6510\n",
      "Epoch 24/30\n",
      "77/77 [==============================] - 0s 986us/step - loss: 0.6389 - accuracy: 0.6510\n",
      "Epoch 25/30\n",
      "77/77 [==============================] - 0s 952us/step - loss: 0.6390 - accuracy: 0.6562\n",
      "Epoch 26/30\n",
      "77/77 [==============================] - 0s 1ms/step - loss: 0.6333 - accuracy: 0.6602\n",
      "Epoch 27/30\n",
      "77/77 [==============================] - 0s 2ms/step - loss: 0.6321 - accuracy: 0.6510\n",
      "Epoch 28/30\n",
      "77/77 [==============================] - 0s 2ms/step - loss: 0.6340 - accuracy: 0.6927\n",
      "Epoch 29/30\n",
      "77/77 [==============================] - 0s 1ms/step - loss: 0.6286 - accuracy: 0.6667\n",
      "Epoch 30/30\n",
      "77/77 [==============================] - 0s 1ms/step - loss: 0.6203 - accuracy: 0.6771\n"
     ]
    }
   ],
   "source": [
    "# fit the keras model on the dataset\n",
    "history = model.fit(x, y, epochs=30, batch_size=10, callbacks=[tb_callback])"
   ]
  },
  {
   "cell_type": "code",
   "execution_count": 19,
   "id": "98ccbb83-9ee7-4bae-bec3-9aebc745451a",
   "metadata": {},
   "outputs": [
    {
     "data": {
      "image/png": "[encoded data removed]",
      "text/plain": [
       "<Figure size 640x480 with 2 Axes>"
      ]
     },
     "metadata": {},
     "output_type": "display_data"
    }
   ],
   "source": [
    "fig, ax = plt.subplots(1,2)\n",
    "\n",
    "ax[0].plot(history.epoch, history.history['loss'], label='training')\n",
    "ax[0].set_title('loss')\n",
    "ax[0].legend(loc='best')\n",
    "\n",
    "ax[1].plot(history.epoch,history.history['accuracy'], label='training')\n",
    "ax[1].set_title('accuracy')\n",
    "ax[1].legend(loc='best');\n",
    "fig.tight_layout()\n",
    "plt.show()"
   ]
  },
  {
   "cell_type": "code",
   "execution_count": null,
   "id": "9cd072b5-2c5e-4979-a563-252e3e27fce8",
   "metadata": {},
   "outputs": [],
   "source": [
    "# Open tensorboard UI in this notebook itself\n",
    "# %load_ext tensorboard\n",
    "# %tensorboard --logdir log_dir/ --bind_all"
   ]
  }
 ],
 "metadata": {
  "kernelspec": {
   "display_name": "Python 3",
   "language": "python",
   "name": "python3"
  },
  "language_info": {
   "codemirror_mode": {
    "name": "ipython",
    "version": 3
   },
   "file_extension": ".py",
   "mimetype": "text/x-python",
   "name": "python",
   "nbconvert_exporter": "python",
   "pygments_lexer": "ipython3",
   "version": "3.8.2"
  }
 },
 "nbformat": 4,
 "nbformat_minor": 5
}
