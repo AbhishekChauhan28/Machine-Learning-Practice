{
 "cells": [
  {
   "cell_type": "markdown",
   "id": "4d7ac1f2-fdb5-4113-b421-9fd9d2987fdc",
   "metadata": {},
   "source": [
    "# Random Forest - Temperature Forcating\n",
    "\n",
    "Predicting the max temperature for tomorrow in our city using one year of past weather data using Random Forest"
   ]
  },
  {
   "cell_type": "markdown",
   "id": "d148d771-3d10-4be5-99b5-b2f66b609edc",
   "metadata": {},
   "source": [
    "#### What data we have? \n",
    "\n",
    "- **one year of historical max temperatures data**\n",
    "\n",
    "**This is a supervised, regression machine learning problem.**"
   ]
  },
  {
   "cell_type": "markdown",
   "id": "4182d144-37b5-42fb-946f-cd5c52dcee00",
   "metadata": {},
   "source": [
    "## 1. Load Data"
   ]
  },
  {
   "cell_type": "markdown",
   "id": "9c34267f-d161-4101-94e5-fc527f7d6d58",
   "metadata": {},
   "source": [
    "### Columns/Attributes\n",
    "\n",
    "1) year: 2019 for all data points\n",
    "2) month: number for month of the year\n",
    "3) day: number for day of the year\n",
    "4) week: day of the week as a character string\n",
    "5) temp_2: max temperature 2 days prior\n",
    "6) temp_1: max temperature 1 day prior\n",
    "7) average: historical average max temperature\n",
    "8) actual: max temperature measurement **(label)**\n",
    "9) friend: your friend’s prediction, a random number between 20 below the average and 20 above the average"
   ]
  },
  {
   "cell_type": "code",
   "execution_count": 1,
   "id": "df2d67e4-8594-4115-b909-a001e21977c3",
   "metadata": {},
   "outputs": [],
   "source": [
    "import pandas as pd"
   ]
  },
  {
   "cell_type": "code",
   "execution_count": 2,
   "id": "889c2337-a093-4822-9d4d-2a973da802a7",
   "metadata": {},
   "outputs": [],
   "source": [
    "df = pd.read_csv('/media/abhishek/589E61B39E618A783/C-DAC Document/Practical Machine Learning/PML/Code/Dataset/temps.csv')"
   ]
  },
  {
   "cell_type": "code",
   "execution_count": 3,
   "id": "e05b4deb-70ad-4da9-b84e-1d61a75817e4",
   "metadata": {},
   "outputs": [
    {
     "data": {
      "text/html": [
       "<div>\n",
       "<style scoped>\n",
       "    .dataframe tbody tr th:only-of-type {\n",
       "        vertical-align: middle;\n",
       "    }\n",
       "\n",
       "    .dataframe tbody tr th {\n",
       "        vertical-align: top;\n",
       "    }\n",
       "\n",
       "    .dataframe thead th {\n",
       "        text-align: right;\n",
       "    }\n",
       "</style>\n",
       "<table border=\"1\" class=\"dataframe\">\n",
       "  <thead>\n",
       "    <tr style=\"text-align: right;\">\n",
       "      <th></th>\n",
       "      <th>year</th>\n",
       "      <th>month</th>\n",
       "      <th>day</th>\n",
       "      <th>week</th>\n",
       "      <th>temp_2</th>\n",
       "      <th>temp_1</th>\n",
       "      <th>average</th>\n",
       "      <th>actual</th>\n",
       "      <th>friend</th>\n",
       "    </tr>\n",
       "  </thead>\n",
       "  <tbody>\n",
       "    <tr>\n",
       "      <th>0</th>\n",
       "      <td>2019</td>\n",
       "      <td>1</td>\n",
       "      <td>1</td>\n",
       "      <td>Fri</td>\n",
       "      <td>45</td>\n",
       "      <td>45</td>\n",
       "      <td>45.6</td>\n",
       "      <td>45</td>\n",
       "      <td>29</td>\n",
       "    </tr>\n",
       "    <tr>\n",
       "      <th>1</th>\n",
       "      <td>2019</td>\n",
       "      <td>1</td>\n",
       "      <td>2</td>\n",
       "      <td>Sat</td>\n",
       "      <td>44</td>\n",
       "      <td>45</td>\n",
       "      <td>45.7</td>\n",
       "      <td>44</td>\n",
       "      <td>61</td>\n",
       "    </tr>\n",
       "    <tr>\n",
       "      <th>2</th>\n",
       "      <td>2019</td>\n",
       "      <td>1</td>\n",
       "      <td>3</td>\n",
       "      <td>Sun</td>\n",
       "      <td>45</td>\n",
       "      <td>44</td>\n",
       "      <td>45.8</td>\n",
       "      <td>41</td>\n",
       "      <td>56</td>\n",
       "    </tr>\n",
       "    <tr>\n",
       "      <th>3</th>\n",
       "      <td>2019</td>\n",
       "      <td>1</td>\n",
       "      <td>4</td>\n",
       "      <td>Mon</td>\n",
       "      <td>44</td>\n",
       "      <td>41</td>\n",
       "      <td>45.9</td>\n",
       "      <td>40</td>\n",
       "      <td>53</td>\n",
       "    </tr>\n",
       "    <tr>\n",
       "      <th>4</th>\n",
       "      <td>2019</td>\n",
       "      <td>1</td>\n",
       "      <td>5</td>\n",
       "      <td>Tues</td>\n",
       "      <td>41</td>\n",
       "      <td>40</td>\n",
       "      <td>46.0</td>\n",
       "      <td>44</td>\n",
       "      <td>41</td>\n",
       "    </tr>\n",
       "  </tbody>\n",
       "</table>\n",
       "</div>"
      ],
      "text/plain": [
       "   year  month  day  week  temp_2  temp_1  average  actual  friend\n",
       "0  2019      1    1   Fri      45      45     45.6      45      29\n",
       "1  2019      1    2   Sat      44      45     45.7      44      61\n",
       "2  2019      1    3   Sun      45      44     45.8      41      56\n",
       "3  2019      1    4   Mon      44      41     45.9      40      53\n",
       "4  2019      1    5  Tues      41      40     46.0      44      41"
      ]
     },
     "execution_count": 3,
     "metadata": {},
     "output_type": "execute_result"
    }
   ],
   "source": [
    "df.head()"
   ]
  },
  {
   "cell_type": "code",
   "execution_count": 4,
   "id": "9b63e6aa-a743-4b34-a863-c13c4ffd3df6",
   "metadata": {},
   "outputs": [
    {
     "data": {
      "text/plain": [
       "(348, 9)"
      ]
     },
     "execution_count": 4,
     "metadata": {},
     "output_type": "execute_result"
    }
   ],
   "source": [
    "df.shape"
   ]
  },
  {
   "cell_type": "markdown",
   "id": "aa7013f0-73b2-435f-9351-6c3ecc249dfe",
   "metadata": {},
   "source": [
    "## 2. Data Preparation"
   ]
  },
  {
   "cell_type": "markdown",
   "id": "64369ffd-17d5-4d4c-9bda-fdf022d1840a",
   "metadata": {},
   "source": [
    "If we look at the dimensions of the data, we notice only there are only **348 rows, which doesn’t quite agree with the 365 days** we know there were in 2019. \n",
    "\n",
    "Looking through the data from the NCEP (National Centre for Environmental Prediction - https://www.ncep.noaa.gov/, **noticed several missing days**.\n",
    "\n",
    "In this case, the **missing data will not have a large effect**, and the data quality is good because of the source from where it is collected. \n",
    "\n",
    "We also can see there are nine columns which represent eight features and the one target (‘actual’)."
   ]
  },
  {
   "cell_type": "markdown",
   "id": "2939f3f4-88de-4dbc-9286-3089e94465a8",
   "metadata": {},
   "source": [
    "#### Preprocessing Steps\n",
    "\n",
    "1) One-hot encoded categorical variables\n",
    "\n",
    "2) Split data into features and labels\n",
    "\n",
    "3) Convert to arrays\n",
    "\n",
    "4) Split data into training and testing sets"
   ]
  },
  {
   "cell_type": "code",
   "execution_count": 7,
   "id": "116b63f8-6035-459d-b90d-54dafdc7d428",
   "metadata": {},
   "outputs": [
    {
     "name": "stdout",
     "output_type": "stream",
     "text": [
      "The shape of our dataset is: (348, 9)\n"
     ]
    }
   ],
   "source": [
    "print('The shape of our dataset is:', df.shape)"
   ]
  },
  {
   "cell_type": "markdown",
   "id": "3ad381b1-e2a6-45d2-b828-a855bccea75b",
   "metadata": {},
   "source": [
    "### 2.1 Identify anomalies using summary statistics."
   ]
  },
  {
   "cell_type": "code",
   "execution_count": 8,
   "id": "31851e01-776f-4352-a1c9-ad89c746277f",
   "metadata": {},
   "outputs": [
    {
     "data": {
      "text/html": [
       "<div>\n",
       "<style scoped>\n",
       "    .dataframe tbody tr th:only-of-type {\n",
       "        vertical-align: middle;\n",
       "    }\n",
       "\n",
       "    .dataframe tbody tr th {\n",
       "        vertical-align: top;\n",
       "    }\n",
       "\n",
       "    .dataframe thead th {\n",
       "        text-align: right;\n",
       "    }\n",
       "</style>\n",
       "<table border=\"1\" class=\"dataframe\">\n",
       "  <thead>\n",
       "    <tr style=\"text-align: right;\">\n",
       "      <th></th>\n",
       "      <th>year</th>\n",
       "      <th>month</th>\n",
       "      <th>day</th>\n",
       "      <th>temp_2</th>\n",
       "      <th>temp_1</th>\n",
       "      <th>average</th>\n",
       "      <th>actual</th>\n",
       "      <th>friend</th>\n",
       "    </tr>\n",
       "  </thead>\n",
       "  <tbody>\n",
       "    <tr>\n",
       "      <th>count</th>\n",
       "      <td>348.0</td>\n",
       "      <td>348.000000</td>\n",
       "      <td>348.000000</td>\n",
       "      <td>348.000000</td>\n",
       "      <td>348.000000</td>\n",
       "      <td>348.000000</td>\n",
       "      <td>348.000000</td>\n",
       "      <td>348.000000</td>\n",
       "    </tr>\n",
       "    <tr>\n",
       "      <th>mean</th>\n",
       "      <td>2019.0</td>\n",
       "      <td>6.477011</td>\n",
       "      <td>15.514368</td>\n",
       "      <td>62.652299</td>\n",
       "      <td>62.701149</td>\n",
       "      <td>59.760632</td>\n",
       "      <td>62.543103</td>\n",
       "      <td>60.034483</td>\n",
       "    </tr>\n",
       "    <tr>\n",
       "      <th>std</th>\n",
       "      <td>0.0</td>\n",
       "      <td>3.498380</td>\n",
       "      <td>8.772982</td>\n",
       "      <td>12.165398</td>\n",
       "      <td>12.120542</td>\n",
       "      <td>10.527306</td>\n",
       "      <td>11.794146</td>\n",
       "      <td>15.626179</td>\n",
       "    </tr>\n",
       "    <tr>\n",
       "      <th>min</th>\n",
       "      <td>2019.0</td>\n",
       "      <td>1.000000</td>\n",
       "      <td>1.000000</td>\n",
       "      <td>35.000000</td>\n",
       "      <td>35.000000</td>\n",
       "      <td>45.100000</td>\n",
       "      <td>35.000000</td>\n",
       "      <td>28.000000</td>\n",
       "    </tr>\n",
       "    <tr>\n",
       "      <th>25%</th>\n",
       "      <td>2019.0</td>\n",
       "      <td>3.000000</td>\n",
       "      <td>8.000000</td>\n",
       "      <td>54.000000</td>\n",
       "      <td>54.000000</td>\n",
       "      <td>49.975000</td>\n",
       "      <td>54.000000</td>\n",
       "      <td>47.750000</td>\n",
       "    </tr>\n",
       "    <tr>\n",
       "      <th>50%</th>\n",
       "      <td>2019.0</td>\n",
       "      <td>6.000000</td>\n",
       "      <td>15.000000</td>\n",
       "      <td>62.500000</td>\n",
       "      <td>62.500000</td>\n",
       "      <td>58.200000</td>\n",
       "      <td>62.500000</td>\n",
       "      <td>60.000000</td>\n",
       "    </tr>\n",
       "    <tr>\n",
       "      <th>75%</th>\n",
       "      <td>2019.0</td>\n",
       "      <td>10.000000</td>\n",
       "      <td>23.000000</td>\n",
       "      <td>71.000000</td>\n",
       "      <td>71.000000</td>\n",
       "      <td>69.025000</td>\n",
       "      <td>71.000000</td>\n",
       "      <td>71.000000</td>\n",
       "    </tr>\n",
       "    <tr>\n",
       "      <th>max</th>\n",
       "      <td>2019.0</td>\n",
       "      <td>12.000000</td>\n",
       "      <td>31.000000</td>\n",
       "      <td>117.000000</td>\n",
       "      <td>117.000000</td>\n",
       "      <td>77.400000</td>\n",
       "      <td>92.000000</td>\n",
       "      <td>95.000000</td>\n",
       "    </tr>\n",
       "  </tbody>\n",
       "</table>\n",
       "</div>"
      ],
      "text/plain": [
       "         year       month         day      temp_2      temp_1     average  \\\n",
       "count   348.0  348.000000  348.000000  348.000000  348.000000  348.000000   \n",
       "mean   2019.0    6.477011   15.514368   62.652299   62.701149   59.760632   \n",
       "std       0.0    3.498380    8.772982   12.165398   12.120542   10.527306   \n",
       "min    2019.0    1.000000    1.000000   35.000000   35.000000   45.100000   \n",
       "25%    2019.0    3.000000    8.000000   54.000000   54.000000   49.975000   \n",
       "50%    2019.0    6.000000   15.000000   62.500000   62.500000   58.200000   \n",
       "75%    2019.0   10.000000   23.000000   71.000000   71.000000   69.025000   \n",
       "max    2019.0   12.000000   31.000000  117.000000  117.000000   77.400000   \n",
       "\n",
       "           actual      friend  \n",
       "count  348.000000  348.000000  \n",
       "mean    62.543103   60.034483  \n",
       "std     11.794146   15.626179  \n",
       "min     35.000000   28.000000  \n",
       "25%     54.000000   47.750000  \n",
       "50%     62.500000   60.000000  \n",
       "75%     71.000000   71.000000  \n",
       "max     92.000000   95.000000  "
      ]
     },
     "execution_count": 8,
     "metadata": {},
     "output_type": "execute_result"
    }
   ],
   "source": [
    "df.describe()"
   ]
  },
  {
   "cell_type": "markdown",
   "id": "4f5899ed-f8b5-44fa-9368-bd3d3e8b8f6f",
   "metadata": {},
   "source": [
    "#### There are not any data points that immediately appear as anomalous and no zeros in any of the measurement columns."
   ]
  },
  {
   "cell_type": "markdown",
   "id": "21e0f4ea-8491-4b79-a0a9-fa3fea318037",
   "metadata": {},
   "source": [
    "#### Another method to verify the quality of the data is by making basic plots. Often it is easier to spot anomalies in a graph than in numbers."
   ]
  },
  {
   "cell_type": "code",
   "execution_count": 11,
   "id": "d3ba88b1-2c40-4516-b0a2-8cbacde4b20c",
   "metadata": {},
   "outputs": [],
   "source": [
    "# use datetime for dealing for dates\n",
    "import datetime"
   ]
  },
  {
   "cell_type": "code",
   "execution_count": 14,
   "id": "4ba21eb9-35ac-4ec6-bc8f-eba684cf235e",
   "metadata": {},
   "outputs": [],
   "source": [
    "# Get years, months and days\n",
    "\n",
    "years = df['year']\n",
    "months = df['month']\n",
    "days = df['day']\n",
    "\n",
    "# list and then convert to datetime object\n",
    "\n",
    "dates = [str(int(year)) + '-' + str(int(month)) + '-' + str(int(day)) for year, month, day in zip(years, months, days)]\n",
    "dates = [datetime.datetime.strptime(date, '%Y-%m-%d') for date in dates]"
   ]
  },
  {
   "cell_type": "code",
   "execution_count": 15,
   "id": "6ea33e00-334c-4705-a504-ff9cdb5a7208",
   "metadata": {
    "collapsed": true,
    "jupyter": {
     "outputs_hidden": true
    },
    "tags": []
   },
   "outputs": [
    {
     "data": {
      "text/plain": [
       "[datetime.datetime(2019, 1, 1, 0, 0),\n",
       " datetime.datetime(2019, 1, 2, 0, 0),\n",
       " datetime.datetime(2019, 1, 3, 0, 0),\n",
       " datetime.datetime(2019, 1, 4, 0, 0),\n",
       " datetime.datetime(2019, 1, 5, 0, 0),\n",
       " datetime.datetime(2019, 1, 6, 0, 0),\n",
       " datetime.datetime(2019, 1, 7, 0, 0),\n",
       " datetime.datetime(2019, 1, 8, 0, 0),\n",
       " datetime.datetime(2019, 1, 9, 0, 0),\n",
       " datetime.datetime(2019, 1, 10, 0, 0),\n",
       " datetime.datetime(2019, 1, 11, 0, 0),\n",
       " datetime.datetime(2019, 1, 12, 0, 0),\n",
       " datetime.datetime(2019, 1, 13, 0, 0),\n",
       " datetime.datetime(2019, 1, 14, 0, 0),\n",
       " datetime.datetime(2019, 1, 15, 0, 0),\n",
       " datetime.datetime(2019, 1, 16, 0, 0),\n",
       " datetime.datetime(2019, 1, 17, 0, 0),\n",
       " datetime.datetime(2019, 1, 18, 0, 0),\n",
       " datetime.datetime(2019, 1, 19, 0, 0),\n",
       " datetime.datetime(2019, 1, 20, 0, 0),\n",
       " datetime.datetime(2019, 1, 21, 0, 0),\n",
       " datetime.datetime(2019, 1, 22, 0, 0),\n",
       " datetime.datetime(2019, 1, 23, 0, 0),\n",
       " datetime.datetime(2019, 1, 24, 0, 0),\n",
       " datetime.datetime(2019, 1, 25, 0, 0),\n",
       " datetime.datetime(2019, 1, 26, 0, 0),\n",
       " datetime.datetime(2019, 1, 27, 0, 0),\n",
       " datetime.datetime(2019, 1, 28, 0, 0),\n",
       " datetime.datetime(2019, 1, 29, 0, 0),\n",
       " datetime.datetime(2019, 1, 30, 0, 0),\n",
       " datetime.datetime(2019, 1, 31, 0, 0),\n",
       " datetime.datetime(2019, 2, 1, 0, 0),\n",
       " datetime.datetime(2019, 2, 2, 0, 0),\n",
       " datetime.datetime(2019, 2, 3, 0, 0),\n",
       " datetime.datetime(2019, 2, 4, 0, 0),\n",
       " datetime.datetime(2019, 2, 5, 0, 0),\n",
       " datetime.datetime(2019, 2, 6, 0, 0),\n",
       " datetime.datetime(2019, 2, 7, 0, 0),\n",
       " datetime.datetime(2019, 2, 8, 0, 0),\n",
       " datetime.datetime(2019, 2, 9, 0, 0),\n",
       " datetime.datetime(2019, 2, 10, 0, 0),\n",
       " datetime.datetime(2019, 2, 11, 0, 0),\n",
       " datetime.datetime(2019, 2, 12, 0, 0),\n",
       " datetime.datetime(2019, 2, 15, 0, 0),\n",
       " datetime.datetime(2019, 2, 16, 0, 0),\n",
       " datetime.datetime(2019, 2, 17, 0, 0),\n",
       " datetime.datetime(2019, 2, 18, 0, 0),\n",
       " datetime.datetime(2019, 2, 19, 0, 0),\n",
       " datetime.datetime(2019, 2, 20, 0, 0),\n",
       " datetime.datetime(2019, 2, 21, 0, 0),\n",
       " datetime.datetime(2019, 2, 22, 0, 0),\n",
       " datetime.datetime(2019, 2, 23, 0, 0),\n",
       " datetime.datetime(2019, 2, 24, 0, 0),\n",
       " datetime.datetime(2019, 2, 25, 0, 0),\n",
       " datetime.datetime(2019, 2, 26, 0, 0),\n",
       " datetime.datetime(2019, 2, 27, 0, 0),\n",
       " datetime.datetime(2019, 2, 28, 0, 0),\n",
       " datetime.datetime(2019, 3, 1, 0, 0),\n",
       " datetime.datetime(2019, 3, 2, 0, 0),\n",
       " datetime.datetime(2019, 3, 3, 0, 0),\n",
       " datetime.datetime(2019, 3, 4, 0, 0),\n",
       " datetime.datetime(2019, 3, 5, 0, 0),\n",
       " datetime.datetime(2019, 3, 6, 0, 0),\n",
       " datetime.datetime(2019, 3, 7, 0, 0),\n",
       " datetime.datetime(2019, 3, 8, 0, 0),\n",
       " datetime.datetime(2019, 3, 9, 0, 0),\n",
       " datetime.datetime(2019, 3, 10, 0, 0),\n",
       " datetime.datetime(2019, 3, 11, 0, 0),\n",
       " datetime.datetime(2019, 3, 12, 0, 0),\n",
       " datetime.datetime(2019, 3, 13, 0, 0),\n",
       " datetime.datetime(2019, 3, 14, 0, 0),\n",
       " datetime.datetime(2019, 3, 15, 0, 0),\n",
       " datetime.datetime(2019, 3, 16, 0, 0),\n",
       " datetime.datetime(2019, 3, 17, 0, 0),\n",
       " datetime.datetime(2019, 3, 18, 0, 0),\n",
       " datetime.datetime(2019, 3, 19, 0, 0),\n",
       " datetime.datetime(2019, 3, 20, 0, 0),\n",
       " datetime.datetime(2019, 3, 21, 0, 0),\n",
       " datetime.datetime(2019, 3, 22, 0, 0),\n",
       " datetime.datetime(2019, 3, 23, 0, 0),\n",
       " datetime.datetime(2019, 3, 24, 0, 0),\n",
       " datetime.datetime(2019, 3, 25, 0, 0),\n",
       " datetime.datetime(2019, 3, 26, 0, 0),\n",
       " datetime.datetime(2019, 3, 27, 0, 0),\n",
       " datetime.datetime(2019, 3, 28, 0, 0),\n",
       " datetime.datetime(2019, 3, 29, 0, 0),\n",
       " datetime.datetime(2019, 3, 30, 0, 0),\n",
       " datetime.datetime(2019, 3, 31, 0, 0),\n",
       " datetime.datetime(2019, 4, 1, 0, 0),\n",
       " datetime.datetime(2019, 4, 2, 0, 0),\n",
       " datetime.datetime(2019, 4, 3, 0, 0),\n",
       " datetime.datetime(2019, 4, 4, 0, 0),\n",
       " datetime.datetime(2019, 4, 5, 0, 0),\n",
       " datetime.datetime(2019, 4, 6, 0, 0),\n",
       " datetime.datetime(2019, 4, 7, 0, 0),\n",
       " datetime.datetime(2019, 4, 8, 0, 0),\n",
       " datetime.datetime(2019, 4, 9, 0, 0),\n",
       " datetime.datetime(2019, 4, 10, 0, 0),\n",
       " datetime.datetime(2019, 4, 11, 0, 0),\n",
       " datetime.datetime(2019, 4, 12, 0, 0),\n",
       " datetime.datetime(2019, 4, 13, 0, 0),\n",
       " datetime.datetime(2019, 4, 14, 0, 0),\n",
       " datetime.datetime(2019, 4, 15, 0, 0),\n",
       " datetime.datetime(2019, 4, 16, 0, 0),\n",
       " datetime.datetime(2019, 4, 17, 0, 0),\n",
       " datetime.datetime(2019, 4, 18, 0, 0),\n",
       " datetime.datetime(2019, 4, 19, 0, 0),\n",
       " datetime.datetime(2019, 4, 20, 0, 0),\n",
       " datetime.datetime(2019, 4, 21, 0, 0),\n",
       " datetime.datetime(2019, 4, 22, 0, 0),\n",
       " datetime.datetime(2019, 4, 23, 0, 0),\n",
       " datetime.datetime(2019, 4, 24, 0, 0),\n",
       " datetime.datetime(2019, 4, 25, 0, 0),\n",
       " datetime.datetime(2019, 4, 26, 0, 0),\n",
       " datetime.datetime(2019, 4, 27, 0, 0),\n",
       " datetime.datetime(2019, 4, 28, 0, 0),\n",
       " datetime.datetime(2019, 4, 29, 0, 0),\n",
       " datetime.datetime(2019, 4, 30, 0, 0),\n",
       " datetime.datetime(2019, 5, 1, 0, 0),\n",
       " datetime.datetime(2019, 5, 2, 0, 0),\n",
       " datetime.datetime(2019, 5, 3, 0, 0),\n",
       " datetime.datetime(2019, 5, 4, 0, 0),\n",
       " datetime.datetime(2019, 5, 5, 0, 0),\n",
       " datetime.datetime(2019, 5, 6, 0, 0),\n",
       " datetime.datetime(2019, 5, 7, 0, 0),\n",
       " datetime.datetime(2019, 5, 8, 0, 0),\n",
       " datetime.datetime(2019, 5, 9, 0, 0),\n",
       " datetime.datetime(2019, 5, 10, 0, 0),\n",
       " datetime.datetime(2019, 5, 11, 0, 0),\n",
       " datetime.datetime(2019, 5, 12, 0, 0),\n",
       " datetime.datetime(2019, 5, 13, 0, 0),\n",
       " datetime.datetime(2019, 5, 14, 0, 0),\n",
       " datetime.datetime(2019, 5, 15, 0, 0),\n",
       " datetime.datetime(2019, 5, 16, 0, 0),\n",
       " datetime.datetime(2019, 5, 17, 0, 0),\n",
       " datetime.datetime(2019, 5, 18, 0, 0),\n",
       " datetime.datetime(2019, 5, 19, 0, 0),\n",
       " datetime.datetime(2019, 5, 20, 0, 0),\n",
       " datetime.datetime(2019, 5, 21, 0, 0),\n",
       " datetime.datetime(2019, 5, 22, 0, 0),\n",
       " datetime.datetime(2019, 5, 23, 0, 0),\n",
       " datetime.datetime(2019, 5, 24, 0, 0),\n",
       " datetime.datetime(2019, 5, 25, 0, 0),\n",
       " datetime.datetime(2019, 5, 26, 0, 0),\n",
       " datetime.datetime(2019, 5, 27, 0, 0),\n",
       " datetime.datetime(2019, 5, 28, 0, 0),\n",
       " datetime.datetime(2019, 5, 29, 0, 0),\n",
       " datetime.datetime(2019, 5, 30, 0, 0),\n",
       " datetime.datetime(2019, 5, 31, 0, 0),\n",
       " datetime.datetime(2019, 6, 1, 0, 0),\n",
       " datetime.datetime(2019, 6, 2, 0, 0),\n",
       " datetime.datetime(2019, 6, 3, 0, 0),\n",
       " datetime.datetime(2019, 6, 4, 0, 0),\n",
       " datetime.datetime(2019, 6, 5, 0, 0),\n",
       " datetime.datetime(2019, 6, 6, 0, 0),\n",
       " datetime.datetime(2019, 6, 7, 0, 0),\n",
       " datetime.datetime(2019, 6, 8, 0, 0),\n",
       " datetime.datetime(2019, 6, 9, 0, 0),\n",
       " datetime.datetime(2019, 6, 10, 0, 0),\n",
       " datetime.datetime(2019, 6, 11, 0, 0),\n",
       " datetime.datetime(2019, 6, 12, 0, 0),\n",
       " datetime.datetime(2019, 6, 13, 0, 0),\n",
       " datetime.datetime(2019, 6, 14, 0, 0),\n",
       " datetime.datetime(2019, 6, 15, 0, 0),\n",
       " datetime.datetime(2019, 6, 16, 0, 0),\n",
       " datetime.datetime(2019, 6, 17, 0, 0),\n",
       " datetime.datetime(2019, 6, 18, 0, 0),\n",
       " datetime.datetime(2019, 6, 19, 0, 0),\n",
       " datetime.datetime(2019, 6, 20, 0, 0),\n",
       " datetime.datetime(2019, 6, 21, 0, 0),\n",
       " datetime.datetime(2019, 6, 22, 0, 0),\n",
       " datetime.datetime(2019, 6, 23, 0, 0),\n",
       " datetime.datetime(2019, 6, 24, 0, 0),\n",
       " datetime.datetime(2019, 6, 25, 0, 0),\n",
       " datetime.datetime(2019, 6, 26, 0, 0),\n",
       " datetime.datetime(2019, 6, 27, 0, 0),\n",
       " datetime.datetime(2019, 6, 28, 0, 0),\n",
       " datetime.datetime(2019, 6, 29, 0, 0),\n",
       " datetime.datetime(2019, 6, 30, 0, 0),\n",
       " datetime.datetime(2019, 7, 1, 0, 0),\n",
       " datetime.datetime(2019, 7, 2, 0, 0),\n",
       " datetime.datetime(2019, 7, 3, 0, 0),\n",
       " datetime.datetime(2019, 7, 4, 0, 0),\n",
       " datetime.datetime(2019, 7, 5, 0, 0),\n",
       " datetime.datetime(2019, 7, 6, 0, 0),\n",
       " datetime.datetime(2019, 7, 7, 0, 0),\n",
       " datetime.datetime(2019, 7, 8, 0, 0),\n",
       " datetime.datetime(2019, 7, 9, 0, 0),\n",
       " datetime.datetime(2019, 7, 10, 0, 0),\n",
       " datetime.datetime(2019, 7, 11, 0, 0),\n",
       " datetime.datetime(2019, 7, 12, 0, 0),\n",
       " datetime.datetime(2019, 7, 13, 0, 0),\n",
       " datetime.datetime(2019, 7, 14, 0, 0),\n",
       " datetime.datetime(2019, 7, 15, 0, 0),\n",
       " datetime.datetime(2019, 7, 16, 0, 0),\n",
       " datetime.datetime(2019, 7, 17, 0, 0),\n",
       " datetime.datetime(2019, 7, 18, 0, 0),\n",
       " datetime.datetime(2019, 7, 19, 0, 0),\n",
       " datetime.datetime(2019, 7, 20, 0, 0),\n",
       " datetime.datetime(2019, 7, 21, 0, 0),\n",
       " datetime.datetime(2019, 7, 22, 0, 0),\n",
       " datetime.datetime(2019, 7, 23, 0, 0),\n",
       " datetime.datetime(2019, 7, 24, 0, 0),\n",
       " datetime.datetime(2019, 7, 25, 0, 0),\n",
       " datetime.datetime(2019, 7, 26, 0, 0),\n",
       " datetime.datetime(2019, 7, 27, 0, 0),\n",
       " datetime.datetime(2019, 7, 28, 0, 0),\n",
       " datetime.datetime(2019, 7, 29, 0, 0),\n",
       " datetime.datetime(2019, 7, 30, 0, 0),\n",
       " datetime.datetime(2019, 7, 31, 0, 0),\n",
       " datetime.datetime(2019, 8, 1, 0, 0),\n",
       " datetime.datetime(2019, 8, 2, 0, 0),\n",
       " datetime.datetime(2019, 8, 3, 0, 0),\n",
       " datetime.datetime(2019, 8, 4, 0, 0),\n",
       " datetime.datetime(2019, 8, 5, 0, 0),\n",
       " datetime.datetime(2019, 8, 6, 0, 0),\n",
       " datetime.datetime(2019, 8, 7, 0, 0),\n",
       " datetime.datetime(2019, 8, 8, 0, 0),\n",
       " datetime.datetime(2019, 8, 9, 0, 0),\n",
       " datetime.datetime(2019, 8, 10, 0, 0),\n",
       " datetime.datetime(2019, 8, 11, 0, 0),\n",
       " datetime.datetime(2019, 8, 12, 0, 0),\n",
       " datetime.datetime(2019, 8, 13, 0, 0),\n",
       " datetime.datetime(2019, 8, 14, 0, 0),\n",
       " datetime.datetime(2019, 8, 15, 0, 0),\n",
       " datetime.datetime(2019, 8, 16, 0, 0),\n",
       " datetime.datetime(2019, 8, 23, 0, 0),\n",
       " datetime.datetime(2019, 8, 28, 0, 0),\n",
       " datetime.datetime(2019, 8, 30, 0, 0),\n",
       " datetime.datetime(2019, 9, 3, 0, 0),\n",
       " datetime.datetime(2019, 9, 4, 0, 0),\n",
       " datetime.datetime(2019, 9, 5, 0, 0),\n",
       " datetime.datetime(2019, 9, 6, 0, 0),\n",
       " datetime.datetime(2019, 9, 7, 0, 0),\n",
       " datetime.datetime(2019, 9, 8, 0, 0),\n",
       " datetime.datetime(2019, 9, 9, 0, 0),\n",
       " datetime.datetime(2019, 9, 10, 0, 0),\n",
       " datetime.datetime(2019, 9, 11, 0, 0),\n",
       " datetime.datetime(2019, 9, 12, 0, 0),\n",
       " datetime.datetime(2019, 9, 13, 0, 0),\n",
       " datetime.datetime(2019, 9, 14, 0, 0),\n",
       " datetime.datetime(2019, 9, 15, 0, 0),\n",
       " datetime.datetime(2019, 9, 16, 0, 0),\n",
       " datetime.datetime(2019, 9, 17, 0, 0),\n",
       " datetime.datetime(2019, 9, 18, 0, 0),\n",
       " datetime.datetime(2019, 9, 19, 0, 0),\n",
       " datetime.datetime(2019, 9, 20, 0, 0),\n",
       " datetime.datetime(2019, 9, 21, 0, 0),\n",
       " datetime.datetime(2019, 9, 22, 0, 0),\n",
       " datetime.datetime(2019, 9, 23, 0, 0),\n",
       " datetime.datetime(2019, 9, 24, 0, 0),\n",
       " datetime.datetime(2019, 9, 25, 0, 0),\n",
       " datetime.datetime(2019, 9, 26, 0, 0),\n",
       " datetime.datetime(2019, 9, 27, 0, 0),\n",
       " datetime.datetime(2019, 9, 28, 0, 0),\n",
       " datetime.datetime(2019, 9, 29, 0, 0),\n",
       " datetime.datetime(2019, 9, 30, 0, 0),\n",
       " datetime.datetime(2019, 10, 1, 0, 0),\n",
       " datetime.datetime(2019, 10, 2, 0, 0),\n",
       " datetime.datetime(2019, 10, 3, 0, 0),\n",
       " datetime.datetime(2019, 10, 4, 0, 0),\n",
       " datetime.datetime(2019, 10, 5, 0, 0),\n",
       " datetime.datetime(2019, 10, 6, 0, 0),\n",
       " datetime.datetime(2019, 10, 7, 0, 0),\n",
       " datetime.datetime(2019, 10, 8, 0, 0),\n",
       " datetime.datetime(2019, 10, 9, 0, 0),\n",
       " datetime.datetime(2019, 10, 10, 0, 0),\n",
       " datetime.datetime(2019, 10, 11, 0, 0),\n",
       " datetime.datetime(2019, 10, 12, 0, 0),\n",
       " datetime.datetime(2019, 10, 13, 0, 0),\n",
       " datetime.datetime(2019, 10, 14, 0, 0),\n",
       " datetime.datetime(2019, 10, 15, 0, 0),\n",
       " datetime.datetime(2019, 10, 16, 0, 0),\n",
       " datetime.datetime(2019, 10, 17, 0, 0),\n",
       " datetime.datetime(2019, 10, 18, 0, 0),\n",
       " datetime.datetime(2019, 10, 19, 0, 0),\n",
       " datetime.datetime(2019, 10, 20, 0, 0),\n",
       " datetime.datetime(2019, 10, 21, 0, 0),\n",
       " datetime.datetime(2019, 10, 22, 0, 0),\n",
       " datetime.datetime(2019, 10, 23, 0, 0),\n",
       " datetime.datetime(2019, 10, 24, 0, 0),\n",
       " datetime.datetime(2019, 10, 25, 0, 0),\n",
       " datetime.datetime(2019, 10, 26, 0, 0),\n",
       " datetime.datetime(2019, 10, 27, 0, 0),\n",
       " datetime.datetime(2019, 10, 28, 0, 0),\n",
       " datetime.datetime(2019, 10, 29, 0, 0),\n",
       " datetime.datetime(2019, 10, 31, 0, 0),\n",
       " datetime.datetime(2019, 11, 1, 0, 0),\n",
       " datetime.datetime(2019, 11, 2, 0, 0),\n",
       " datetime.datetime(2019, 11, 3, 0, 0),\n",
       " datetime.datetime(2019, 11, 4, 0, 0),\n",
       " datetime.datetime(2019, 11, 5, 0, 0),\n",
       " datetime.datetime(2019, 11, 6, 0, 0),\n",
       " datetime.datetime(2019, 11, 7, 0, 0),\n",
       " datetime.datetime(2019, 11, 8, 0, 0),\n",
       " datetime.datetime(2019, 11, 9, 0, 0),\n",
       " datetime.datetime(2019, 11, 10, 0, 0),\n",
       " datetime.datetime(2019, 11, 11, 0, 0),\n",
       " datetime.datetime(2019, 11, 12, 0, 0),\n",
       " datetime.datetime(2019, 11, 13, 0, 0),\n",
       " datetime.datetime(2019, 11, 14, 0, 0),\n",
       " datetime.datetime(2019, 11, 15, 0, 0),\n",
       " datetime.datetime(2019, 11, 16, 0, 0),\n",
       " datetime.datetime(2019, 11, 17, 0, 0),\n",
       " datetime.datetime(2019, 11, 18, 0, 0),\n",
       " datetime.datetime(2019, 11, 19, 0, 0),\n",
       " datetime.datetime(2019, 11, 20, 0, 0),\n",
       " datetime.datetime(2019, 11, 21, 0, 0),\n",
       " datetime.datetime(2019, 11, 22, 0, 0),\n",
       " datetime.datetime(2019, 11, 23, 0, 0),\n",
       " datetime.datetime(2019, 11, 24, 0, 0),\n",
       " datetime.datetime(2019, 11, 25, 0, 0),\n",
       " datetime.datetime(2019, 11, 26, 0, 0),\n",
       " datetime.datetime(2019, 11, 27, 0, 0),\n",
       " datetime.datetime(2019, 11, 28, 0, 0),\n",
       " datetime.datetime(2019, 11, 29, 0, 0),\n",
       " datetime.datetime(2019, 11, 30, 0, 0),\n",
       " datetime.datetime(2019, 12, 1, 0, 0),\n",
       " datetime.datetime(2019, 12, 2, 0, 0),\n",
       " datetime.datetime(2019, 12, 3, 0, 0),\n",
       " datetime.datetime(2019, 12, 4, 0, 0),\n",
       " datetime.datetime(2019, 12, 5, 0, 0),\n",
       " datetime.datetime(2019, 12, 6, 0, 0),\n",
       " datetime.datetime(2019, 12, 7, 0, 0),\n",
       " datetime.datetime(2019, 12, 8, 0, 0),\n",
       " datetime.datetime(2019, 12, 9, 0, 0),\n",
       " datetime.datetime(2019, 12, 10, 0, 0),\n",
       " datetime.datetime(2019, 12, 11, 0, 0),\n",
       " datetime.datetime(2019, 12, 12, 0, 0),\n",
       " datetime.datetime(2019, 12, 13, 0, 0),\n",
       " datetime.datetime(2019, 12, 14, 0, 0),\n",
       " datetime.datetime(2019, 12, 15, 0, 0),\n",
       " datetime.datetime(2019, 12, 16, 0, 0),\n",
       " datetime.datetime(2019, 12, 17, 0, 0),\n",
       " datetime.datetime(2019, 12, 18, 0, 0),\n",
       " datetime.datetime(2019, 12, 19, 0, 0),\n",
       " datetime.datetime(2019, 12, 20, 0, 0),\n",
       " datetime.datetime(2019, 12, 21, 0, 0),\n",
       " datetime.datetime(2019, 12, 22, 0, 0),\n",
       " datetime.datetime(2019, 12, 23, 0, 0),\n",
       " datetime.datetime(2019, 12, 24, 0, 0),\n",
       " datetime.datetime(2019, 12, 25, 0, 0),\n",
       " datetime.datetime(2019, 12, 26, 0, 0),\n",
       " datetime.datetime(2019, 12, 27, 0, 0),\n",
       " datetime.datetime(2019, 12, 28, 0, 0),\n",
       " datetime.datetime(2019, 12, 29, 0, 0),\n",
       " datetime.datetime(2019, 12, 30, 0, 0),\n",
       " datetime.datetime(2019, 12, 31, 0, 0)]"
      ]
     },
     "execution_count": 15,
     "metadata": {},
     "output_type": "execute_result"
    }
   ],
   "source": [
    "dates"
   ]
  },
  {
   "cell_type": "code",
   "execution_count": 16,
   "id": "e1967068-26fa-4b62-976e-6d49a03018e2",
   "metadata": {},
   "outputs": [],
   "source": [
    "import matplotlib.pyplot as plt\n",
    "%matplotlib inline\n",
    "plt.style.use('fivethirtyeight')"
   ]
  },
  {
   "cell_type": "code",
   "execution_count": 30,
   "id": "bf2f01e3-2762-450e-94e1-7b63befeceb5",
   "metadata": {},
   "outputs": [
    {
     "data": {
      "image/png": "[encoded data removed]",
      "text/plain": [
       "<Figure size 720x720 with 4 Axes>"
      ]
     },
     "metadata": {},
     "output_type": "display_data"
    }
   ],
   "source": [
    "fig, ((ax1, ax2), (ax3, ax4)) = plt.subplots(nrows = 2, ncols = 2, figsize = (10,10))\n",
    "fig.autofmt_xdate(rotation = 45)\n",
    "\n",
    "ax1.plot(dates, df['temp_2'])\n",
    "ax1.set_xlabel('');\n",
    "ax1.set_ylabel('Temperature'); \n",
    "ax1.set_title('Two days prior Max Temp')\n",
    "\n",
    "ax2.plot(dates, df['temp_1'])\n",
    "ax2.set_xlabel('');\n",
    "ax2.set_ylabel('Temperature');\n",
    "ax2.set_title('Previous day Max temp')\n",
    "\n",
    "ax3.plot(dates, df['actual'])\n",
    "ax3.set_xlabel('');\n",
    "ax3.set_ylabel('Temperature');\n",
    "ax3.set_title('Todays Max temp')\n",
    "\n",
    "ax4.plot(dates, df['friend'])\n",
    "ax4.set_xlabel('');\n",
    "ax4.set_ylabel('Temperature');\n",
    "ax4.set_title('Friend Estimate')\n",
    "\n",
    "plt.tight_layout(pad = 3)"
   ]
  },
  {
   "cell_type": "markdown",
   "id": "c300daf6-24dd-40ef-bc8f-fec08cddc683",
   "metadata": {},
   "source": [
    "### 2.2 One-Hot Encoding\n",
    "\n",
    "#### Takes categorical variables, such as days of the week and converts it to a numerical representation without an arbitrary ordering. \n",
    "\n",
    "- Days of the week are intuitive to us because we use them all the time. \n",
    "\n",
    "- You will (hopefully) never find anyone who doesn’t know that ‘Mon’ refers to the first day of the workweek, but machines do not have any intuitive knowledge. What computers know is numbers and for machine learning we must accommodate them. We could simply map days of the week to numbers 1–7, but this might lead to the algorithm placing more importance on Sunday because it has a higher numerical value."
   ]
  },
  {
   "cell_type": "markdown",
   "id": "3727c2c6-5912-422a-b107-9af5991e145f",
   "metadata": {},
   "source": [
    "One hot encoding takes this:\n",
    "\n",
    "| week |\n",
    "|------|\n",
    "| Mon  |\n",
    "| Tue  |\n",
    "| Wed  |\n",
    "| Thu  |\n",
    "| Fri  |\n",
    "\n",
    "and converts it into:\n",
    "\n",
    "| Mon | Tue | Wed | Thu | Fri |\n",
    "|-----|-----|-----|-----|-----|\n",
    "| 1   | 0   | 0   | 0   | 0   |\n",
    "| 0   | 1   | 0   | 0   | 0   |\n",
    "| 0   | 0   | 1   | 0   | 0   |\n",
    "| 0   | 0   | 0   | 1   | 0   |\n",
    "| 0   | 0   | 0   | 0   | 1   |"
   ]
  },
  {
   "cell_type": "code",
   "execution_count": 32,
   "id": "9ad1bb88-6964-4e2c-8b68-43c99a84c366",
   "metadata": {},
   "outputs": [
    {
     "data": {
      "text/html": [
       "<div>\n",
       "<style scoped>\n",
       "    .dataframe tbody tr th:only-of-type {\n",
       "        vertical-align: middle;\n",
       "    }\n",
       "\n",
       "    .dataframe tbody tr th {\n",
       "        vertical-align: top;\n",
       "    }\n",
       "\n",
       "    .dataframe thead th {\n",
       "        text-align: right;\n",
       "    }\n",
       "</style>\n",
       "<table border=\"1\" class=\"dataframe\">\n",
       "  <thead>\n",
       "    <tr style=\"text-align: right;\">\n",
       "      <th></th>\n",
       "      <th>year</th>\n",
       "      <th>month</th>\n",
       "      <th>day</th>\n",
       "      <th>temp_2</th>\n",
       "      <th>temp_1</th>\n",
       "      <th>average</th>\n",
       "      <th>actual</th>\n",
       "      <th>friend</th>\n",
       "      <th>week_Fri</th>\n",
       "      <th>week_Mon</th>\n",
       "      <th>week_Sat</th>\n",
       "      <th>week_Sun</th>\n",
       "      <th>week_Thurs</th>\n",
       "      <th>week_Tues</th>\n",
       "      <th>week_Wed</th>\n",
       "    </tr>\n",
       "  </thead>\n",
       "  <tbody>\n",
       "    <tr>\n",
       "      <th>0</th>\n",
       "      <td>2019</td>\n",
       "      <td>1</td>\n",
       "      <td>1</td>\n",
       "      <td>45</td>\n",
       "      <td>45</td>\n",
       "      <td>45.6</td>\n",
       "      <td>45</td>\n",
       "      <td>29</td>\n",
       "      <td>1</td>\n",
       "      <td>0</td>\n",
       "      <td>0</td>\n",
       "      <td>0</td>\n",
       "      <td>0</td>\n",
       "      <td>0</td>\n",
       "      <td>0</td>\n",
       "    </tr>\n",
       "    <tr>\n",
       "      <th>1</th>\n",
       "      <td>2019</td>\n",
       "      <td>1</td>\n",
       "      <td>2</td>\n",
       "      <td>44</td>\n",
       "      <td>45</td>\n",
       "      <td>45.7</td>\n",
       "      <td>44</td>\n",
       "      <td>61</td>\n",
       "      <td>0</td>\n",
       "      <td>0</td>\n",
       "      <td>1</td>\n",
       "      <td>0</td>\n",
       "      <td>0</td>\n",
       "      <td>0</td>\n",
       "      <td>0</td>\n",
       "    </tr>\n",
       "    <tr>\n",
       "      <th>2</th>\n",
       "      <td>2019</td>\n",
       "      <td>1</td>\n",
       "      <td>3</td>\n",
       "      <td>45</td>\n",
       "      <td>44</td>\n",
       "      <td>45.8</td>\n",
       "      <td>41</td>\n",
       "      <td>56</td>\n",
       "      <td>0</td>\n",
       "      <td>0</td>\n",
       "      <td>0</td>\n",
       "      <td>1</td>\n",
       "      <td>0</td>\n",
       "      <td>0</td>\n",
       "      <td>0</td>\n",
       "    </tr>\n",
       "    <tr>\n",
       "      <th>3</th>\n",
       "      <td>2019</td>\n",
       "      <td>1</td>\n",
       "      <td>4</td>\n",
       "      <td>44</td>\n",
       "      <td>41</td>\n",
       "      <td>45.9</td>\n",
       "      <td>40</td>\n",
       "      <td>53</td>\n",
       "      <td>0</td>\n",
       "      <td>1</td>\n",
       "      <td>0</td>\n",
       "      <td>0</td>\n",
       "      <td>0</td>\n",
       "      <td>0</td>\n",
       "      <td>0</td>\n",
       "    </tr>\n",
       "    <tr>\n",
       "      <th>4</th>\n",
       "      <td>2019</td>\n",
       "      <td>1</td>\n",
       "      <td>5</td>\n",
       "      <td>41</td>\n",
       "      <td>40</td>\n",
       "      <td>46.0</td>\n",
       "      <td>44</td>\n",
       "      <td>41</td>\n",
       "      <td>0</td>\n",
       "      <td>0</td>\n",
       "      <td>0</td>\n",
       "      <td>0</td>\n",
       "      <td>0</td>\n",
       "      <td>1</td>\n",
       "      <td>0</td>\n",
       "    </tr>\n",
       "  </tbody>\n",
       "</table>\n",
       "</div>"
      ],
      "text/plain": [
       "   year  month  day  temp_2  temp_1  average  actual  friend  week_Fri  \\\n",
       "0  2019      1    1      45      45     45.6      45      29         1   \n",
       "1  2019      1    2      44      45     45.7      44      61         0   \n",
       "2  2019      1    3      45      44     45.8      41      56         0   \n",
       "3  2019      1    4      44      41     45.9      40      53         0   \n",
       "4  2019      1    5      41      40     46.0      44      41         0   \n",
       "\n",
       "   week_Mon  week_Sat  week_Sun  week_Thurs  week_Tues  week_Wed  \n",
       "0         0         0         0           0          0         0  \n",
       "1         0         1         0           0          0         0  \n",
       "2         0         0         1           0          0         0  \n",
       "3         1         0         0           0          0         0  \n",
       "4         0         0         0           0          1         0  "
      ]
     },
     "execution_count": 32,
     "metadata": {},
     "output_type": "execute_result"
    }
   ],
   "source": [
    "# One-hot encode categorical features\n",
    "df = pd.get_dummies(df)\n",
    "df.head(5)"
   ]
  },
  {
   "cell_type": "code",
   "execution_count": 33,
   "id": "9dc9efbe-8169-400e-8591-29eec56c21c8",
   "metadata": {},
   "outputs": [
    {
     "name": "stdout",
     "output_type": "stream",
     "text": [
      "Shape of data after one-hot encoding: (348, 15)\n"
     ]
    }
   ],
   "source": [
    "print('Shape of data after one-hot encoding:', df.shape)"
   ]
  },
  {
   "cell_type": "markdown",
   "id": "95ef6b99-362a-42a7-80d7-5faa982afdc0",
   "metadata": {},
   "source": [
    "### 2.3 Convert Features and Labels and Convert Data to Arrays\n",
    "\n",
    "#### 1) Separate the data into features and targets. \n",
    "\n",
    "The target, also known as the label, is the value we want to predict, in this case the actual max temperature and the features are all the columns the model uses to make a prediction. \n",
    "\n",
    "#### 2) We will also convert the Pandas dataframes to Numpy arrays \n",
    "\n",
    "because that is the way the algorithm works. (save the column headers, which are the names of the features, to a list to use for later visualization)."
   ]
  },
  {
   "cell_type": "code",
   "execution_count": 35,
   "id": "e0c6ee87-ba1c-4877-a473-8619a1c9f003",
   "metadata": {},
   "outputs": [],
   "source": [
    "# use numpy to convert to arrays\n",
    "import numpy as np\n",
    "\n",
    "# labels are the values we want to predict\n",
    "labels = np.array(df['actual'])\n",
    "\n",
    "# remove the labels from the features\n",
    "# axis 1 refers to the columns\n",
    "features = df.drop('actual', axis = 1)\n",
    "\n",
    "#saving feature names for later use\n",
    "feature_list = list(df.columns)\n",
    "\n",
    "#convert to numpy array\n",
    "features = np.array(features)"
   ]
  },
  {
   "cell_type": "markdown",
   "id": "56755cfe-2e50-43c8-b00d-6b20c884caca",
   "metadata": {},
   "source": [
    "### 2.4 Split the data into Training and Testing Sets"
   ]
  },
  {
   "cell_type": "code",
   "execution_count": 36,
   "id": "13dcca4a-07cb-4da7-9e08-d85621ef6104",
   "metadata": {},
   "outputs": [],
   "source": [
    "# Using Skicit-learn to split data into training and testing sets\n",
    "from sklearn.model_selection import train_test_split"
   ]
  },
  {
   "cell_type": "code",
   "execution_count": 37,
   "id": "c46fd589-0267-4a77-b9a2-249d47c93dcf",
   "metadata": {},
   "outputs": [],
   "source": [
    "train_features, test_features, train_labels, test_labels = train_test_split(features, labels,\n",
    "                                                                           test_size = 0.2,\n",
    "                                                                           random_state = 42)"
   ]
  },
  {
   "cell_type": "code",
   "execution_count": 38,
   "id": "5c853b57-f28f-46f8-8e8b-85628174762d",
   "metadata": {},
   "outputs": [
    {
     "name": "stdout",
     "output_type": "stream",
     "text": [
      "Training features shape :  (278, 14)\n",
      "Training labels shape :  (278,)\n",
      "Testing features shape :  (70, 14)\n",
      "Testing labels shape :  (70,)\n"
     ]
    }
   ],
   "source": [
    "print('Training features shape : ', train_features.shape)\n",
    "print('Training labels shape : ', train_labels.shape)\n",
    "print('Testing features shape : ', test_features.shape)\n",
    "print('Testing labels shape : ', test_labels.shape)"
   ]
  },
  {
   "cell_type": "markdown",
   "id": "ff6905a3-1e10-4dcf-9b7f-b210cf072308",
   "metadata": {},
   "source": [
    "# 3. Simple Baseline Predictions - Just compute average\n",
    "\n",
    "Before we can make and evaluate predictions, we need to establish a baseline, a sensible measure that we hope to beat with our model. \n",
    "\n",
    "If our model cannot improve upon the baseline, then it will be a failure and we should try a different model or admit that machine learning is not right for our problem. \n",
    "\n",
    "**The baseline prediction for our case can be the historical max temperature averages.**\n",
    "\n",
    "In other words, our baseline is the error we would get if we simply predicted the average max temperature for all days."
   ]
  },
  {
   "cell_type": "code",
   "execution_count": 39,
   "id": "e593e5db-b36e-496d-8574-4bc0a88c91d5",
   "metadata": {},
   "outputs": [
    {
     "data": {
      "text/plain": [
       "array([[2.019e+03, 1.000e+00, 1.000e+00, ..., 0.000e+00, 0.000e+00,\n",
       "        0.000e+00],\n",
       "       [2.019e+03, 1.000e+00, 2.000e+00, ..., 0.000e+00, 0.000e+00,\n",
       "        0.000e+00],\n",
       "       [2.019e+03, 1.000e+00, 3.000e+00, ..., 0.000e+00, 0.000e+00,\n",
       "        0.000e+00],\n",
       "       ...,\n",
       "       [2.019e+03, 1.200e+01, 2.900e+01, ..., 1.000e+00, 0.000e+00,\n",
       "        0.000e+00],\n",
       "       [2.019e+03, 1.200e+01, 3.000e+01, ..., 0.000e+00, 0.000e+00,\n",
       "        0.000e+00],\n",
       "       [2.019e+03, 1.200e+01, 3.100e+01, ..., 0.000e+00, 0.000e+00,\n",
       "        0.000e+00]])"
      ]
     },
     "execution_count": 39,
     "metadata": {},
     "output_type": "execute_result"
    }
   ],
   "source": [
    "features"
   ]
  },
  {
   "cell_type": "code",
   "execution_count": 40,
   "id": "6cf569bf-ddbb-4280-88bf-b498896a18fa",
   "metadata": {},
   "outputs": [
    {
     "data": {
      "text/plain": [
       "<function list.index(value, start=0, stop=9223372036854775807, /)>"
      ]
     },
     "execution_count": 40,
     "metadata": {},
     "output_type": "execute_result"
    }
   ],
   "source": [
    "feature_list.index"
   ]
  },
  {
   "cell_type": "code",
   "execution_count": 43,
   "id": "3a06cadc-af33-46f9-b40d-99f7568f1fb9",
   "metadata": {},
   "outputs": [
    {
     "name": "stdout",
     "output_type": "stream",
     "text": [
      "Average baseline error :  5.09 degrees.\n"
     ]
    }
   ],
   "source": [
    "# The baseline predictions are the historical averages\n",
    "baseline_preds = test_features[:, feature_list.index('average')]\n",
    "\n",
    "# Baseline errors, and display average baseline error\n",
    "baseline_errors = abs(baseline_preds - test_labels)\n",
    "print('Average baseline error : ', round(np.mean(baseline_errors), 2), 'degrees.')"
   ]
  },
  {
   "cell_type": "markdown",
   "id": "a4e41210-6456-4e79-8b5e-ac478fed3293",
   "metadata": {},
   "source": [
    "### Just doing average gave a forecast with an error of 5.06 degrees...Now, let us target to build a model with error less than our base line which is 5.06 degrees"
   ]
  },
  {
   "cell_type": "markdown",
   "id": "67572809-b52e-4052-aa53-4179493b17cd",
   "metadata": {},
   "source": [
    "# 4. Train Model\n",
    "\n",
    "We import the random forest regression model from skicit-learn, instantiate the model, and fit (scikit-learn’s name for training) the model on the training data. (setting the random state for reproducible results)."
   ]
  },
  {
   "cell_type": "code",
   "execution_count": 44,
   "id": "4b7b3e66-a79a-42ea-ad9b-b5519c8e6fcf",
   "metadata": {},
   "outputs": [],
   "source": [
    "from sklearn.ensemble import RandomForestRegressor"
   ]
  },
  {
   "cell_type": "code",
   "execution_count": 46,
   "id": "5ad112d5-606d-4fa3-b436-269bf35fab91",
   "metadata": {},
   "outputs": [],
   "source": [
    "# Instantiate model - 100 trees\n",
    "rf = RandomForestRegressor(n_estimators = 1000, random_state = 70)"
   ]
  },
  {
   "cell_type": "code",
   "execution_count": 47,
   "id": "308ddabf-6db5-46d4-9773-40d7ba6cb00b",
   "metadata": {},
   "outputs": [
    {
     "data": {
      "text/plain": [
       "RandomForestRegressor(n_estimators=1000, random_state=70)"
      ]
     },
     "execution_count": 47,
     "metadata": {},
     "output_type": "execute_result"
    }
   ],
   "source": [
    "rf.fit(train_features, train_labels)"
   ]
  },
  {
   "cell_type": "markdown",
   "id": "f896920e-22f0-4d45-a829-6498f47e71de",
   "metadata": {},
   "source": [
    "# 5. Make Predictions on Test Data\n",
    "\n",
    "Our model has now been trained to learn the relationships between the features and the targets. The next step is figuring out how good the model is! To do this we make predictions on the test features (the model is never allowed to see the test answers). \n",
    "\n",
    "We then compare the predictions to the known answers. When performing regression, we need to make sure to use the absolute error because we expect some of our answers to be low and some to be high. "
   ]
  },
  {
   "cell_type": "code",
   "execution_count": 50,
   "id": "b5e57d9f-776e-48f5-8ea6-86c8100270b2",
   "metadata": {},
   "outputs": [
    {
     "name": "stdout",
     "output_type": "stream",
     "text": [
      "Mean Absolute Error :  3.82 degree.\n"
     ]
    }
   ],
   "source": [
    "# Use the forest's predict method on the test data\n",
    "predictions = rf.predict(test_features)\n",
    "\n",
    "# calculate the absolute errors\n",
    "errors = abs(predictions - test_labels)\n",
    "\n",
    "#print out the mean absolute error(mse)\n",
    "print('Mean Absolute Error : ', round(np.mean(errors), 2), 'degree.')"
   ]
  },
  {
   "cell_type": "markdown",
   "id": "62f53ec1-2f00-49e5-abe9-b909057a11c4",
   "metadata": {},
   "source": [
    "###  Model Error = 3.92 degrees < Base Line Error = 5.06 degrees\n",
    "\n",
    "##### It is nearly 25% better than the baseline...Still we may not be happy"
   ]
  },
  {
   "cell_type": "markdown",
   "id": "445b653b-cedf-441e-a359-d6d728730ea0",
   "metadata": {},
   "source": [
    "# 6. Determine Performance Metrics"
   ]
  },
  {
   "cell_type": "code",
   "execution_count": 53,
   "id": "f847b5a1-aa85-48e9-9f54-bf96ec39352a",
   "metadata": {},
   "outputs": [
    {
     "name": "stdout",
     "output_type": "stream",
     "text": [
      "Accuracy 93.97 %.\n"
     ]
    }
   ],
   "source": [
    "# calculate mean absolute percentage error(mape)\n",
    "mape = 100 *(errors / test_labels)\n",
    "\n",
    "#calculate and display accuracy\n",
    "accuracy = 100 - np.mean(mape)\n",
    "print('Accuracy', round(accuracy, 2), '%.')"
   ]
  },
  {
   "cell_type": "markdown",
   "id": "a764eab4-45b3-410d-97ee-4e129990ee5a",
   "metadata": {},
   "source": [
    "# 7. Improve Model - Tuning"
   ]
  },
  {
   "cell_type": "code",
   "execution_count": 54,
   "id": "90ea5f51-63cb-4755-a465-3812227d5729",
   "metadata": {},
   "outputs": [
    {
     "data": {
      "text/plain": [
       "RandomForestRegressor(max_depth=10, n_estimators=1000)"
      ]
     },
     "execution_count": 54,
     "metadata": {},
     "output_type": "execute_result"
    }
   ],
   "source": [
    "# We can create models with different hyperparameters to try and boost performance. The only way to find the best onesare to try a few and evaluate them! \n",
    "rf_new = RandomForestRegressor(n_estimators = 1000, criterion = 'mse', max_depth = 10)\n",
    "\n",
    "#Train the model on training data\n",
    "rf_new.fit(train_features, train_labels)"
   ]
  },
  {
   "cell_type": "code",
   "execution_count": 55,
   "id": "bbd5b764-63da-434f-a7e9-a48ac9c41e04",
   "metadata": {},
   "outputs": [
    {
     "name": "stdout",
     "output_type": "stream",
     "text": [
      "Mean Absolute Error :  3.84 degree.\n"
     ]
    }
   ],
   "source": [
    "# use the forest's predict method on the test data with new model rf_new\n",
    "predictions2 = rf_new.predict(test_features)\n",
    "\n",
    "# calculate the absolute errors\n",
    "errors = abs(predictions2 - test_labels)\n",
    "\n",
    "# print out the mean absolute error(mae)\n",
    "print('Mean Absolute Error : ', round(np.mean(errors), 2), 'degree.')"
   ]
  },
  {
   "cell_type": "markdown",
   "id": "04562878-e545-4b22-85e4-b52fda772a0b",
   "metadata": {},
   "source": [
    "#### New model has improved the error from 3.92 to 3.81\n",
    "#### We can tune other hyper paramters as well..."
   ]
  },
  {
   "cell_type": "markdown",
   "id": "f5db8751-d0d2-4547-9eaf-84dbd30ae0cf",
   "metadata": {},
   "source": [
    "# 8. Variable importance and feature selection\n",
    "\n",
    "At this point, we know our model is good, but it’s pretty much a black box. We feed in some Numpy arrays for training, ask it to make a prediction, evaluate the predictions, and see that they are reasonable. \n",
    "\n",
    "The question is: how does this model arrive at the values? \n",
    "\n",
    "we can look at the feature importances of our explanatory variables.\n",
    "\n",
    "### 8.1 Variable Importances\n",
    "\n",
    "- In order to quantify the usefulness of all the variables in the entire random forest, we can look at the relative importances of the variables. \n",
    "\n",
    "- The importances returned in Skicit-learn represent how much including a particular variable improves the prediction."
   ]
  },
  {
   "cell_type": "code",
   "execution_count": 56,
   "id": "b966b1e5-28b0-47a0-a33a-e94205082c01",
   "metadata": {},
   "outputs": [
    {
     "data": {
      "text/plain": [
       "array([0.        , 0.01343169, 0.02394276, 0.02236993, 0.68634139,\n",
       "       0.20877645, 0.02508461, 0.00405095, 0.00311953, 0.00379283,\n",
       "       0.00256836, 0.00178616, 0.00246764, 0.00226769])"
      ]
     },
     "execution_count": 56,
     "metadata": {},
     "output_type": "execute_result"
    }
   ],
   "source": [
    "# simplest way\n",
    "rf.feature_importances_"
   ]
  },
  {
   "cell_type": "code",
   "execution_count": 58,
   "id": "4dbeaad9-5b04-4283-82e7-c47635eb6677",
   "metadata": {},
   "outputs": [],
   "source": [
    "# Get numerical features importance - represents in a better way\n",
    "importances = list(rf.feature_importances_)"
   ]
  },
  {
   "cell_type": "code",
   "execution_count": 60,
   "id": "bed9cfc4-c51b-42fd-ab88-5354741191a9",
   "metadata": {},
   "outputs": [],
   "source": [
    "# list of tuples with variable and importance\n",
    "feature_importances = [(feature, round(importances, 2)) for feature, importances in zip(feature_list, importances)]"
   ]
  },
  {
   "cell_type": "code",
   "execution_count": 61,
   "id": "aa4a0982-6c70-4d51-9e35-4e857f2685d9",
   "metadata": {},
   "outputs": [],
   "source": [
    "# sort the feature importance by most important first\n",
    "feature_importances = sorted(feature_importances, key = lambda x: x[1], reverse = True)"
   ]
  },
  {
   "cell_type": "code",
   "execution_count": 66,
   "id": "579651c2-1028-4a91-83c4-404600464830",
   "metadata": {},
   "outputs": [
    {
     "name": "stdout",
     "output_type": "stream",
     "text": [
      "<generator object <genexpr> at 0x7f3e035c49e0>\n"
     ]
    },
    {
     "data": {
      "text/plain": [
       "[None]"
      ]
     },
     "execution_count": 66,
     "metadata": {},
     "output_type": "execute_result"
    }
   ],
   "source": [
    "# print out the feature and importance\n",
    "[print('Variable : {:15} Importance : {}'. format(*pair) for pair in feature_importances)]"
   ]
  },
  {
   "cell_type": "markdown",
   "id": "61bbd624-c4df-4c86-8cbb-998c07b5cb24",
   "metadata": {},
   "source": [
    "- First, At the top of the list is temp_1, the max temperature of the day before. This tells us the best predictor of the max temperature for a day is the max temperature of the day before, a rather intuitive finding. \n",
    "\n",
    "- The second most important factor is the historical average max temperature, also not that surprising. \n",
    "\n",
    "- Your friend turns out to not be very helpful, along with the day of the week, the year, the month, and the temperature 2 days prior. \n",
    "\n",
    "- These importances all make sense as we would not expect the day of the week to be a predictor of maximum temperature as it has nothing to do with weather. \n",
    "\n",
    "- Moreover, the year is the same for all data points and hence provides us with no information for predicting the max temperature.\n",
    "\n",
    "### 8.2 Model with Two Most Important Features\n",
    "\n",
    "we can remove those variables that have no importance and the performance will not suffer. Additionally, if we are using a different model, say a support vector machine, we could use the random forest feature importances as a kind of feature selection method."
   ]
  },
  {
   "cell_type": "code",
   "execution_count": 70,
   "id": "7fad1e17-227f-48c4-9402-c1f59ec206d0",
   "metadata": {},
   "outputs": [
    {
     "data": {
      "text/plain": [
       "RandomForestRegressor(n_estimators=1000, random_state=100)"
      ]
     },
     "execution_count": 70,
     "metadata": {},
     "output_type": "execute_result"
    }
   ],
   "source": [
    "# New random forest with only the two most important variables\n",
    "rf_most_important = RandomForestRegressor(n_estimators = 1000, random_state = 100)\n",
    "\n",
    "# Extract the two most important features\n",
    "important_indices = [feature_list.index('temp_1'), feature_list.index('average')]\n",
    "train_important = train_features[:, important_indices]\n",
    "test_important = test_features[:, important_indices]\n",
    "\n",
    "# train the random forest\n",
    "rf_most_important.fit(train_important, train_labels)"
   ]
  },
  {
   "cell_type": "code",
   "execution_count": 71,
   "id": "6029aaf2-d926-4dea-adad-bcec6a655e93",
   "metadata": {},
   "outputs": [
    {
     "name": "stdout",
     "output_type": "stream",
     "text": [
      "Mean Absolute Error :  3.95 degrees.\n",
      "Accuracy :  93.69 %.\n"
     ]
    }
   ],
   "source": [
    "# make predictions and determine the error\n",
    "predictions = rf_most_important.predict(test_important)\n",
    "\n",
    "errors = abs(predictions - test_labels)\n",
    "\n",
    "# display the performance metrics\n",
    "print('Mean Absolute Error : ', round(np.mean(errors), 2), 'degrees.')\n",
    "\n",
    "mape = np.mean(100 * (errors / test_labels))\n",
    "accuracy = 100 - mape\n",
    "print('Accuracy : ', round(accuracy, 2), '%.')"
   ]
  },
  {
   "cell_type": "markdown",
   "id": "4a41b197-5583-4653-bf35-e37bc773c143",
   "metadata": {},
   "source": [
    "This tells us that we actually do not need all the data we collected to make accurate predictions! If we were to continue using this model, we could only collect the two variables and achieve nearly the same performance. In a production setting, we would need to weigh the decrease in accuracy versus the extra time required to obtain more information. "
   ]
  },
  {
   "cell_type": "markdown",
   "id": "cc42fbdc-5c32-4c8e-a1d6-a2846b23b8d0",
   "metadata": {},
   "source": [
    "## 8.3 Visualizations"
   ]
  },
  {
   "cell_type": "markdown",
   "id": "bd0638d5-d0f4-4699-959f-f9a75b406e27",
   "metadata": {},
   "source": [
    "### 8.3.1 Variable Importances"
   ]
  },
  {
   "cell_type": "code",
   "execution_count": 72,
   "id": "fc333811-68d4-4b1f-ad27-31efbc9b3d32",
   "metadata": {},
   "outputs": [
    {
     "data": {
      "text/plain": [
       "Text(0.5, 1.0, 'Variable Importance')"
      ]
     },
     "execution_count": 72,
     "metadata": {},
     "output_type": "execute_result"
    },
    {
     "data": {
      "image/png": "[encoded data removed]",
      "text/plain": [
       "<Figure size 432x288 with 1 Axes>"
      ]
     },
     "metadata": {},
     "output_type": "display_data"
    }
   ],
   "source": [
    "# list of x locations for glatting\n",
    "x_values = list(range(len(importances)))\n",
    "\n",
    "# make a bar chart\n",
    "plt.bar(x_values, importances, orientation = 'vertical')\n",
    "\n",
    "# axis labels and title\n",
    "plt.ylabel('Importance')\n",
    "plt.xlabel('Variable')\n",
    "plt.title('Variable Importance')"
   ]
  },
  {
   "cell_type": "markdown",
   "id": "7115ec73-64a7-4fbe-b156-bcd539266dec",
   "metadata": {},
   "source": [
    "### 8.3.2. Predictions and Actual Values\n",
    "\n",
    "we can plot the entire dataset with predictions highlighted. This requires a little data manipulation, but its not too difficult. We can use this plot to determine if there are any outliers in either the data or our predictions."
   ]
  },
  {
   "cell_type": "code",
   "execution_count": 81,
   "id": "f1a76625-57ff-4b34-8cd5-7377df1f83ac",
   "metadata": {},
   "outputs": [],
   "source": [
    "# dates of training values\n",
    "months = features[:, feature_list.index('month')]\n",
    "days = features[:, feature_list.index('day')]\n",
    "years = features[:, feature_list.index('year')]\n",
    "\n",
    "#list and then convert to datetime object\n",
    "dates = [str(int(year)) + '-' +str(int(month)) + '-' +str(int(day)) for year, month, day in zip(years, months, days)]\n",
    "dates = [datetime.datetime.strptime(date, '%Y-%m-%d') for date in dates]\n",
    "\n",
    "#dataframe with true values and dates\n",
    "true_date = pd.DataFrame(data = {'date' : dates, 'actual' : labels})"
   ]
  },
  {
   "cell_type": "code",
   "execution_count": 82,
   "id": "509784ce-6e60-40f5-86a3-8227eb3222e5",
   "metadata": {},
   "outputs": [],
   "source": [
    "#dates of predictions\n",
    "months = test_features[:, feature_list.index('month')]\n",
    "days = test_features[:, feature_list.index('day')]\n",
    "years = test_features[:, feature_list.index('year')]"
   ]
  },
  {
   "cell_type": "code",
   "execution_count": 83,
   "id": "94ec4936-629c-4272-8b10-92234efc0e3c",
   "metadata": {},
   "outputs": [],
   "source": [
    "# column of dates\n",
    "test_dates = [str(int(year)) + '-' +str(int(month)) + '-' +str(int(day)) for year, month, day in zip(years, months, days)]\n",
    "\n",
    "# convert to datetime objects\n",
    "test_dates = [datetime.datetime.strptime(date, '%Y-%m-%d') for date in test_dates]\n",
    "\n",
    "# dataframe with predictions and dates\n",
    "predictions_date = pd.DataFrame(data = {'date' : test_dates, 'prediction' : predictions})"
   ]
  },
  {
   "cell_type": "code",
   "execution_count": 87,
   "id": "07320249-0a83-40af-b1a8-df3e94228d8e",
   "metadata": {},
   "outputs": [
    {
     "data": {
      "image/png": "[encoded data removed]",
      "text/plain": [
       "<Figure size 432x288 with 1 Axes>"
      ]
     },
     "metadata": {},
     "output_type": "display_data"
    }
   ],
   "source": [
    "# Plot the actual values\n",
    "plt.plot(true_date['date'], true_date['actual'], 'b-', label = 'actual')\n",
    "\n",
    "# Plot the predicted values\n",
    "plt.plot(predictions_date['date'], predictions_date['prediction'], 'ro', label = 'prediction')\n",
    "plt.xticks(rotation = '60'); \n",
    "plt.legend()\n",
    "\n",
    "# Graph labels\n",
    "plt.xlabel('Date'); plt.ylabel('Maximum Temperature (F)'); plt.title('Actual and Predicted Values');\n"
   ]
  },
  {
   "cell_type": "markdown",
   "id": "22bfccb9-0a72-4272-bfa7-81b3e4533c6f",
   "metadata": {},
   "source": [
    "### Targets and Data Visualization\n",
    "\n",
    "The previous graph doesn’t look as if we have any noticeable outliers that need to be corrected. To further diagnose the model, we can plot residuals (the errors) to see if our model has a tendency to over-predict or under-predict, and we can also see if the residuals are normally distributed. However, I will just make one final chart showing the actual values, the temperature one day previous, the historical average, and our friend’s prediction. This will allow us to see the difference between useful variables and those that aren’t so helpful."
   ]
  },
  {
   "cell_type": "code",
   "execution_count": 89,
   "id": "ab4e4f49-8cec-47a1-95d3-75dc20fbbea4",
   "metadata": {},
   "outputs": [
    {
     "data": {
      "image/png": "[encoded data removed]",
      "text/plain": [
       "<Figure size 432x288 with 1 Axes>"
      ]
     },
     "metadata": {},
     "output_type": "display_data"
    }
   ],
   "source": [
    "# Make the data accessible for plotting\n",
    "true_date['temp_1'] = features[:, feature_list.index('temp_1')]\n",
    "true_date['average'] = features[:, feature_list.index('average')]\n",
    "true_date['friend'] = features[:, feature_list.index('friend')]\n",
    "\n",
    "# Plot all the data as lines\n",
    "plt.plot(true_date['date'], true_date['actual'], 'b-', label  = 'actual', alpha = 1.0)\n",
    "plt.plot(true_date['date'], true_date['temp_1'], 'y-', label  = 'temp_1', alpha = 1.0)\n",
    "plt.plot(true_date['date'], true_date['average'], 'k-', label = 'average', alpha = 0.8)\n",
    "plt.plot(true_date['date'], true_date['friend'], 'r-', label = 'friend', alpha = 0.3)\n",
    "\n",
    "# Formatting plot\n",
    "plt.legend(); plt.xticks(rotation = '60');\n",
    "\n",
    "# Lables and title\n",
    "plt.xlabel('Date'); plt.ylabel('Maximum Temperature (F)'); plt.title('Actual Max Temp and Variables');"
   ]
  },
  {
   "cell_type": "markdown",
   "id": "b7d46918-a069-4408-8ba7-a3160280ce3e",
   "metadata": {},
   "source": [
    "we can see why the max temperature one day prior and the historical max temperature are useful for predicting max temperature while our friend is not"
   ]
  },
  {
   "cell_type": "code",
   "execution_count": null,
   "id": "d93b1f9d-13f3-4a08-8193-93dc1284613e",
   "metadata": {},
   "outputs": [],
   "source": []
  }
 ],
 "metadata": {
  "kernelspec": {
   "display_name": "Python 3",
   "language": "python",
   "name": "python3"
  },
  "language_info": {
   "codemirror_mode": {
    "name": "ipython",
    "version": 3
   },
   "file_extension": ".py",
   "mimetype": "text/x-python",
   "name": "python",
   "nbconvert_exporter": "python",
   "pygments_lexer": "ipython3",
   "version": "3.8.2"
  }
 },
 "nbformat": 4,
 "nbformat_minor": 5
}
