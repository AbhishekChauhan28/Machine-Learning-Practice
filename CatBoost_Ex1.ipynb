{
 "cells": [
  {
   "cell_type": "markdown",
   "id": "c0cb0d54-8fe9-4411-b286-707bfce9062a",
   "metadata": {},
   "source": [
    "# CatBoost"
   ]
  },
  {
   "cell_type": "code",
   "execution_count": 44,
   "id": "1d65221e-7d88-47a2-b336-de4a0aff1b29",
   "metadata": {},
   "outputs": [],
   "source": [
    "import numpy as np\n",
    "import pandas as pd\n",
    "import seaborn as sns\n",
    "\n",
    "from catboost import CatBoostClassifier\n",
    "\n",
    "from sklearn.model_selection import train_test_split\n",
    "from sklearn.metrics import f1_score, accuracy_score\n",
    "from sklearn.metrics import (f1_score, roc_auc_score,confusion_matrix, accuracy_score,\n",
    "                             precision_score, recall_score, matthews_corrcoef)\n",
    "from IPython.display import HTML, display\n",
    "import tabulate"
   ]
  },
  {
   "cell_type": "markdown",
   "id": "ded164f5-c2bc-454b-88c5-f1756a86290e",
   "metadata": {},
   "source": [
    "## Read Data File"
   ]
  },
  {
   "cell_type": "code",
   "execution_count": 2,
   "id": "9a9c96b3-9053-41aa-996a-8327c6019369",
   "metadata": {},
   "outputs": [],
   "source": [
    "df = pd.read_csv('/media/abhishek/589E61B39E618A783/C-DAC Document/Practical Machine Learning/PML/Code/Dataset/loan_data.csv')"
   ]
  },
  {
   "cell_type": "code",
   "execution_count": 3,
   "id": "fb2fd583-69a1-4ae3-b5ef-9c47e5ec92db",
   "metadata": {},
   "outputs": [
    {
     "data": {
      "text/html": [
       "<div>\n",
       "<style scoped>\n",
       "    .dataframe tbody tr th:only-of-type {\n",
       "        vertical-align: middle;\n",
       "    }\n",
       "\n",
       "    .dataframe tbody tr th {\n",
       "        vertical-align: top;\n",
       "    }\n",
       "\n",
       "    .dataframe thead th {\n",
       "        text-align: right;\n",
       "    }\n",
       "</style>\n",
       "<table border=\"1\" class=\"dataframe\">\n",
       "  <thead>\n",
       "    <tr style=\"text-align: right;\">\n",
       "      <th></th>\n",
       "      <th>ApplicantIncome</th>\n",
       "      <th>CoapplicantIncome</th>\n",
       "      <th>LoanAmount</th>\n",
       "      <th>Loan_Amount_Term</th>\n",
       "      <th>Credit_History</th>\n",
       "      <th>Loan_Status</th>\n",
       "    </tr>\n",
       "  </thead>\n",
       "  <tbody>\n",
       "    <tr>\n",
       "      <th>0</th>\n",
       "      <td>5849.0</td>\n",
       "      <td>0.0</td>\n",
       "      <td>0.0</td>\n",
       "      <td>360.0</td>\n",
       "      <td>Yes</td>\n",
       "      <td>1</td>\n",
       "    </tr>\n",
       "    <tr>\n",
       "      <th>1</th>\n",
       "      <td>4583.0</td>\n",
       "      <td>1508.0</td>\n",
       "      <td>128.0</td>\n",
       "      <td>360.0</td>\n",
       "      <td>Yes</td>\n",
       "      <td>0</td>\n",
       "    </tr>\n",
       "    <tr>\n",
       "      <th>2</th>\n",
       "      <td>3000.0</td>\n",
       "      <td>0.0</td>\n",
       "      <td>66.0</td>\n",
       "      <td>360.0</td>\n",
       "      <td>Yes</td>\n",
       "      <td>1</td>\n",
       "    </tr>\n",
       "    <tr>\n",
       "      <th>3</th>\n",
       "      <td>2583.0</td>\n",
       "      <td>2358.0</td>\n",
       "      <td>120.0</td>\n",
       "      <td>360.0</td>\n",
       "      <td>Yes</td>\n",
       "      <td>1</td>\n",
       "    </tr>\n",
       "    <tr>\n",
       "      <th>4</th>\n",
       "      <td>6000.0</td>\n",
       "      <td>0.0</td>\n",
       "      <td>141.0</td>\n",
       "      <td>360.0</td>\n",
       "      <td>Yes</td>\n",
       "      <td>1</td>\n",
       "    </tr>\n",
       "    <tr>\n",
       "      <th>5</th>\n",
       "      <td>5417.0</td>\n",
       "      <td>4196.0</td>\n",
       "      <td>267.0</td>\n",
       "      <td>360.0</td>\n",
       "      <td>Yes</td>\n",
       "      <td>1</td>\n",
       "    </tr>\n",
       "    <tr>\n",
       "      <th>6</th>\n",
       "      <td>2333.0</td>\n",
       "      <td>1516.0</td>\n",
       "      <td>95.0</td>\n",
       "      <td>360.0</td>\n",
       "      <td>Yes</td>\n",
       "      <td>1</td>\n",
       "    </tr>\n",
       "    <tr>\n",
       "      <th>7</th>\n",
       "      <td>3036.0</td>\n",
       "      <td>2504.0</td>\n",
       "      <td>158.0</td>\n",
       "      <td>360.0</td>\n",
       "      <td>No</td>\n",
       "      <td>0</td>\n",
       "    </tr>\n",
       "    <tr>\n",
       "      <th>8</th>\n",
       "      <td>4006.0</td>\n",
       "      <td>1526.0</td>\n",
       "      <td>168.0</td>\n",
       "      <td>360.0</td>\n",
       "      <td>Yes</td>\n",
       "      <td>1</td>\n",
       "    </tr>\n",
       "    <tr>\n",
       "      <th>9</th>\n",
       "      <td>12841.0</td>\n",
       "      <td>10968.0</td>\n",
       "      <td>349.0</td>\n",
       "      <td>360.0</td>\n",
       "      <td>Yes</td>\n",
       "      <td>0</td>\n",
       "    </tr>\n",
       "  </tbody>\n",
       "</table>\n",
       "</div>"
      ],
      "text/plain": [
       "   ApplicantIncome  CoapplicantIncome  LoanAmount  Loan_Amount_Term  \\\n",
       "0           5849.0                0.0         0.0             360.0   \n",
       "1           4583.0             1508.0       128.0             360.0   \n",
       "2           3000.0                0.0        66.0             360.0   \n",
       "3           2583.0             2358.0       120.0             360.0   \n",
       "4           6000.0                0.0       141.0             360.0   \n",
       "5           5417.0             4196.0       267.0             360.0   \n",
       "6           2333.0             1516.0        95.0             360.0   \n",
       "7           3036.0             2504.0       158.0             360.0   \n",
       "8           4006.0             1526.0       168.0             360.0   \n",
       "9          12841.0            10968.0       349.0             360.0   \n",
       "\n",
       "  Credit_History  Loan_Status  \n",
       "0            Yes            1  \n",
       "1            Yes            0  \n",
       "2            Yes            1  \n",
       "3            Yes            1  \n",
       "4            Yes            1  \n",
       "5            Yes            1  \n",
       "6            Yes            1  \n",
       "7             No            0  \n",
       "8            Yes            1  \n",
       "9            Yes            0  "
      ]
     },
     "execution_count": 3,
     "metadata": {},
     "output_type": "execute_result"
    }
   ],
   "source": [
    "df.head(10)"
   ]
  },
  {
   "cell_type": "markdown",
   "id": "221b3f44-c431-4c08-adb5-b6b0244afd97",
   "metadata": {},
   "source": [
    "## EDA"
   ]
  },
  {
   "cell_type": "code",
   "execution_count": 4,
   "id": "e505c612-4878-494b-af40-c7e8c7018e45",
   "metadata": {},
   "outputs": [
    {
     "name": "stdout",
     "output_type": "stream",
     "text": [
      "Total number of rows in datasets = 614 \n",
      "Total number of columns in datasets = 6 \n"
     ]
    }
   ],
   "source": [
    "print(\"Total number of rows in datasets = {} \".format(df.shape[0]))\n",
    "print(\"Total number of columns in datasets = {} \".format(df.shape[1]))"
   ]
  },
  {
   "cell_type": "code",
   "execution_count": 5,
   "id": "db7ff5cd-3377-49b1-829c-f0841a413bc0",
   "metadata": {},
   "outputs": [
    {
     "data": {
      "text/plain": [
       "ApplicantIncome      2\n",
       "CoapplicantIncome    2\n",
       "LoanAmount           3\n",
       "Loan_Amount_Term     2\n",
       "Credit_History       0\n",
       "Loan_Status          0\n",
       "dtype: int64"
      ]
     },
     "execution_count": 5,
     "metadata": {},
     "output_type": "execute_result"
    }
   ],
   "source": [
    "df.isnull().sum()"
   ]
  },
  {
   "cell_type": "code",
   "execution_count": 6,
   "id": "6be92141-700e-41c6-b4ff-64edddd001e6",
   "metadata": {},
   "outputs": [
    {
     "data": {
      "text/plain": [
       "ApplicantIncome      503\n",
       "CoapplicantIncome    287\n",
       "LoanAmount           203\n",
       "Loan_Amount_Term      11\n",
       "Credit_History         2\n",
       "Loan_Status            2\n",
       "dtype: int64"
      ]
     },
     "execution_count": 6,
     "metadata": {},
     "output_type": "execute_result"
    }
   ],
   "source": [
    " df.nunique()"
   ]
  },
  {
   "cell_type": "code",
   "execution_count": 7,
   "id": "75b1807a-455c-41c8-85be-ecee58754fc6",
   "metadata": {},
   "outputs": [
    {
     "data": {
      "text/plain": [
       "360.0    511\n",
       "180.0     43\n",
       "480.0     15\n",
       "0.0       14\n",
       "300.0     13\n",
       "240.0      4\n",
       "84.0       4\n",
       "120.0      3\n",
       "60.0       2\n",
       "NaN        2\n",
       "36.0       2\n",
       "12.0       1\n",
       "Name: Loan_Amount_Term, dtype: int64"
      ]
     },
     "execution_count": 7,
     "metadata": {},
     "output_type": "execute_result"
    }
   ],
   "source": [
    " df.Loan_Amount_Term.value_counts(dropna = False)"
   ]
  },
  {
   "cell_type": "code",
   "execution_count": 8,
   "id": "5c4536aa-858c-4b99-b759-5ca36f414092",
   "metadata": {},
   "outputs": [
    {
     "data": {
      "text/plain": [
       "1    422\n",
       "0    192\n",
       "Name: Loan_Status, dtype: int64"
      ]
     },
     "execution_count": 8,
     "metadata": {},
     "output_type": "execute_result"
    }
   ],
   "source": [
    "df.Loan_Status.value_counts()"
   ]
  },
  {
   "cell_type": "code",
   "execution_count": 9,
   "id": "71571890-9659-4464-860d-36112f3daeb0",
   "metadata": {},
   "outputs": [
    {
     "data": {
      "text/plain": [
       "Yes    475\n",
       "No     139\n",
       "Name: Credit_History, dtype: int64"
      ]
     },
     "execution_count": 9,
     "metadata": {},
     "output_type": "execute_result"
    }
   ],
   "source": [
    "df.Credit_History.value_counts()"
   ]
  },
  {
   "cell_type": "markdown",
   "id": "1ce2bf14-c61e-4cfb-a483-7451edf32e7e",
   "metadata": {},
   "source": [
    "## Feature Engineering/Selection"
   ]
  },
  {
   "cell_type": "markdown",
   "id": "a2b12189-0893-4a3d-a527-a7efc100ec58",
   "metadata": {},
   "source": [
    "### Drop 2 rows with missing values of Loan_Amount_Term"
   ]
  },
  {
   "cell_type": "code",
   "execution_count": 10,
   "id": "40ddb42c-2113-4c1e-9114-411a7d6dd834",
   "metadata": {},
   "outputs": [],
   "source": [
    "df.dropna(subset = ['Loan_Amount_Term'], inplace = True)"
   ]
  },
  {
   "cell_type": "code",
   "execution_count": 11,
   "id": "628e73ea-2a1e-4999-9559-0a6bb4744354",
   "metadata": {},
   "outputs": [],
   "source": [
    "df.Loan_Amount_Term = df.Loan_Amount_Term.astype(int)"
   ]
  },
  {
   "cell_type": "code",
   "execution_count": 12,
   "id": "e1c81930-7048-456a-b2d3-1cc9ec9efc4f",
   "metadata": {},
   "outputs": [
    {
     "data": {
      "text/plain": [
       "ApplicantIncome      float64\n",
       "CoapplicantIncome    float64\n",
       "LoanAmount           float64\n",
       "Loan_Amount_Term       int64\n",
       "Credit_History        object\n",
       "Loan_Status            int64\n",
       "dtype: object"
      ]
     },
     "execution_count": 12,
     "metadata": {},
     "output_type": "execute_result"
    }
   ],
   "source": [
    "df.dtypes"
   ]
  },
  {
   "cell_type": "code",
   "execution_count": 13,
   "id": "c5651620-be52-422e-89ad-c9dea8bff542",
   "metadata": {},
   "outputs": [],
   "source": [
    "target_col = \"Loan_Status\"\n",
    "x = df.loc[:, df.columns != target_col]\n",
    "y = df.loc[:, target_col]"
   ]
  },
  {
   "cell_type": "code",
   "execution_count": 14,
   "id": "e10ae148-bd26-4306-a043-24962e017974",
   "metadata": {},
   "outputs": [],
   "source": [
    "x_train, x_test, y_train, y_test = train_test_split(x, y, train_size = 0.8, random_state = 42)"
   ]
  },
  {
   "cell_type": "code",
   "execution_count": 15,
   "id": "4ee78b59-ba7e-4680-9043-47e34e2d52a5",
   "metadata": {},
   "outputs": [
    {
     "data": {
      "text/html": [
       "<div>\n",
       "<style scoped>\n",
       "    .dataframe tbody tr th:only-of-type {\n",
       "        vertical-align: middle;\n",
       "    }\n",
       "\n",
       "    .dataframe tbody tr th {\n",
       "        vertical-align: top;\n",
       "    }\n",
       "\n",
       "    .dataframe thead th {\n",
       "        text-align: right;\n",
       "    }\n",
       "</style>\n",
       "<table border=\"1\" class=\"dataframe\">\n",
       "  <thead>\n",
       "    <tr style=\"text-align: right;\">\n",
       "      <th></th>\n",
       "      <th>ApplicantIncome</th>\n",
       "      <th>CoapplicantIncome</th>\n",
       "      <th>LoanAmount</th>\n",
       "      <th>Loan_Amount_Term</th>\n",
       "      <th>Credit_History</th>\n",
       "    </tr>\n",
       "  </thead>\n",
       "  <tbody>\n",
       "    <tr>\n",
       "      <th>81</th>\n",
       "      <td>2395.0</td>\n",
       "      <td>0.0</td>\n",
       "      <td>0.0</td>\n",
       "      <td>360</td>\n",
       "      <td>Yes</td>\n",
       "    </tr>\n",
       "    <tr>\n",
       "      <th>218</th>\n",
       "      <td>5000.0</td>\n",
       "      <td>0.0</td>\n",
       "      <td>72.0</td>\n",
       "      <td>360</td>\n",
       "      <td>No</td>\n",
       "    </tr>\n",
       "    <tr>\n",
       "      <th>55</th>\n",
       "      <td>2708.0</td>\n",
       "      <td>1167.0</td>\n",
       "      <td>97.0</td>\n",
       "      <td>360</td>\n",
       "      <td>Yes</td>\n",
       "    </tr>\n",
       "    <tr>\n",
       "      <th>602</th>\n",
       "      <td>5703.0</td>\n",
       "      <td>0.0</td>\n",
       "      <td>128.0</td>\n",
       "      <td>360</td>\n",
       "      <td>Yes</td>\n",
       "    </tr>\n",
       "    <tr>\n",
       "      <th>265</th>\n",
       "      <td>4095.0</td>\n",
       "      <td>3447.0</td>\n",
       "      <td>151.0</td>\n",
       "      <td>360</td>\n",
       "      <td>Yes</td>\n",
       "    </tr>\n",
       "  </tbody>\n",
       "</table>\n",
       "</div>"
      ],
      "text/plain": [
       "     ApplicantIncome  CoapplicantIncome  LoanAmount  Loan_Amount_Term  \\\n",
       "81            2395.0                0.0         0.0               360   \n",
       "218           5000.0                0.0        72.0               360   \n",
       "55            2708.0             1167.0        97.0               360   \n",
       "602           5703.0                0.0       128.0               360   \n",
       "265           4095.0             3447.0       151.0               360   \n",
       "\n",
       "    Credit_History  \n",
       "81             Yes  \n",
       "218             No  \n",
       "55             Yes  \n",
       "602            Yes  \n",
       "265            Yes  "
      ]
     },
     "execution_count": 15,
     "metadata": {},
     "output_type": "execute_result"
    }
   ],
   "source": [
    "x_test.head()"
   ]
  },
  {
   "cell_type": "code",
   "execution_count": 16,
   "id": "c231db15-608d-44f9-a5c8-418b8d4a65ed",
   "metadata": {},
   "outputs": [
    {
     "data": {
      "text/html": [
       "<div>\n",
       "<style scoped>\n",
       "    .dataframe tbody tr th:only-of-type {\n",
       "        vertical-align: middle;\n",
       "    }\n",
       "\n",
       "    .dataframe tbody tr th {\n",
       "        vertical-align: top;\n",
       "    }\n",
       "\n",
       "    .dataframe thead th {\n",
       "        text-align: right;\n",
       "    }\n",
       "</style>\n",
       "<table border=\"1\" class=\"dataframe\">\n",
       "  <thead>\n",
       "    <tr style=\"text-align: right;\">\n",
       "      <th></th>\n",
       "      <th>ApplicantIncome</th>\n",
       "      <th>CoapplicantIncome</th>\n",
       "      <th>LoanAmount</th>\n",
       "      <th>Loan_Amount_Term</th>\n",
       "      <th>Credit_History</th>\n",
       "    </tr>\n",
       "  </thead>\n",
       "  <tbody>\n",
       "    <tr>\n",
       "      <th>563</th>\n",
       "      <td>5800.0</td>\n",
       "      <td>0.0</td>\n",
       "      <td>132.0</td>\n",
       "      <td>360</td>\n",
       "      <td>Yes</td>\n",
       "    </tr>\n",
       "    <tr>\n",
       "      <th>289</th>\n",
       "      <td>9508.0</td>\n",
       "      <td>0.0</td>\n",
       "      <td>187.0</td>\n",
       "      <td>360</td>\n",
       "      <td>Yes</td>\n",
       "    </tr>\n",
       "    <tr>\n",
       "      <th>324</th>\n",
       "      <td>15000.0</td>\n",
       "      <td>0.0</td>\n",
       "      <td>300.0</td>\n",
       "      <td>360</td>\n",
       "      <td>Yes</td>\n",
       "    </tr>\n",
       "    <tr>\n",
       "      <th>132</th>\n",
       "      <td>2718.0</td>\n",
       "      <td>0.0</td>\n",
       "      <td>70.0</td>\n",
       "      <td>360</td>\n",
       "      <td>Yes</td>\n",
       "    </tr>\n",
       "    <tr>\n",
       "      <th>174</th>\n",
       "      <td>4344.0</td>\n",
       "      <td>736.0</td>\n",
       "      <td>87.0</td>\n",
       "      <td>360</td>\n",
       "      <td>Yes</td>\n",
       "    </tr>\n",
       "  </tbody>\n",
       "</table>\n",
       "</div>"
      ],
      "text/plain": [
       "     ApplicantIncome  CoapplicantIncome  LoanAmount  Loan_Amount_Term  \\\n",
       "563           5800.0                0.0       132.0               360   \n",
       "289           9508.0                0.0       187.0               360   \n",
       "324          15000.0                0.0       300.0               360   \n",
       "132           2718.0                0.0        70.0               360   \n",
       "174           4344.0              736.0        87.0               360   \n",
       "\n",
       "    Credit_History  \n",
       "563            Yes  \n",
       "289            Yes  \n",
       "324            Yes  \n",
       "132            Yes  \n",
       "174            Yes  "
      ]
     },
     "execution_count": 16,
     "metadata": {},
     "output_type": "execute_result"
    }
   ],
   "source": [
    "x_train.head()"
   ]
  },
  {
   "cell_type": "markdown",
   "id": "30ce5338-deb5-45a3-b835-7f8a7b8a6c31",
   "metadata": {},
   "source": [
    "## Train Catboost Model"
   ]
  },
  {
   "cell_type": "code",
   "execution_count": 40,
   "id": "71faa594-b849-4032-b38f-dece56e347cc",
   "metadata": {},
   "outputs": [],
   "source": [
    "model = CatBoostClassifier(task_type = 'CPU', iterations = 150, random_state = 2021, eval_metric = \"Accuracy\")"
   ]
  },
  {
   "cell_type": "code",
   "execution_count": 41,
   "id": "fdd4745b-3bd6-4c18-9d62-22cdad21e2aa",
   "metadata": {},
   "outputs": [],
   "source": [
    "cat_features = [\"Loan_Amount_Term\", \"Credit_History\"]"
   ]
  },
  {
   "cell_type": "code",
   "execution_count": 42,
   "id": "ab86ab03-500b-49ff-9d80-0dc6b81e9f66",
   "metadata": {},
   "outputs": [
    {
     "name": "stderr",
     "output_type": "stream",
     "text": [
      "Custom logger is already specified. Specify more than one logger at same time is not thread safe."
     ]
    },
    {
     "data": {
      "application/vnd.jupyter.widget-view+json": {
       "model_id": "c55990852c1a4ab1a19b0cc6bf6fa7c1",
       "version_major": 2,
       "version_minor": 0
      },
      "text/plain": [
       "MetricVisualizer(layout=Layout(align_self='stretch', height='500px'))"
      ]
     },
     "metadata": {},
     "output_type": "display_data"
    },
    {
     "name": "stdout",
     "output_type": "stream",
     "text": [
      "Learning rate set to 0.060613\n",
      "0:\tlearn: 0.7689162\ttest: 0.7723577\tbest: 0.7723577 (0)\ttotal: 619us\tremaining: 92.3ms\n",
      "1:\tlearn: 0.7689162\ttest: 0.7723577\tbest: 0.7723577 (0)\ttotal: 1.31ms\tremaining: 96.8ms\n",
      "2:\tlearn: 0.7689162\ttest: 0.7723577\tbest: 0.7723577 (0)\ttotal: 2.03ms\tremaining: 99.7ms\n",
      "3:\tlearn: 0.7689162\ttest: 0.7723577\tbest: 0.7723577 (0)\ttotal: 2.65ms\tremaining: 96.5ms\n",
      "4:\tlearn: 0.7689162\ttest: 0.7723577\tbest: 0.7723577 (0)\ttotal: 3.2ms\tremaining: 92.7ms\n",
      "5:\tlearn: 0.7689162\ttest: 0.7723577\tbest: 0.7723577 (0)\ttotal: 3.74ms\tremaining: 89.7ms\n",
      "6:\tlearn: 0.7689162\ttest: 0.7723577\tbest: 0.7723577 (0)\ttotal: 4.28ms\tremaining: 87.3ms\n",
      "7:\tlearn: 0.7689162\ttest: 0.7723577\tbest: 0.7723577 (0)\ttotal: 4.83ms\tremaining: 85.7ms\n",
      "8:\tlearn: 0.7689162\ttest: 0.7723577\tbest: 0.7723577 (0)\ttotal: 5.26ms\tremaining: 82.4ms\n",
      "9:\tlearn: 0.7689162\ttest: 0.7723577\tbest: 0.7723577 (0)\ttotal: 5.8ms\tremaining: 81.2ms\n",
      "10:\tlearn: 0.7689162\ttest: 0.7723577\tbest: 0.7723577 (0)\ttotal: 6.05ms\tremaining: 76.4ms\n",
      "11:\tlearn: 0.7689162\ttest: 0.7723577\tbest: 0.7723577 (0)\ttotal: 6.6ms\tremaining: 75.9ms\n",
      "12:\tlearn: 0.7689162\ttest: 0.7723577\tbest: 0.7723577 (0)\ttotal: 7.02ms\tremaining: 73.9ms\n",
      "13:\tlearn: 0.7689162\ttest: 0.7723577\tbest: 0.7723577 (0)\ttotal: 7.22ms\tremaining: 70.2ms\n",
      "14:\tlearn: 0.7689162\ttest: 0.7723577\tbest: 0.7723577 (0)\ttotal: 7.8ms\tremaining: 70.2ms\n",
      "15:\tlearn: 0.7689162\ttest: 0.7723577\tbest: 0.7723577 (0)\ttotal: 8.38ms\tremaining: 70.2ms\n",
      "16:\tlearn: 0.7689162\ttest: 0.7723577\tbest: 0.7723577 (0)\ttotal: 8.95ms\tremaining: 70ms\n",
      "17:\tlearn: 0.7689162\ttest: 0.7723577\tbest: 0.7723577 (0)\ttotal: 9.52ms\tremaining: 69.8ms\n",
      "18:\tlearn: 0.7689162\ttest: 0.7723577\tbest: 0.7723577 (0)\ttotal: 10.2ms\tremaining: 70.1ms\n",
      "19:\tlearn: 0.7689162\ttest: 0.7723577\tbest: 0.7723577 (0)\ttotal: 10.8ms\tremaining: 69.9ms\n",
      "20:\tlearn: 0.7689162\ttest: 0.7723577\tbest: 0.7723577 (0)\ttotal: 11.4ms\tremaining: 70.2ms\n",
      "21:\tlearn: 0.7689162\ttest: 0.7723577\tbest: 0.7723577 (0)\ttotal: 12.3ms\tremaining: 71.6ms\n",
      "22:\tlearn: 0.7689162\ttest: 0.7723577\tbest: 0.7723577 (0)\ttotal: 12.8ms\tremaining: 70.7ms\n",
      "23:\tlearn: 0.7689162\ttest: 0.7723577\tbest: 0.7723577 (0)\ttotal: 13.5ms\tremaining: 70.9ms\n",
      "24:\tlearn: 0.7689162\ttest: 0.7723577\tbest: 0.7723577 (0)\ttotal: 13.7ms\tremaining: 68.6ms\n",
      "25:\tlearn: 0.7689162\ttest: 0.7723577\tbest: 0.7723577 (0)\ttotal: 14ms\tremaining: 66.6ms\n",
      "26:\tlearn: 0.7689162\ttest: 0.7723577\tbest: 0.7723577 (0)\ttotal: 14.6ms\tremaining: 66.7ms\n",
      "27:\tlearn: 0.7689162\ttest: 0.7723577\tbest: 0.7723577 (0)\ttotal: 15.3ms\tremaining: 66.8ms\n",
      "28:\tlearn: 0.7689162\ttest: 0.7723577\tbest: 0.7723577 (0)\ttotal: 16ms\tremaining: 66.6ms\n",
      "29:\tlearn: 0.7689162\ttest: 0.7723577\tbest: 0.7723577 (0)\ttotal: 16.7ms\tremaining: 66.7ms\n",
      "30:\tlearn: 0.7689162\ttest: 0.7723577\tbest: 0.7723577 (0)\ttotal: 17.5ms\tremaining: 67.2ms\n",
      "31:\tlearn: 0.7689162\ttest: 0.7723577\tbest: 0.7723577 (0)\ttotal: 17.9ms\tremaining: 66.2ms\n",
      "32:\tlearn: 0.7689162\ttest: 0.7723577\tbest: 0.7723577 (0)\ttotal: 18.6ms\tremaining: 65.8ms\n",
      "33:\tlearn: 0.7689162\ttest: 0.7723577\tbest: 0.7723577 (0)\ttotal: 19.2ms\tremaining: 65.4ms\n",
      "34:\tlearn: 0.7689162\ttest: 0.7723577\tbest: 0.7723577 (0)\ttotal: 19.7ms\tremaining: 64.9ms\n",
      "35:\tlearn: 0.7689162\ttest: 0.7723577\tbest: 0.7723577 (0)\ttotal: 20ms\tremaining: 63.3ms\n",
      "36:\tlearn: 0.7689162\ttest: 0.7723577\tbest: 0.7723577 (0)\ttotal: 20.6ms\tremaining: 62.9ms\n",
      "37:\tlearn: 0.7689162\ttest: 0.7723577\tbest: 0.7723577 (0)\ttotal: 21.4ms\tremaining: 62.9ms\n",
      "38:\tlearn: 0.7689162\ttest: 0.7723577\tbest: 0.7723577 (0)\ttotal: 21.5ms\tremaining: 61.1ms\n",
      "39:\tlearn: 0.7689162\ttest: 0.7723577\tbest: 0.7723577 (0)\ttotal: 21.9ms\tremaining: 60.3ms\n",
      "40:\tlearn: 0.7689162\ttest: 0.7723577\tbest: 0.7723577 (0)\ttotal: 22.5ms\tremaining: 59.8ms\n",
      "41:\tlearn: 0.7689162\ttest: 0.7723577\tbest: 0.7723577 (0)\ttotal: 23.1ms\tremaining: 59.5ms\n",
      "42:\tlearn: 0.7689162\ttest: 0.7723577\tbest: 0.7723577 (0)\ttotal: 23.7ms\tremaining: 59ms\n",
      "43:\tlearn: 0.7689162\ttest: 0.7723577\tbest: 0.7723577 (0)\ttotal: 24.3ms\tremaining: 58.4ms\n",
      "44:\tlearn: 0.7689162\ttest: 0.7723577\tbest: 0.7723577 (0)\ttotal: 24.8ms\tremaining: 58ms\n",
      "45:\tlearn: 0.7689162\ttest: 0.7723577\tbest: 0.7723577 (0)\ttotal: 25.4ms\tremaining: 57.4ms\n",
      "46:\tlearn: 0.7689162\ttest: 0.7723577\tbest: 0.7723577 (0)\ttotal: 26ms\tremaining: 56.9ms\n",
      "47:\tlearn: 0.7689162\ttest: 0.7723577\tbest: 0.7723577 (0)\ttotal: 26.2ms\tremaining: 55.7ms\n",
      "48:\tlearn: 0.7689162\ttest: 0.7723577\tbest: 0.7723577 (0)\ttotal: 26.8ms\tremaining: 55.2ms\n",
      "49:\tlearn: 0.7689162\ttest: 0.7723577\tbest: 0.7723577 (0)\ttotal: 27.3ms\tremaining: 54.6ms\n",
      "50:\tlearn: 0.7689162\ttest: 0.7723577\tbest: 0.7723577 (0)\ttotal: 27.9ms\tremaining: 54.2ms\n",
      "51:\tlearn: 0.7689162\ttest: 0.7723577\tbest: 0.7723577 (0)\ttotal: 28.1ms\tremaining: 53ms\n",
      "52:\tlearn: 0.7689162\ttest: 0.7723577\tbest: 0.7723577 (0)\ttotal: 28.7ms\tremaining: 52.5ms\n",
      "53:\tlearn: 0.7689162\ttest: 0.7723577\tbest: 0.7723577 (0)\ttotal: 29.2ms\tremaining: 51.9ms\n",
      "54:\tlearn: 0.7689162\ttest: 0.7723577\tbest: 0.7723577 (0)\ttotal: 29.7ms\tremaining: 51.4ms\n",
      "55:\tlearn: 0.7689162\ttest: 0.7723577\tbest: 0.7723577 (0)\ttotal: 30.3ms\tremaining: 50.8ms\n",
      "56:\tlearn: 0.7689162\ttest: 0.7723577\tbest: 0.7723577 (0)\ttotal: 30.9ms\tremaining: 50.4ms\n",
      "57:\tlearn: 0.7689162\ttest: 0.7723577\tbest: 0.7723577 (0)\ttotal: 32.2ms\tremaining: 51ms\n",
      "58:\tlearn: 0.7689162\ttest: 0.7723577\tbest: 0.7723577 (0)\ttotal: 32.7ms\tremaining: 50.5ms\n",
      "59:\tlearn: 0.7689162\ttest: 0.7723577\tbest: 0.7723577 (0)\ttotal: 33.4ms\tremaining: 50ms\n",
      "60:\tlearn: 0.7689162\ttest: 0.7723577\tbest: 0.7723577 (0)\ttotal: 33.6ms\tremaining: 49ms\n",
      "61:\tlearn: 0.7689162\ttest: 0.7723577\tbest: 0.7723577 (0)\ttotal: 34.3ms\tremaining: 48.7ms\n",
      "62:\tlearn: 0.7689162\ttest: 0.7723577\tbest: 0.7723577 (0)\ttotal: 34.9ms\tremaining: 48.3ms\n",
      "63:\tlearn: 0.7689162\ttest: 0.7723577\tbest: 0.7723577 (0)\ttotal: 35.6ms\tremaining: 47.8ms\n",
      "64:\tlearn: 0.7689162\ttest: 0.7723577\tbest: 0.7723577 (0)\ttotal: 36.2ms\tremaining: 47.3ms\n",
      "65:\tlearn: 0.7689162\ttest: 0.7723577\tbest: 0.7723577 (0)\ttotal: 36.8ms\tremaining: 46.8ms\n",
      "66:\tlearn: 0.7689162\ttest: 0.7723577\tbest: 0.7723577 (0)\ttotal: 37.4ms\tremaining: 46.3ms\n",
      "67:\tlearn: 0.7689162\ttest: 0.7723577\tbest: 0.7723577 (0)\ttotal: 37.9ms\tremaining: 45.7ms\n",
      "68:\tlearn: 0.7689162\ttest: 0.7723577\tbest: 0.7723577 (0)\ttotal: 38.8ms\tremaining: 45.5ms\n",
      "69:\tlearn: 0.7689162\ttest: 0.7723577\tbest: 0.7723577 (0)\ttotal: 40.2ms\tremaining: 45.9ms\n",
      "70:\tlearn: 0.7689162\ttest: 0.7723577\tbest: 0.7723577 (0)\ttotal: 40.7ms\tremaining: 45.3ms\n",
      "71:\tlearn: 0.7689162\ttest: 0.7723577\tbest: 0.7723577 (0)\ttotal: 41.3ms\tremaining: 44.7ms\n",
      "72:\tlearn: 0.7689162\ttest: 0.7723577\tbest: 0.7723577 (0)\ttotal: 41.9ms\tremaining: 44.2ms\n",
      "73:\tlearn: 0.7689162\ttest: 0.7723577\tbest: 0.7723577 (0)\ttotal: 42.5ms\tremaining: 43.6ms\n",
      "74:\tlearn: 0.7689162\ttest: 0.7723577\tbest: 0.7723577 (0)\ttotal: 43ms\tremaining: 43ms\n",
      "75:\tlearn: 0.7689162\ttest: 0.7723577\tbest: 0.7723577 (0)\ttotal: 43.2ms\tremaining: 42.1ms\n",
      "76:\tlearn: 0.7689162\ttest: 0.7723577\tbest: 0.7723577 (0)\ttotal: 43.7ms\tremaining: 41.5ms\n",
      "77:\tlearn: 0.7689162\ttest: 0.7723577\tbest: 0.7723577 (0)\ttotal: 44.2ms\tremaining: 40.8ms\n",
      "78:\tlearn: 0.7689162\ttest: 0.7723577\tbest: 0.7723577 (0)\ttotal: 44.8ms\tremaining: 40.2ms\n",
      "79:\tlearn: 0.7689162\ttest: 0.7723577\tbest: 0.7723577 (0)\ttotal: 45.2ms\tremaining: 39.5ms\n",
      "80:\tlearn: 0.7689162\ttest: 0.7723577\tbest: 0.7723577 (0)\ttotal: 45.7ms\tremaining: 39ms\n",
      "81:\tlearn: 0.7689162\ttest: 0.7723577\tbest: 0.7723577 (0)\ttotal: 46.3ms\tremaining: 38.4ms\n",
      "82:\tlearn: 0.7709611\ttest: 0.7642276\tbest: 0.7723577 (0)\ttotal: 46.9ms\tremaining: 37.8ms\n",
      "83:\tlearn: 0.7709611\ttest: 0.7642276\tbest: 0.7723577 (0)\ttotal: 47.4ms\tremaining: 37.3ms\n",
      "84:\tlearn: 0.7709611\ttest: 0.7642276\tbest: 0.7723577 (0)\ttotal: 48ms\tremaining: 36.7ms\n",
      "85:\tlearn: 0.7709611\ttest: 0.7642276\tbest: 0.7723577 (0)\ttotal: 48.6ms\tremaining: 36.2ms\n",
      "86:\tlearn: 0.7709611\ttest: 0.7642276\tbest: 0.7723577 (0)\ttotal: 49.2ms\tremaining: 35.6ms\n",
      "87:\tlearn: 0.7730061\ttest: 0.7642276\tbest: 0.7723577 (0)\ttotal: 49.8ms\tremaining: 35.1ms\n",
      "88:\tlearn: 0.7730061\ttest: 0.7642276\tbest: 0.7723577 (0)\ttotal: 50.3ms\tremaining: 34.5ms\n",
      "89:\tlearn: 0.7730061\ttest: 0.7642276\tbest: 0.7723577 (0)\ttotal: 51ms\tremaining: 34ms\n",
      "90:\tlearn: 0.7730061\ttest: 0.7642276\tbest: 0.7723577 (0)\ttotal: 51.8ms\tremaining: 33.6ms\n",
      "91:\tlearn: 0.7730061\ttest: 0.7642276\tbest: 0.7723577 (0)\ttotal: 52ms\tremaining: 32.8ms\n",
      "92:\tlearn: 0.7730061\ttest: 0.7642276\tbest: 0.7723577 (0)\ttotal: 52.6ms\tremaining: 32.2ms\n",
      "93:\tlearn: 0.7730061\ttest: 0.7642276\tbest: 0.7723577 (0)\ttotal: 52.8ms\tremaining: 31.5ms\n",
      "94:\tlearn: 0.7730061\ttest: 0.7642276\tbest: 0.7723577 (0)\ttotal: 53.4ms\tremaining: 30.9ms\n",
      "95:\tlearn: 0.7730061\ttest: 0.7642276\tbest: 0.7723577 (0)\ttotal: 54.1ms\tremaining: 30.4ms\n",
      "96:\tlearn: 0.7730061\ttest: 0.7642276\tbest: 0.7723577 (0)\ttotal: 54.4ms\tremaining: 29.7ms\n",
      "97:\tlearn: 0.7730061\ttest: 0.7642276\tbest: 0.7723577 (0)\ttotal: 55ms\tremaining: 29.2ms\n",
      "98:\tlearn: 0.7730061\ttest: 0.7642276\tbest: 0.7723577 (0)\ttotal: 55.3ms\tremaining: 28.5ms\n",
      "99:\tlearn: 0.7730061\ttest: 0.7642276\tbest: 0.7723577 (0)\ttotal: 57.3ms\tremaining: 28.7ms\n",
      "100:\tlearn: 0.7730061\ttest: 0.7642276\tbest: 0.7723577 (0)\ttotal: 57.5ms\tremaining: 27.9ms\n",
      "101:\tlearn: 0.7730061\ttest: 0.7642276\tbest: 0.7723577 (0)\ttotal: 58.2ms\tremaining: 27.4ms\n",
      "102:\tlearn: 0.7730061\ttest: 0.7642276\tbest: 0.7723577 (0)\ttotal: 58.8ms\tremaining: 26.8ms\n",
      "103:\tlearn: 0.7730061\ttest: 0.7642276\tbest: 0.7723577 (0)\ttotal: 59.4ms\tremaining: 26.3ms\n",
      "104:\tlearn: 0.7730061\ttest: 0.7642276\tbest: 0.7723577 (0)\ttotal: 59.7ms\tremaining: 25.6ms\n",
      "105:\tlearn: 0.7730061\ttest: 0.7642276\tbest: 0.7723577 (0)\ttotal: 60.4ms\tremaining: 25.1ms\n",
      "106:\tlearn: 0.7730061\ttest: 0.7642276\tbest: 0.7723577 (0)\ttotal: 61ms\tremaining: 24.5ms\n",
      "107:\tlearn: 0.7730061\ttest: 0.7642276\tbest: 0.7723577 (0)\ttotal: 61.6ms\tremaining: 23.9ms\n",
      "108:\tlearn: 0.7730061\ttest: 0.7642276\tbest: 0.7723577 (0)\ttotal: 62.2ms\tremaining: 23.4ms\n",
      "109:\tlearn: 0.7730061\ttest: 0.7642276\tbest: 0.7723577 (0)\ttotal: 62.7ms\tremaining: 22.8ms\n",
      "110:\tlearn: 0.7730061\ttest: 0.7642276\tbest: 0.7723577 (0)\ttotal: 63.1ms\tremaining: 22.2ms\n",
      "111:\tlearn: 0.7730061\ttest: 0.7642276\tbest: 0.7723577 (0)\ttotal: 64ms\tremaining: 21.7ms\n",
      "112:\tlearn: 0.7730061\ttest: 0.7642276\tbest: 0.7723577 (0)\ttotal: 64.6ms\tremaining: 21.1ms\n",
      "113:\tlearn: 0.7730061\ttest: 0.7642276\tbest: 0.7723577 (0)\ttotal: 65.1ms\tremaining: 20.6ms\n",
      "114:\tlearn: 0.7730061\ttest: 0.7642276\tbest: 0.7723577 (0)\ttotal: 65.7ms\tremaining: 20ms\n",
      "115:\tlearn: 0.7730061\ttest: 0.7642276\tbest: 0.7723577 (0)\ttotal: 66ms\tremaining: 19.3ms\n",
      "116:\tlearn: 0.7770961\ttest: 0.7642276\tbest: 0.7723577 (0)\ttotal: 66.5ms\tremaining: 18.8ms\n",
      "117:\tlearn: 0.7770961\ttest: 0.7642276\tbest: 0.7723577 (0)\ttotal: 67.1ms\tremaining: 18.2ms\n",
      "118:\tlearn: 0.7770961\ttest: 0.7642276\tbest: 0.7723577 (0)\ttotal: 67.7ms\tremaining: 17.6ms\n",
      "119:\tlearn: 0.7770961\ttest: 0.7642276\tbest: 0.7723577 (0)\ttotal: 68.3ms\tremaining: 17.1ms\n",
      "120:\tlearn: 0.7770961\ttest: 0.7642276\tbest: 0.7723577 (0)\ttotal: 68.8ms\tremaining: 16.5ms\n",
      "121:\tlearn: 0.7770961\ttest: 0.7642276\tbest: 0.7723577 (0)\ttotal: 69.4ms\tremaining: 15.9ms\n",
      "122:\tlearn: 0.7770961\ttest: 0.7642276\tbest: 0.7723577 (0)\ttotal: 70.1ms\tremaining: 15.4ms\n",
      "123:\tlearn: 0.7770961\ttest: 0.7642276\tbest: 0.7723577 (0)\ttotal: 70.5ms\tremaining: 14.8ms\n",
      "124:\tlearn: 0.7791411\ttest: 0.7642276\tbest: 0.7723577 (0)\ttotal: 71ms\tremaining: 14.2ms\n",
      "125:\tlearn: 0.7791411\ttest: 0.7642276\tbest: 0.7723577 (0)\ttotal: 71.3ms\tremaining: 13.6ms\n",
      "126:\tlearn: 0.7791411\ttest: 0.7642276\tbest: 0.7723577 (0)\ttotal: 71.9ms\tremaining: 13ms\n",
      "127:\tlearn: 0.7791411\ttest: 0.7642276\tbest: 0.7723577 (0)\ttotal: 72.2ms\tremaining: 12.4ms\n",
      "128:\tlearn: 0.7791411\ttest: 0.7642276\tbest: 0.7723577 (0)\ttotal: 72.8ms\tremaining: 11.8ms\n",
      "129:\tlearn: 0.7791411\ttest: 0.7642276\tbest: 0.7723577 (0)\ttotal: 73.3ms\tremaining: 11.3ms\n",
      "130:\tlearn: 0.7791411\ttest: 0.7642276\tbest: 0.7723577 (0)\ttotal: 73.9ms\tremaining: 10.7ms\n",
      "131:\tlearn: 0.7811861\ttest: 0.7642276\tbest: 0.7723577 (0)\ttotal: 74.6ms\tremaining: 10.2ms\n",
      "132:\tlearn: 0.7811861\ttest: 0.7642276\tbest: 0.7723577 (0)\ttotal: 75.2ms\tremaining: 9.61ms\n",
      "133:\tlearn: 0.7811861\ttest: 0.7642276\tbest: 0.7723577 (0)\ttotal: 75.7ms\tremaining: 9.04ms\n",
      "134:\tlearn: 0.7832311\ttest: 0.7642276\tbest: 0.7723577 (0)\ttotal: 76.2ms\tremaining: 8.47ms\n",
      "135:\tlearn: 0.7832311\ttest: 0.7642276\tbest: 0.7723577 (0)\ttotal: 76.8ms\tremaining: 7.91ms\n",
      "136:\tlearn: 0.7832311\ttest: 0.7642276\tbest: 0.7723577 (0)\ttotal: 77.8ms\tremaining: 7.38ms\n",
      "137:\tlearn: 0.7832311\ttest: 0.7642276\tbest: 0.7723577 (0)\ttotal: 78.4ms\tremaining: 6.82ms\n",
      "138:\tlearn: 0.7832311\ttest: 0.7642276\tbest: 0.7723577 (0)\ttotal: 79ms\tremaining: 6.25ms\n",
      "139:\tlearn: 0.7832311\ttest: 0.7642276\tbest: 0.7723577 (0)\ttotal: 79.6ms\tremaining: 5.69ms\n",
      "140:\tlearn: 0.7832311\ttest: 0.7642276\tbest: 0.7723577 (0)\ttotal: 80.2ms\tremaining: 5.12ms\n",
      "141:\tlearn: 0.7852761\ttest: 0.7642276\tbest: 0.7723577 (0)\ttotal: 80.8ms\tremaining: 4.55ms\n",
      "142:\tlearn: 0.7873211\ttest: 0.7642276\tbest: 0.7723577 (0)\ttotal: 81.3ms\tremaining: 3.98ms\n",
      "143:\tlearn: 0.7893661\ttest: 0.7642276\tbest: 0.7723577 (0)\ttotal: 82ms\tremaining: 3.41ms\n",
      "144:\tlearn: 0.7893661\ttest: 0.7642276\tbest: 0.7723577 (0)\ttotal: 82.5ms\tremaining: 2.85ms\n",
      "145:\tlearn: 0.7893661\ttest: 0.7642276\tbest: 0.7723577 (0)\ttotal: 83.1ms\tremaining: 2.28ms\n",
      "146:\tlearn: 0.7893661\ttest: 0.7642276\tbest: 0.7723577 (0)\ttotal: 83.7ms\tremaining: 1.71ms\n",
      "147:\tlearn: 0.7893661\ttest: 0.7642276\tbest: 0.7723577 (0)\ttotal: 84.2ms\tremaining: 1.14ms\n",
      "148:\tlearn: 0.7893661\ttest: 0.7642276\tbest: 0.7723577 (0)\ttotal: 84.8ms\tremaining: 569us\n",
      "149:\tlearn: 0.7893661\ttest: 0.7642276\tbest: 0.7723577 (0)\ttotal: 85.4ms\tremaining: 0us\n",
      "\n",
      "bestTest = 0.7723577236\n",
      "bestIteration = 0\n",
      "\n",
      "Shrink model to first 1 iterations.\n"
     ]
    },
    {
     "data": {
      "text/plain": [
       "<catboost.core.CatBoostClassifier at 0x7fbc6df494c0>"
      ]
     },
     "execution_count": 42,
     "metadata": {},
     "output_type": "execute_result"
    }
   ],
   "source": [
    "model.fit(x_train, y_train, cat_features = cat_features, plot = True, eval_set = (x_test, y_test))"
   ]
  },
  {
   "cell_type": "markdown",
   "id": "f587e695-3bde-49d4-9675-8deb13885f51",
   "metadata": {},
   "source": [
    "## Predict & Evaluate "
   ]
  },
  {
   "cell_type": "code",
   "execution_count": 45,
   "id": "dbbaae97-892d-45f3-8258-13db0ba23c83",
   "metadata": {},
   "outputs": [],
   "source": [
    "def predict_and_evaluate(model, X_test, y_test):\n",
    "    '''Predict values for given model & test dataset\n",
    "    and evaluate the results in terms of FP, FN, F1-score,\n",
    "    Brier Score, AUC and G-Mean'''\n",
    "    \n",
    "    predictions = model.predict(X_test)\n",
    "    \n",
    "    accuracy = accuracy_score(y_test, predictions)\n",
    "    precision = precision_score(y_test, predictions)\n",
    "    recall = recall_score(y_test, predictions)\n",
    "    f1 = f1_score(y_test, predictions)\n",
    "#     mcc = matthews_corrcoef(y_test,predictions)\n",
    "    tn, fp, fn, tp = confusion_matrix(y_test, predictions).ravel()\n",
    "    \n",
    "    metrics = [round(accuracy,2), fp, fn, round(precision,2), round(recall,2), round(f1,2)]\n",
    "    table_row = [[model.__class__.__name__] + metrics]\n",
    "    display(HTML(tabulate.tabulate(table_row,headers=('Algorithm','Accuracy', 'False Positives', \n",
    "                                                  'False Negatives', 'Precision', \n",
    "                                                  'Recall', 'F1 Score'), \n",
    "                                   tablefmt='html')))\n",
    "    return table_row"
   ]
  },
  {
   "cell_type": "code",
   "execution_count": 46,
   "id": "e4ac19e7-42be-438d-93dd-aa36816472dd",
   "metadata": {},
   "outputs": [
    {
     "data": {
      "text/html": [
       "<table>\n",
       "<thead>\n",
       "<tr><th>Algorithm         </th><th style=\"text-align: right;\">  Accuracy</th><th style=\"text-align: right;\">  False Positives</th><th style=\"text-align: right;\">  False Negatives</th><th style=\"text-align: right;\">  Precision</th><th style=\"text-align: right;\">  Recall</th><th style=\"text-align: right;\">  F1 Score</th></tr>\n",
       "</thead>\n",
       "<tbody>\n",
       "<tr><td>CatBoostClassifier</td><td style=\"text-align: right;\">      0.77</td><td style=\"text-align: right;\">               20</td><td style=\"text-align: right;\">                8</td><td style=\"text-align: right;\">       0.79</td><td style=\"text-align: right;\">     0.9</td><td style=\"text-align: right;\">      0.84</td></tr>\n",
       "</tbody>\n",
       "</table>"
      ],
      "text/plain": [
       "<IPython.core.display.HTML object>"
      ]
     },
     "metadata": {},
     "output_type": "display_data"
    }
   ],
   "source": [
    "res = predict_and_evaluate(model, x_test, y_test)"
   ]
  },
  {
   "cell_type": "code",
   "execution_count": null,
   "id": "5ffa163f-e489-4ab6-b18d-5c012a633fd6",
   "metadata": {},
   "outputs": [],
   "source": []
  }
 ],
 "metadata": {
  "kernelspec": {
   "display_name": "Python 3",
   "language": "python",
   "name": "python3"
  },
  "language_info": {
   "codemirror_mode": {
    "name": "ipython",
    "version": 3
   },
   "file_extension": ".py",
   "mimetype": "text/x-python",
   "name": "python",
   "nbconvert_exporter": "python",
   "pygments_lexer": "ipython3",
   "version": "3.8.2"
  }
 },
 "nbformat": 4,
 "nbformat_minor": 5
}
