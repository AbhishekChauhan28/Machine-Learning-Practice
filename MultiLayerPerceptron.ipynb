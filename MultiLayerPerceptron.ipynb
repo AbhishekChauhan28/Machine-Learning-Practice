{
 "cells": [
  {
   "cell_type": "markdown",
   "id": "d0ade172-27b2-4cd7-aa42-08e34ce10b79",
   "metadata": {},
   "source": [
    " # Multi Layer Perceptron\n",
    " Technically, we're building a perceptron with one hidden layer."
   ]
  },
  {
   "cell_type": "code",
   "execution_count": 3,
   "id": "cada8b18-289e-471b-b83c-e8797637fbac",
   "metadata": {},
   "outputs": [],
   "source": [
    "import numpy as np\n",
    "import matplotlib.pyplot as plt\n",
    "from tensorflow.keras.datasets import mnist\n",
    "from tensorflow.keras.utils import to_categorical\n",
    "from tensorflow.keras.models import Sequential\n",
    "from tensorflow.keras.layers import Dense\n",
    "from tensorflow.keras.utils import model_to_dot\n",
    "from IPython.display import SVG\n",
    "from termcolor import colored\n",
    "from tensorflow.keras.datasets import mnist"
   ]
  },
  {
   "cell_type": "markdown",
   "id": "ca8cfa38-101a-4d35-95eb-02e573673581",
   "metadata": {},
   "source": [
    "####  Loads the training and test data sets"
   ]
  },
  {
   "cell_type": "code",
   "execution_count": 4,
   "id": "c65d43d3-ace7-4df4-bee0-2baf030ce995",
   "metadata": {},
   "outputs": [],
   "source": [
    "(x_train, y_train), (x_test, y_test) = mnist.load_data()"
   ]
  },
  {
   "cell_type": "code",
   "execution_count": 5,
   "id": "43a678fd-3d57-4ef2-a51d-3d0d67e84bcd",
   "metadata": {},
   "outputs": [
    {
     "data": {
      "text/plain": [
       "<matplotlib.image.AxesImage at 0x7f4baa8f00d0>"
      ]
     },
     "execution_count": 5,
     "metadata": {},
     "output_type": "execute_result"
    }
   ],
   "source": [
    "first_image = x_train[0, :, :]\n",
    "plt.imshow(first_image, cmap=plt.cm.Greys)"
   ]
  },
  {
   "cell_type": "code",
   "execution_count": 6,
   "id": "72533046-03f7-4610-b911-60973cbb4f7d",
   "metadata": {},
   "outputs": [
    {
     "data": {
      "text/plain": [
       "10"
      ]
     },
     "execution_count": 6,
     "metadata": {},
     "output_type": "execute_result"
    }
   ],
   "source": [
    "num_classes = len(np.unique(y_train))\n",
    "num_classes"
   ]
  },
  {
   "cell_type": "code",
   "execution_count": 7,
   "id": "0ea6c50e-16c2-46cc-8fa2-1d7abaa7ccae",
   "metadata": {},
   "outputs": [
    {
     "data": {
      "text/plain": [
       "3"
      ]
     },
     "execution_count": 7,
     "metadata": {},
     "output_type": "execute_result"
    }
   ],
   "source": [
    "x_train.ndim"
   ]
  },
  {
   "cell_type": "code",
   "execution_count": 8,
   "id": "c4c2fe3e-98bc-40fb-a07f-70ca4af0e40b",
   "metadata": {},
   "outputs": [
    {
     "data": {
      "text/plain": [
       "(60000, 28, 28)"
      ]
     },
     "execution_count": 8,
     "metadata": {},
     "output_type": "execute_result"
    }
   ],
   "source": [
    "x_train.shape"
   ]
  },
  {
   "cell_type": "code",
   "execution_count": 9,
   "id": "02c1e544-2bd7-4b88-8f83-4d2914c1e50d",
   "metadata": {},
   "outputs": [
    {
     "data": {
      "text/plain": [
       "(60000, 28, 28)"
      ]
     },
     "execution_count": 9,
     "metadata": {},
     "output_type": "execute_result"
    }
   ],
   "source": [
    "x_train.shape"
   ]
  },
  {
   "cell_type": "code",
   "execution_count": 10,
   "id": "90199b13-ab05-4e22-8d2e-a5edf7e846ea",
   "metadata": {},
   "outputs": [
    {
     "data": {
      "text/plain": [
       "(10000, 28, 28)"
      ]
     },
     "execution_count": 10,
     "metadata": {},
     "output_type": "execute_result"
    }
   ],
   "source": [
    "x_test.shape"
   ]
  },
  {
   "cell_type": "code",
   "execution_count": 11,
   "id": "c5ede6d5-ab80-4188-bc97-b6dfb9c2c8f5",
   "metadata": {},
   "outputs": [
    {
     "data": {
      "text/plain": [
       "(28, 28)"
      ]
     },
     "execution_count": 11,
     "metadata": {},
     "output_type": "execute_result"
    }
   ],
   "source": [
    "x_train.shape[1:]"
   ]
  },
  {
   "cell_type": "code",
   "execution_count": 12,
   "id": "b7687f8d-1ee6-47d2-86c8-8ead567abf0c",
   "metadata": {},
   "outputs": [
    {
     "data": {
      "text/plain": [
       "784"
      ]
     },
     "execution_count": 12,
     "metadata": {},
     "output_type": "execute_result"
    }
   ],
   "source": [
    "input_dim = np.prod(x_train.shape[1:])\n",
    "input_dim"
   ]
  },
  {
   "cell_type": "markdown",
   "id": "cd155021-38d9-4d4e-b15e-e08c97486ef9",
   "metadata": {},
   "source": [
    "### The training and test data sets are integers, ranging from 0 to 255.\n",
    "### We reshape the training and test data sets to be matrices with 784 (= 28 * 28) features."
   ]
  },
  {
   "cell_type": "code",
   "execution_count": 13,
   "id": "0a46c4fe-4f69-4da5-afb7-374f1982608d",
   "metadata": {},
   "outputs": [],
   "source": [
    "x_train = x_train.reshape(60000, input_dim).astype('float32')\n",
    "x_test = x_test.reshape(10000, input_dim).astype('float32')"
   ]
  },
  {
   "cell_type": "code",
   "execution_count": 14,
   "id": "f4a39949-4fe8-4ea8-b55b-290c526c47c5",
   "metadata": {},
   "outputs": [
    {
     "data": {
      "text/plain": [
       "(60000, 784)"
      ]
     },
     "execution_count": 14,
     "metadata": {},
     "output_type": "execute_result"
    }
   ],
   "source": [
    " x_train.shape"
   ]
  },
  {
   "cell_type": "markdown",
   "id": "39ad7fe3-aa50-4bf8-9525-5a72d4d80ff1",
   "metadata": {},
   "source": [
    "### Scales the training and test data to range between 0 and 1."
   ]
  },
  {
   "cell_type": "code",
   "execution_count": 15,
   "id": "48bbb857-27d7-4abb-80a0-78e24c0da38d",
   "metadata": {},
   "outputs": [],
   "source": [
    "max_value = x_train.max()\n",
    "x_train /= max_value  # sum += 1\n",
    "x_test /= max_value"
   ]
  },
  {
   "cell_type": "markdown",
   "id": "6667b755-f854-46bb-8e81-0e51a1c27a90",
   "metadata": {},
   "source": [
    "### The training and test labels are integers from 0 to 9 indicating the class label"
   ]
  },
  {
   "cell_type": "code",
   "execution_count": 16,
   "id": "efe76799-1d81-4900-956f-f43baab8f963",
   "metadata": {},
   "outputs": [
    {
     "data": {
      "text/plain": [
       "(array([5, 0, 4, ..., 5, 6, 8], dtype=uint8),\n",
       " array([7, 2, 1, ..., 4, 5, 6], dtype=uint8))"
      ]
     },
     "execution_count": 16,
     "metadata": {},
     "output_type": "execute_result"
    }
   ],
   "source": [
    "(y_train, y_test)"
   ]
  },
  {
   "cell_type": "markdown",
   "id": "65c6b47d-8c48-423d-a00a-4562dd3b0553",
   "metadata": {},
   "source": [
    "### We convert the class labels to binary class matrices"
   ]
  },
  {
   "cell_type": "code",
   "execution_count": 17,
   "id": "4bd0c85c-0552-4793-8cc6-f2eddce2d508",
   "metadata": {},
   "outputs": [],
   "source": [
    "y_train = to_categorical(y_train, num_classes)\n",
    "y_test = to_categorical(y_test, num_classes)"
   ]
  },
  {
   "cell_type": "code",
   "execution_count": 18,
   "id": "7e57c9ef-91d9-46ce-aefa-c3f1b38ba072",
   "metadata": {},
   "outputs": [
    {
     "data": {
      "text/plain": [
       "array([[0., 0., 0., ..., 0., 0., 0.],\n",
       "       [1., 0., 0., ..., 0., 0., 0.],\n",
       "       [0., 0., 0., ..., 0., 0., 0.],\n",
       "       ...,\n",
       "       [0., 0., 0., ..., 0., 0., 0.],\n",
       "       [0., 0., 0., ..., 0., 0., 0.],\n",
       "       [0., 0., 0., ..., 0., 1., 0.]], dtype=float32)"
      ]
     },
     "execution_count": 18,
     "metadata": {},
     "output_type": "execute_result"
    }
   ],
   "source": [
    "y_train"
   ]
  },
  {
   "cell_type": "markdown",
   "id": "32724876-a2d9-40d0-ac64-06dec99b9178",
   "metadata": {},
   "source": [
    "## Build the Model"
   ]
  },
  {
   "cell_type": "code",
   "execution_count": 19,
   "id": "c3fb8c3f-4cc9-4fcd-89f9-de9c07e30fe2",
   "metadata": {},
   "outputs": [],
   "source": [
    "model = Sequential()"
   ]
  },
  {
   "cell_type": "code",
   "execution_count": 20,
   "id": "4196f5d5-0523-48a8-83f2-fe75bd790213",
   "metadata": {},
   "outputs": [
    {
     "data": {
      "text/plain": [
       "784"
      ]
     },
     "execution_count": 20,
     "metadata": {},
     "output_type": "execute_result"
    }
   ],
   "source": [
    "input_dim"
   ]
  },
  {
   "cell_type": "markdown",
   "id": "a5b1a190-b815-48a9-9052-57d635ea2019",
   "metadata": {},
   "source": [
    "### Add 1st Layer"
   ]
  },
  {
   "cell_type": "code",
   "execution_count": 21,
   "id": "c09fbab8-1cfc-403e-8f12-2fbe76b4eec5",
   "metadata": {},
   "outputs": [],
   "source": [
    "model.add(Dense(512, activation = 'relu', input_shape = (input_dim,)))"
   ]
  },
  {
   "cell_type": "markdown",
   "id": "b01bc527-c79d-48f7-b68a-3056886f5346",
   "metadata": {},
   "source": [
    "### Add 2nd Layer"
   ]
  },
  {
   "cell_type": "code",
   "execution_count": 22,
   "id": "b6d9997a-64c6-44eb-9d8b-530d700a436c",
   "metadata": {},
   "outputs": [],
   "source": [
    "model.add(Dense(num_classes, activation = 'softmax'))"
   ]
  },
  {
   "cell_type": "markdown",
   "id": "6e92c943-6daa-4256-9e34-de699b873d15",
   "metadata": {},
   "source": [
    "## Summarize the Model\n",
    "\n",
    "The summary includes information about:\n",
    "\n",
    "- The layers and their order in the model.\n",
    "- The output shape of each layer.\n",
    "- The number of parameters (weights) in each layer.\n",
    "- The total number of parameters (weights) in the model."
   ]
  },
  {
   "cell_type": "code",
   "execution_count": 23,
   "id": "1f312cfc-9879-44ff-a407-b058c3e414bb",
   "metadata": {},
   "outputs": [
    {
     "name": "stdout",
     "output_type": "stream",
     "text": [
      "Model: \"sequential\"\n",
      "_________________________________________________________________\n",
      "Layer (type)                 Output Shape              Param #   \n",
      "=================================================================\n",
      "dense (Dense)                (None, 512)               401920    \n",
      "_________________________________________________________________\n",
      "dense_1 (Dense)              (None, 10)                5130      \n",
      "=================================================================\n",
      "Total params: 407,050\n",
      "Trainable params: 407,050\n",
      "Non-trainable params: 0\n",
      "_________________________________________________________________\n"
     ]
    }
   ],
   "source": [
    "model.summary()"
   ]
  },
  {
   "cell_type": "markdown",
   "id": "63766f54-0d4c-4445-99c1-4bda2b7261a2",
   "metadata": {},
   "source": [
    "## Visualize the Model"
   ]
  },
  {
   "cell_type": "code",
   "execution_count": 26,
   "id": "89ffbf8d-3dc8-4d5b-bb38-b6f478c923a2",
   "metadata": {},
   "outputs": [
    {
     "data": {
      "image/svg+xml": [
       "<svg xmlns=\"http://www.w3.org/2000/svg\" xmlns:xlink=\"http://www.w3.org/1999/xlink\" width=\"508pt\" height=\"295pt\" viewBox=\"0.00 0.00 381.00 221.00\">\n",
       "<g id=\"graph0\" class=\"graph\" transform=\"scale(1.3333 1.3333) rotate(0) translate(4 217)\">\n",
       "<title>G</title>\n",
       "<polygon fill=\"#ffffff\" stroke=\"transparent\" points=\"-4,4 -4,-217 377,-217 377,4 -4,4\"/>\n",
       "<!-- 139963103181456 -->\n",
       "<g id=\"node1\" class=\"node\">\n",
       "<title>139963103181456</title>\n",
       "<polygon fill=\"none\" stroke=\"#000000\" points=\"0,-166.5 0,-212.5 373,-212.5 373,-166.5 0,-166.5\"/>\n",
       "<text text-anchor=\"middle\" x=\"96.5\" y=\"-185.8\" font-family=\"Times,serif\" font-size=\"14.00\" fill=\"#000000\">dense_input: InputLayer</text>\n",
       "<polyline fill=\"none\" stroke=\"#000000\" points=\"193,-166.5 193,-212.5 \"/>\n",
       "<text text-anchor=\"middle\" x=\"227\" y=\"-197.3\" font-family=\"Times,serif\" font-size=\"14.00\" fill=\"#000000\">input:</text>\n",
       "<polyline fill=\"none\" stroke=\"#000000\" points=\"193,-189.5 261,-189.5 \"/>\n",
       "<text text-anchor=\"middle\" x=\"227\" y=\"-174.3\" font-family=\"Times,serif\" font-size=\"14.00\" fill=\"#000000\">output:</text>\n",
       "<polyline fill=\"none\" stroke=\"#000000\" points=\"261,-166.5 261,-212.5 \"/>\n",
       "<text text-anchor=\"middle\" x=\"317\" y=\"-197.3\" font-family=\"Times,serif\" font-size=\"14.00\" fill=\"#000000\">[(None, 784)]</text>\n",
       "<polyline fill=\"none\" stroke=\"#000000\" points=\"261,-189.5 373,-189.5 \"/>\n",
       "<text text-anchor=\"middle\" x=\"317\" y=\"-174.3\" font-family=\"Times,serif\" font-size=\"14.00\" fill=\"#000000\">[(None, 784)]</text>\n",
       "</g>\n",
       "<!-- 139963103181696 -->\n",
       "<g id=\"node2\" class=\"node\">\n",
       "<title>139963103181696</title>\n",
       "<polygon fill=\"none\" stroke=\"#000000\" points=\"46,-83.5 46,-129.5 327,-129.5 327,-83.5 46,-83.5\"/>\n",
       "<text text-anchor=\"middle\" x=\"102\" y=\"-102.8\" font-family=\"Times,serif\" font-size=\"14.00\" fill=\"#000000\">dense: Dense</text>\n",
       "<polyline fill=\"none\" stroke=\"#000000\" points=\"158,-83.5 158,-129.5 \"/>\n",
       "<text text-anchor=\"middle\" x=\"192\" y=\"-114.3\" font-family=\"Times,serif\" font-size=\"14.00\" fill=\"#000000\">input:</text>\n",
       "<polyline fill=\"none\" stroke=\"#000000\" points=\"158,-106.5 226,-106.5 \"/>\n",
       "<text text-anchor=\"middle\" x=\"192\" y=\"-91.3\" font-family=\"Times,serif\" font-size=\"14.00\" fill=\"#000000\">output:</text>\n",
       "<polyline fill=\"none\" stroke=\"#000000\" points=\"226,-83.5 226,-129.5 \"/>\n",
       "<text text-anchor=\"middle\" x=\"276.5\" y=\"-114.3\" font-family=\"Times,serif\" font-size=\"14.00\" fill=\"#000000\">(None, 784)</text>\n",
       "<polyline fill=\"none\" stroke=\"#000000\" points=\"226,-106.5 327,-106.5 \"/>\n",
       "<text text-anchor=\"middle\" x=\"276.5\" y=\"-91.3\" font-family=\"Times,serif\" font-size=\"14.00\" fill=\"#000000\">(None, 512)</text>\n",
       "</g>\n",
       "<!-- 139963103181456&#45;&gt;139963103181696 -->\n",
       "<g id=\"edge1\" class=\"edge\">\n",
       "<title>139963103181456-&gt;139963103181696</title>\n",
       "<path fill=\"none\" stroke=\"#000000\" d=\"M186.5,-166.3799C186.5,-158.1745 186.5,-148.7679 186.5,-139.8786\"/>\n",
       "<polygon fill=\"#000000\" stroke=\"#000000\" points=\"190.0001,-139.784 186.5,-129.784 183.0001,-139.784 190.0001,-139.784\"/>\n",
       "</g>\n",
       "<!-- 139963103181360 -->\n",
       "<g id=\"node3\" class=\"node\">\n",
       "<title>139963103181360</title>\n",
       "<polygon fill=\"none\" stroke=\"#000000\" points=\"38,-.5 38,-46.5 335,-46.5 335,-.5 38,-.5\"/>\n",
       "<text text-anchor=\"middle\" x=\"102\" y=\"-19.8\" font-family=\"Times,serif\" font-size=\"14.00\" fill=\"#000000\">dense_1: Dense</text>\n",
       "<polyline fill=\"none\" stroke=\"#000000\" points=\"166,-.5 166,-46.5 \"/>\n",
       "<text text-anchor=\"middle\" x=\"200\" y=\"-31.3\" font-family=\"Times,serif\" font-size=\"14.00\" fill=\"#000000\">input:</text>\n",
       "<polyline fill=\"none\" stroke=\"#000000\" points=\"166,-23.5 234,-23.5 \"/>\n",
       "<text text-anchor=\"middle\" x=\"200\" y=\"-8.3\" font-family=\"Times,serif\" font-size=\"14.00\" fill=\"#000000\">output:</text>\n",
       "<polyline fill=\"none\" stroke=\"#000000\" points=\"234,-.5 234,-46.5 \"/>\n",
       "<text text-anchor=\"middle\" x=\"284.5\" y=\"-31.3\" font-family=\"Times,serif\" font-size=\"14.00\" fill=\"#000000\">(None, 512)</text>\n",
       "<polyline fill=\"none\" stroke=\"#000000\" points=\"234,-23.5 335,-23.5 \"/>\n",
       "<text text-anchor=\"middle\" x=\"284.5\" y=\"-8.3\" font-family=\"Times,serif\" font-size=\"14.00\" fill=\"#000000\">(None, 10)</text>\n",
       "</g>\n",
       "<!-- 139963103181696&#45;&gt;139963103181360 -->\n",
       "<g id=\"edge2\" class=\"edge\">\n",
       "<title>139963103181696-&gt;139963103181360</title>\n",
       "<path fill=\"none\" stroke=\"#000000\" d=\"M186.5,-83.3799C186.5,-75.1745 186.5,-65.7679 186.5,-56.8786\"/>\n",
       "<polygon fill=\"#000000\" stroke=\"#000000\" points=\"190.0001,-56.784 186.5,-46.784 183.0001,-56.784 190.0001,-56.784\"/>\n",
       "</g>\n",
       "</g>\n",
       "</svg>"
      ],
      "text/plain": [
       "<IPython.core.display.SVG object>"
      ]
     },
     "execution_count": 26,
     "metadata": {},
     "output_type": "execute_result"
    }
   ],
   "source": [
    "SVG(model_to_dot(model, show_shapes = True).create(prog = 'dot', format = 'svg'))"
   ]
  },
  {
   "cell_type": "markdown",
   "id": "7b8d7f32-5a8e-4e46-8d6e-673b3e970c1e",
   "metadata": {},
   "source": [
    "## Train the model"
   ]
  },
  {
   "cell_type": "markdown",
   "id": "6607f4be-e9ff-4ee8-9f28-cd401d5d8b03",
   "metadata": {},
   "source": [
    "### Trains the model, iterating on the training data in batches of 32 in 3 epochs.\n",
    "\n",
    "#### Configures the model for training"
   ]
  },
  {
   "cell_type": "code",
   "execution_count": 27,
   "id": "d79e0144-cb8a-4626-9b14-d6d21e81dbb3",
   "metadata": {},
   "outputs": [],
   "source": [
    "model.compile(optimizer = 'adam', loss = 'categorical_crossentropy', metrics = ['accuracy'])"
   ]
  },
  {
   "cell_type": "markdown",
   "id": "b8ce06e1-be86-407c-8677-ed14c2a0e439",
   "metadata": {},
   "source": [
    "#### Trains the model for a fixed number of epochs (iterations on a dataset)"
   ]
  },
  {
   "cell_type": "code",
   "execution_count": 28,
   "id": "2086e1b1-657b-42f0-bde7-bbe15472cfe6",
   "metadata": {},
   "outputs": [
    {
     "name": "stdout",
     "output_type": "stream",
     "text": [
      "Epoch 1/3\n",
      "1875/1875 [==============================] - 5s 2ms/step - loss: 0.2036 - accuracy: 0.9396\n",
      "Epoch 2/3\n",
      "1875/1875 [==============================] - 6s 3ms/step - loss: 0.0810 - accuracy: 0.9757\n",
      "Epoch 3/3\n",
      "1875/1875 [==============================] - 5s 2ms/step - loss: 0.0541 - accuracy: 0.9824\n"
     ]
    },
    {
     "data": {
      "text/plain": [
       "<keras.callbacks.History at 0x7f4bc8d7faf0>"
      ]
     },
     "execution_count": 28,
     "metadata": {},
     "output_type": "execute_result"
    }
   ],
   "source": [
    "model.fit(x_train, y_train, batch_size = 32, epochs = 3, verbose = 1)"
   ]
  },
  {
   "cell_type": "markdown",
   "id": "f983a102-7560-481c-ae0b-ad984f007eb8",
   "metadata": {},
   "source": [
    "## Model Evaluation"
   ]
  },
  {
   "cell_type": "markdown",
   "id": "4e3e7431-0e4f-483b-93eb-f6aba89854e3",
   "metadata": {},
   "source": [
    "#### Test accuracy"
   ]
  },
  {
   "cell_type": "code",
   "execution_count": 29,
   "id": "e98691ad-76bf-45e9-9bee-362c54221d01",
   "metadata": {},
   "outputs": [
    {
     "name": "stdout",
     "output_type": "stream",
     "text": [
      "313/313 [==============================] - 0s 807us/step - loss: 0.0639 - accuracy: 0.9796\n"
     ]
    },
    {
     "data": {
      "text/plain": [
       "[0.06391038745641708, 0.9796000123023987]"
      ]
     },
     "execution_count": 29,
     "metadata": {},
     "output_type": "execute_result"
    }
   ],
   "source": [
    "model.evaluate(x_test, y_test)"
   ]
  },
  {
   "cell_type": "markdown",
   "id": "5c7d1522-ff03-483c-8a32-24dc205e565e",
   "metadata": {},
   "source": [
    "## Predicting on Test Images"
   ]
  },
  {
   "cell_type": "code",
   "execution_count": 30,
   "id": "b9a7ed55-1b28-4569-b23e-2a89a56db979",
   "metadata": {},
   "outputs": [],
   "source": [
    "first_test_image = x_test[0, :]\n",
    "plt.imshow(first_test_image.reshape(28, 28), cmap=plt.cm.Greys);"
   ]
  },
  {
   "cell_type": "code",
   "execution_count": 31,
   "id": "35bf41ab-a9b4-4b3b-b421-1d6c1e1c7b56",
   "metadata": {},
   "outputs": [
    {
     "data": {
      "text/plain": [
       "array([[7.58057261e-09, 3.95653954e-09, 1.26128896e-06, 1.58095500e-04,\n",
       "        4.81180477e-11, 1.12854536e-07, 5.25239357e-12, 9.99834538e-01,\n",
       "        2.25302816e-08, 5.94850781e-06]], dtype=float32)"
      ]
     },
     "execution_count": 31,
     "metadata": {},
     "output_type": "execute_result"
    }
   ],
   "source": [
    "model.predict(x_test[[0]])"
   ]
  },
  {
   "cell_type": "code",
   "execution_count": 32,
   "id": "d8b69e4e-e0d3-47ea-a6e9-7adb997081b6",
   "metadata": {},
   "outputs": [],
   "source": [
    "second_test_image = x_test[1, :]\n",
    "plt.imshow(second_test_image.reshape(28, 28), cmap=plt.cm.Greys);"
   ]
  },
  {
   "cell_type": "code",
   "execution_count": 33,
   "id": "c8752bc6-68c9-4b35-afca-02ea04e01466",
   "metadata": {},
   "outputs": [
    {
     "data": {
      "text/plain": [
       "array([[6.0568077e-08, 4.1320589e-03, 9.9585563e-01, 9.9889494e-06,\n",
       "        2.6165290e-11, 2.9371336e-07, 9.1884874e-07, 1.8021874e-09,\n",
       "        9.2514529e-07, 4.6547601e-12]], dtype=float32)"
      ]
     },
     "execution_count": 33,
     "metadata": {},
     "output_type": "execute_result"
    }
   ],
   "source": [
    "model.predict(x_test[[1]])"
   ]
  },
  {
   "cell_type": "code",
   "execution_count": 34,
   "id": "0ac4363d-b00c-42b6-bd79-9ac3a4777459",
   "metadata": {},
   "outputs": [],
   "source": [
    "model.save(\"model.h5\", save_format='h5')"
   ]
  },
  {
   "cell_type": "code",
   "execution_count": null,
   "id": "34c053da-1fdc-42be-afa9-ae40b37fdca5",
   "metadata": {},
   "outputs": [],
   "source": []
  },
  {
   "cell_type": "code",
   "execution_count": null,
   "id": "f64cfce9-14df-4231-aac5-441716c66f14",
   "metadata": {},
   "outputs": [],
   "source": []
  }
 ],
 "metadata": {
  "kernelspec": {
   "display_name": "Python 3",
   "language": "python",
   "name": "python3"
  },
  "language_info": {
   "codemirror_mode": {
    "name": "ipython",
    "version": 3
   },
   "file_extension": ".py",
   "mimetype": "text/x-python",
   "name": "python",
   "nbconvert_exporter": "python",
   "pygments_lexer": "ipython3",
   "version": "3.8.10"
  }
 },
 "nbformat": 4,
 "nbformat_minor": 5
}
